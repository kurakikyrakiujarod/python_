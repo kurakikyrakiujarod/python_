{
 "cells": [
  {
   "cell_type": "code",
   "execution_count": 1,
   "metadata": {},
   "outputs": [],
   "source": [
    "import numpy as np"
   ]
  },
  {
   "cell_type": "markdown",
   "metadata": {},
   "source": [
    "### 3.2.2 ndarray的形状"
   ]
  },
  {
   "cell_type": "code",
   "execution_count": 2,
   "metadata": {},
   "outputs": [],
   "source": [
    "a = np.array([[1,2,3],[4,5,6]])\n",
    "b = np.array([1,2,3,4])\n",
    "c = np.array([[[1,2,3],[4,5,6]],[[1,2,3],[4,5,6]]])"
   ]
  },
  {
   "cell_type": "code",
   "execution_count": 3,
   "metadata": {},
   "outputs": [
    {
     "name": "stdout",
     "output_type": "stream",
     "text": [
      "[[1 2 3]\n",
      " [4 5 6]]\n"
     ]
    }
   ],
   "source": [
    "# (2, 3)\n",
    "print(a)"
   ]
  },
  {
   "cell_type": "code",
   "execution_count": 4,
   "metadata": {},
   "outputs": [
    {
     "name": "stdout",
     "output_type": "stream",
     "text": [
      "[1 2 3 4]\n"
     ]
    }
   ],
   "source": [
    "# (4,)\n",
    "print(b)"
   ]
  },
  {
   "cell_type": "code",
   "execution_count": 5,
   "metadata": {},
   "outputs": [
    {
     "name": "stdout",
     "output_type": "stream",
     "text": [
      "[[[1 2 3]\n",
      "  [4 5 6]]\n",
      "\n",
      " [[1 2 3]\n",
      "  [4 5 6]]]\n"
     ]
    }
   ],
   "source": [
    "# (2, 2, 3)\n",
    "print(c)"
   ]
  },
  {
   "cell_type": "code",
   "execution_count": 6,
   "metadata": {},
   "outputs": [
    {
     "name": "stdout",
     "output_type": "stream",
     "text": [
      "(2, 3)\n"
     ]
    }
   ],
   "source": [
    "print(a.shape)"
   ]
  },
  {
   "cell_type": "code",
   "execution_count": 7,
   "metadata": {},
   "outputs": [
    {
     "name": "stdout",
     "output_type": "stream",
     "text": [
      "(4,)\n"
     ]
    }
   ],
   "source": [
    "print(b.shape)"
   ]
  },
  {
   "cell_type": "code",
   "execution_count": 8,
   "metadata": {},
   "outputs": [
    {
     "name": "stdout",
     "output_type": "stream",
     "text": [
      "(2, 2, 3)\n"
     ]
    }
   ],
   "source": [
    "print(c.shape)"
   ]
  },
  {
   "cell_type": "markdown",
   "metadata": {},
   "source": [
    "### 3.2.3 ndarray的类型"
   ]
  },
  {
   "cell_type": "code",
   "execution_count": 9,
   "metadata": {},
   "outputs": [
    {
     "name": "stdout",
     "output_type": "stream",
     "text": [
      "float32\n"
     ]
    }
   ],
   "source": [
    "# 创建数组的时候指定类型\n",
    "data = np.array([1.1, 2.2, 3.3], dtype=\"float32\")\n",
    "print(data.dtype)"
   ]
  },
  {
   "cell_type": "code",
   "execution_count": 10,
   "metadata": {},
   "outputs": [
    {
     "name": "stdout",
     "output_type": "stream",
     "text": [
      "float32\n"
     ]
    }
   ],
   "source": [
    "data = np.array([1.1, 2.2, 3.3], dtype=np.float32)\n",
    "print(data.dtype)"
   ]
  },
  {
   "cell_type": "markdown",
   "metadata": {},
   "source": [
    "### 3.3.1 生成数组的方法"
   ]
  },
  {
   "cell_type": "code",
   "execution_count": 11,
   "metadata": {},
   "outputs": [
    {
     "name": "stdout",
     "output_type": "stream",
     "text": [
      "[[0. 0. 0. 0.]\n",
      " [0. 0. 0. 0.]\n",
      " [0. 0. 0. 0.]]\n"
     ]
    }
   ],
   "source": [
    "# 1 生成0和1的数组\n",
    "print(np.zeros(shape=(3, 4), dtype=\"float32\"))"
   ]
  },
  {
   "cell_type": "code",
   "execution_count": 12,
   "metadata": {},
   "outputs": [
    {
     "name": "stdout",
     "output_type": "stream",
     "text": [
      "[[1 1 1]\n",
      " [1 1 1]]\n"
     ]
    }
   ],
   "source": [
    "print(np.ones(shape=[2, 3], dtype=np.int32))"
   ]
  },
  {
   "cell_type": "markdown",
   "metadata": {},
   "source": [
    "### 2 从现有数组生成\n"
   ]
  },
  {
   "cell_type": "code",
   "execution_count": 13,
   "metadata": {},
   "outputs": [
    {
     "name": "stdout",
     "output_type": "stream",
     "text": [
      "[[80 89 86 67 79]\n",
      " [78 97 89 67 81]\n",
      " [90 94 78 67 74]\n",
      " [91 91 90 67 69]\n",
      " [76 87 75 67 86]\n",
      " [70 79 84 67 84]\n",
      " [94 92 93 67 64]\n",
      " [86 85 83 67 80]]\n"
     ]
    }
   ],
   "source": [
    "score = np.array([[80, 89, 86, 67, 79],\n",
    "                 [78, 97, 89, 67, 81],\n",
    "                 [90, 94, 78, 67, 74],\n",
    "                 [91, 91, 90, 67, 69],\n",
    "                 [76, 87, 75, 67, 86],\n",
    "                 [70, 79, 84, 67, 84],\n",
    "                 [94, 92, 93, 67, 64],\n",
    "                 [86, 85, 83, 67, 80]])\n",
    "print(score)"
   ]
  },
  {
   "cell_type": "code",
   "execution_count": 14,
   "metadata": {},
   "outputs": [
    {
     "name": "stdout",
     "output_type": "stream",
     "text": [
      "[[80 89 86 67 79]\n",
      " [78 97 89 67 81]\n",
      " [90 94 78 67 74]\n",
      " [91 91 90 67 69]\n",
      " [76 87 75 67 86]\n",
      " [70 79 84 67 84]\n",
      " [94 92 93 67 64]\n",
      " [86 85 83 67 80]]\n"
     ]
    }
   ],
   "source": [
    "# np.array()\n",
    "data1 = np.array(score)\n",
    "print(data1)"
   ]
  },
  {
   "cell_type": "code",
   "execution_count": 15,
   "metadata": {},
   "outputs": [
    {
     "name": "stdout",
     "output_type": "stream",
     "text": [
      "[[80 89 86 67 79]\n",
      " [78 97 89 67 81]\n",
      " [90 94 78 67 74]\n",
      " [91 91 90 67 69]\n",
      " [76 87 75 67 86]\n",
      " [70 79 84 67 84]\n",
      " [94 92 93 67 64]\n",
      " [86 85 83 67 80]]\n"
     ]
    }
   ],
   "source": [
    "# np.asarray()\n",
    "data2 = np.asarray(score)\n",
    "print(data2)"
   ]
  },
  {
   "cell_type": "code",
   "execution_count": 16,
   "metadata": {},
   "outputs": [
    {
     "name": "stdout",
     "output_type": "stream",
     "text": [
      "[[80 89 86 67 79]\n",
      " [78 97 89 67 81]\n",
      " [90 94 78 67 74]\n",
      " [91 91 90 67 69]\n",
      " [76 87 75 67 86]\n",
      " [70 79 84 67 84]\n",
      " [94 92 93 67 64]\n",
      " [86 85 83 67 80]]\n"
     ]
    }
   ],
   "source": [
    "# np.copy()\n",
    "data3 = np.copy(score)\n",
    "print(data3)"
   ]
  },
  {
   "cell_type": "code",
   "execution_count": 17,
   "metadata": {},
   "outputs": [
    {
     "name": "stdout",
     "output_type": "stream",
     "text": [
      "[[   80    89    86    67    79]\n",
      " [   78    97    89    67    81]\n",
      " [   90    94    78    67    74]\n",
      " [   91 10000    90    67    69]\n",
      " [   76    87    75    67    86]\n",
      " [   70    79    84    67    84]\n",
      " [   94    92    93    67    64]\n",
      " [   86    85    83    67    80]]\n"
     ]
    }
   ],
   "source": [
    "score[3, 1] = 10000\n",
    "print(score)"
   ]
  },
  {
   "cell_type": "code",
   "execution_count": 18,
   "metadata": {},
   "outputs": [
    {
     "name": "stdout",
     "output_type": "stream",
     "text": [
      "[[80 89 86 67 79]\n",
      " [78 97 89 67 81]\n",
      " [90 94 78 67 74]\n",
      " [91 91 90 67 69]\n",
      " [76 87 75 67 86]\n",
      " [70 79 84 67 84]\n",
      " [94 92 93 67 64]\n",
      " [86 85 83 67 80]]\n"
     ]
    }
   ],
   "source": [
    "print(data1)"
   ]
  },
  {
   "cell_type": "code",
   "execution_count": 19,
   "metadata": {},
   "outputs": [
    {
     "name": "stdout",
     "output_type": "stream",
     "text": [
      "[[   80    89    86    67    79]\n",
      " [   78    97    89    67    81]\n",
      " [   90    94    78    67    74]\n",
      " [   91 10000    90    67    69]\n",
      " [   76    87    75    67    86]\n",
      " [   70    79    84    67    84]\n",
      " [   94    92    93    67    64]\n",
      " [   86    85    83    67    80]]\n"
     ]
    }
   ],
   "source": [
    "print(data2)"
   ]
  },
  {
   "cell_type": "code",
   "execution_count": 20,
   "metadata": {},
   "outputs": [
    {
     "name": "stdout",
     "output_type": "stream",
     "text": [
      "[[80 89 86 67 79]\n",
      " [78 97 89 67 81]\n",
      " [90 94 78 67 74]\n",
      " [91 91 90 67 69]\n",
      " [76 87 75 67 86]\n",
      " [70 79 84 67 84]\n",
      " [94 92 93 67 64]\n",
      " [86 85 83 67 80]]\n"
     ]
    }
   ],
   "source": [
    "print(data3)"
   ]
  },
  {
   "cell_type": "markdown",
   "metadata": {},
   "source": [
    "### 4 生成随机数组"
   ]
  },
  {
   "cell_type": "code",
   "execution_count": 21,
   "metadata": {},
   "outputs": [
    {
     "name": "stdout",
     "output_type": "stream",
     "text": [
      "[-0.8116401  -0.48262815  0.29969812 ...  0.05927678  0.14253949\n",
      " -0.62924245]\n"
     ]
    }
   ],
   "source": [
    "data1 = np.random.uniform(low=-1, high=1, size=1000000)\n",
    "print(data1)"
   ]
  },
  {
   "cell_type": "code",
   "execution_count": 22,
   "metadata": {},
   "outputs": [],
   "source": [
    "import matplotlib.pyplot as plt"
   ]
  },
  {
   "cell_type": "code",
   "execution_count": 23,
   "metadata": {},
   "outputs": [
    {
     "data": {
      "image/png": "[encoded data removed]",
      "text/plain": [
       "<Figure size 1600x640 with 1 Axes>"
      ]
     },
     "metadata": {},
     "output_type": "display_data"
    }
   ],
   "source": [
    "# 1、创建画布\n",
    "plt.figure(figsize=(20, 8), dpi=80)\n",
    "\n",
    "# 2、绘制直方图\n",
    "plt.hist(data1, 1000)\n",
    "\n",
    "# 3、显示图像\n",
    "plt.show()"
   ]
  },
  {
   "cell_type": "code",
   "execution_count": 24,
   "metadata": {},
   "outputs": [],
   "source": [
    "# 正态分布\n",
    "data2 = np.random.normal(loc=1.75, scale=0.1, size=1000000)"
   ]
  },
  {
   "cell_type": "code",
   "execution_count": 25,
   "metadata": {},
   "outputs": [
    {
     "name": "stdout",
     "output_type": "stream",
     "text": [
      "[1.75053185 1.69193952 1.81280013 ... 1.72578489 1.68014509 1.75489684]\n"
     ]
    }
   ],
   "source": [
    "print(data2)"
   ]
  },
  {
   "cell_type": "code",
   "execution_count": 26,
   "metadata": {},
   "outputs": [
    {
     "data": {
      "image/png": "[encoded data removed]",
      "text/plain": [
       "<Figure size 1600x640 with 1 Axes>"
      ]
     },
     "metadata": {},
     "output_type": "display_data"
    }
   ],
   "source": [
    "# 1、创建画布\n",
    "plt.figure(figsize=(20, 8), dpi=80)\n",
    "\n",
    "# 2、绘制直方图\n",
    "plt.hist(data2, 1000)\n",
    "\n",
    "# 3、显示图像\n",
    "plt.show()"
   ]
  },
  {
   "cell_type": "markdown",
   "metadata": {},
   "source": [
    "### 案例：随机生成8只股票2周的交易日涨幅数据"
   ]
  },
  {
   "cell_type": "code",
   "execution_count": 27,
   "metadata": {},
   "outputs": [
    {
     "name": "stdout",
     "output_type": "stream",
     "text": [
      "[[-0.22176586  0.63678028 -1.52197559  0.61849839  0.70949148 -2.04054356\n",
      "  -0.55366849 -1.09382717 -0.99297063  0.24498657]\n",
      " [ 0.49332872 -0.99501103  0.89695121  0.65402532  0.92002329  1.26145588\n",
      "  -1.74196375  1.16222399  0.52255585  0.78615265]\n",
      " [ 0.29986055 -0.04633195 -1.01290728 -0.34489373 -1.51522417 -0.88283501\n",
      "   2.0755093  -1.08177705  0.66602846  1.41296767]\n",
      " [ 1.36972373  0.75804969  0.05312271  0.29241719  0.03348128 -0.5863753\n",
      "   0.93351869  1.45528098  0.28134633  0.07762218]\n",
      " [-0.77112805  2.24154647 -1.18839638 -1.75596597 -2.13672078  1.48882216\n",
      "   0.61451628 -0.0474419  -1.18924774  2.7344251 ]\n",
      " [-0.26620877  0.70604116  0.45054155  0.21421901 -0.31824861  0.42036129\n",
      "  -0.80050854 -1.42689479 -1.69291063  1.30877276]\n",
      " [ 0.84648635  0.68672759  1.13170489  1.71821546  0.7349203   0.23173306\n",
      "   0.93130513  1.33828486 -0.51970503 -0.53317144]\n",
      " [-1.75173461  0.16391116 -1.46451353  0.24708528  0.41063843 -0.18949902\n",
      "  -1.15599541 -1.30347172  0.23571099  0.10033995]]\n"
     ]
    }
   ],
   "source": [
    "stock_change = np.random.normal(loc=0, scale=1, size=(8, 10))\n",
    "print(stock_change)"
   ]
  },
  {
   "cell_type": "code",
   "execution_count": 28,
   "metadata": {},
   "outputs": [
    {
     "name": "stdout",
     "output_type": "stream",
     "text": [
      "[-0.22176586  0.63678028 -1.52197559]\n"
     ]
    }
   ],
   "source": [
    "# 获取第一个股票的前3个交易日的涨跌幅数据\n",
    "print(stock_change[0, :3])"
   ]
  },
  {
   "cell_type": "code",
   "execution_count": 29,
   "metadata": {},
   "outputs": [],
   "source": [
    "a1 = np.array([ [[1,2,3],[4,5,6]], [[12,3,34],[5,6,7]]])"
   ]
  },
  {
   "cell_type": "code",
   "execution_count": 30,
   "metadata": {},
   "outputs": [
    {
     "name": "stdout",
     "output_type": "stream",
     "text": [
      "[[[ 1  2  3]\n",
      "  [ 4  5  6]]\n",
      "\n",
      " [[12  3 34]\n",
      "  [ 5  6  7]]]\n"
     ]
    }
   ],
   "source": [
    "# (2, 2, 3)\n",
    "print(a1)"
   ]
  },
  {
   "cell_type": "code",
   "execution_count": 31,
   "metadata": {},
   "outputs": [
    {
     "name": "stdout",
     "output_type": "stream",
     "text": [
      "(2, 2, 3)\n"
     ]
    }
   ],
   "source": [
    "print(a1.shape)"
   ]
  },
  {
   "cell_type": "code",
   "execution_count": 32,
   "metadata": {},
   "outputs": [],
   "source": [
    "a1[1, 0, 2] = 100000"
   ]
  },
  {
   "cell_type": "code",
   "execution_count": 33,
   "metadata": {},
   "outputs": [
    {
     "name": "stdout",
     "output_type": "stream",
     "text": [
      "[[[     1      2      3]\n",
      "  [     4      5      6]]\n",
      "\n",
      " [[    12      3 100000]\n",
      "  [     5      6      7]]]\n"
     ]
    }
   ],
   "source": [
    "print(a1)"
   ]
  },
  {
   "cell_type": "markdown",
   "metadata": {},
   "source": [
    "### 3.3.3 形状修改"
   ]
  },
  {
   "cell_type": "code",
   "execution_count": 34,
   "metadata": {},
   "outputs": [
    {
     "name": "stdout",
     "output_type": "stream",
     "text": [
      "[[-0.22176586  0.63678028 -1.52197559  0.61849839  0.70949148 -2.04054356\n",
      "  -0.55366849 -1.09382717 -0.99297063  0.24498657]\n",
      " [ 0.49332872 -0.99501103  0.89695121  0.65402532  0.92002329  1.26145588\n",
      "  -1.74196375  1.16222399  0.52255585  0.78615265]\n",
      " [ 0.29986055 -0.04633195 -1.01290728 -0.34489373 -1.51522417 -0.88283501\n",
      "   2.0755093  -1.08177705  0.66602846  1.41296767]\n",
      " [ 1.36972373  0.75804969  0.05312271  0.29241719  0.03348128 -0.5863753\n",
      "   0.93351869  1.45528098  0.28134633  0.07762218]\n",
      " [-0.77112805  2.24154647 -1.18839638 -1.75596597 -2.13672078  1.48882216\n",
      "   0.61451628 -0.0474419  -1.18924774  2.7344251 ]\n",
      " [-0.26620877  0.70604116  0.45054155  0.21421901 -0.31824861  0.42036129\n",
      "  -0.80050854 -1.42689479 -1.69291063  1.30877276]\n",
      " [ 0.84648635  0.68672759  1.13170489  1.71821546  0.7349203   0.23173306\n",
      "   0.93130513  1.33828486 -0.51970503 -0.53317144]\n",
      " [-1.75173461  0.16391116 -1.46451353  0.24708528  0.41063843 -0.18949902\n",
      "  -1.15599541 -1.30347172  0.23571099  0.10033995]]\n"
     ]
    }
   ],
   "source": [
    "# 需求：让刚才的股票行、日期列反过来，变成日期行，股票列\n",
    "print(stock_change)"
   ]
  },
  {
   "cell_type": "code",
   "execution_count": 35,
   "metadata": {},
   "outputs": [
    {
     "name": "stdout",
     "output_type": "stream",
     "text": [
      "[[-0.22176586  0.63678028 -1.52197559  0.61849839  0.70949148 -2.04054356\n",
      "  -0.55366849 -1.09382717]\n",
      " [-0.99297063  0.24498657  0.49332872 -0.99501103  0.89695121  0.65402532\n",
      "   0.92002329  1.26145588]\n",
      " [-1.74196375  1.16222399  0.52255585  0.78615265  0.29986055 -0.04633195\n",
      "  -1.01290728 -0.34489373]\n",
      " [-1.51522417 -0.88283501  2.0755093  -1.08177705  0.66602846  1.41296767\n",
      "   1.36972373  0.75804969]\n",
      " [ 0.05312271  0.29241719  0.03348128 -0.5863753   0.93351869  1.45528098\n",
      "   0.28134633  0.07762218]\n",
      " [-0.77112805  2.24154647 -1.18839638 -1.75596597 -2.13672078  1.48882216\n",
      "   0.61451628 -0.0474419 ]\n",
      " [-1.18924774  2.7344251  -0.26620877  0.70604116  0.45054155  0.21421901\n",
      "  -0.31824861  0.42036129]\n",
      " [-0.80050854 -1.42689479 -1.69291063  1.30877276  0.84648635  0.68672759\n",
      "   1.13170489  1.71821546]\n",
      " [ 0.7349203   0.23173306  0.93130513  1.33828486 -0.51970503 -0.53317144\n",
      "  -1.75173461  0.16391116]\n",
      " [-1.46451353  0.24708528  0.41063843 -0.18949902 -1.15599541 -1.30347172\n",
      "   0.23571099  0.10033995]]\n"
     ]
    }
   ],
   "source": [
    "print(stock_change.reshape((10, 8)))"
   ]
  },
  {
   "cell_type": "code",
   "execution_count": 37,
   "metadata": {},
   "outputs": [
    {
     "name": "stdout",
     "output_type": "stream",
     "text": [
      "(10, 8)\n"
     ]
    }
   ],
   "source": [
    "stock_change.resize((10, 8))\n",
    "print(stock_change.shape)"
   ]
  },
  {
   "cell_type": "code",
   "execution_count": 39,
   "metadata": {},
   "outputs": [
    {
     "name": "stdout",
     "output_type": "stream",
     "text": [
      "[[-0.22176586  0.63678028 -1.52197559  0.61849839  0.70949148 -2.04054356\n",
      "  -0.55366849 -1.09382717 -0.99297063  0.24498657]\n",
      " [ 0.49332872 -0.99501103  0.89695121  0.65402532  0.92002329  1.26145588\n",
      "  -1.74196375  1.16222399  0.52255585  0.78615265]\n",
      " [ 0.29986055 -0.04633195 -1.01290728 -0.34489373 -1.51522417 -0.88283501\n",
      "   2.0755093  -1.08177705  0.66602846  1.41296767]\n",
      " [ 1.36972373  0.75804969  0.05312271  0.29241719  0.03348128 -0.5863753\n",
      "   0.93351869  1.45528098  0.28134633  0.07762218]\n",
      " [-0.77112805  2.24154647 -1.18839638 -1.75596597 -2.13672078  1.48882216\n",
      "   0.61451628 -0.0474419  -1.18924774  2.7344251 ]\n",
      " [-0.26620877  0.70604116  0.45054155  0.21421901 -0.31824861  0.42036129\n",
      "  -0.80050854 -1.42689479 -1.69291063  1.30877276]\n",
      " [ 0.84648635  0.68672759  1.13170489  1.71821546  0.7349203   0.23173306\n",
      "   0.93130513  1.33828486 -0.51970503 -0.53317144]\n",
      " [-1.75173461  0.16391116 -1.46451353  0.24708528  0.41063843 -0.18949902\n",
      "  -1.15599541 -1.30347172  0.23571099  0.10033995]]\n"
     ]
    }
   ],
   "source": [
    "stock_change.resize((8, 10))\n",
    "print(stock_change)"
   ]
  },
  {
   "cell_type": "code",
   "execution_count": 40,
   "metadata": {},
   "outputs": [
    {
     "name": "stdout",
     "output_type": "stream",
     "text": [
      "[[-0.22176586  0.49332872  0.29986055  1.36972373 -0.77112805 -0.26620877\n",
      "   0.84648635 -1.75173461]\n",
      " [ 0.63678028 -0.99501103 -0.04633195  0.75804969  2.24154647  0.70604116\n",
      "   0.68672759  0.16391116]\n",
      " [-1.52197559  0.89695121 -1.01290728  0.05312271 -1.18839638  0.45054155\n",
      "   1.13170489 -1.46451353]\n",
      " [ 0.61849839  0.65402532 -0.34489373  0.29241719 -1.75596597  0.21421901\n",
      "   1.71821546  0.24708528]\n",
      " [ 0.70949148  0.92002329 -1.51522417  0.03348128 -2.13672078 -0.31824861\n",
      "   0.7349203   0.41063843]\n",
      " [-2.04054356  1.26145588 -0.88283501 -0.5863753   1.48882216  0.42036129\n",
      "   0.23173306 -0.18949902]\n",
      " [-0.55366849 -1.74196375  2.0755093   0.93351869  0.61451628 -0.80050854\n",
      "   0.93130513 -1.15599541]\n",
      " [-1.09382717  1.16222399 -1.08177705  1.45528098 -0.0474419  -1.42689479\n",
      "   1.33828486 -1.30347172]\n",
      " [-0.99297063  0.52255585  0.66602846  0.28134633 -1.18924774 -1.69291063\n",
      "  -0.51970503  0.23571099]\n",
      " [ 0.24498657  0.78615265  1.41296767  0.07762218  2.7344251   1.30877276\n",
      "  -0.53317144  0.10033995]]\n"
     ]
    }
   ],
   "source": [
    "print(stock_change.T)"
   ]
  },
  {
   "cell_type": "markdown",
   "metadata": {},
   "source": [
    "### 3.3.4 类型修改"
   ]
  },
  {
   "cell_type": "code",
   "execution_count": 41,
   "metadata": {},
   "outputs": [
    {
     "name": "stdout",
     "output_type": "stream",
     "text": [
      "[[ 0  0 -1  0  0 -2  0 -1  0  0]\n",
      " [ 0  0  0  0  0  1 -1  1  0  0]\n",
      " [ 0  0 -1  0 -1  0  2 -1  0  1]\n",
      " [ 1  0  0  0  0  0  0  1  0  0]\n",
      " [ 0  2 -1 -1 -2  1  0  0 -1  2]\n",
      " [ 0  0  0  0  0  0  0 -1 -1  1]\n",
      " [ 0  0  1  1  0  0  0  1  0  0]\n",
      " [-1  0 -1  0  0  0 -1 -1  0  0]]\n"
     ]
    }
   ],
   "source": [
    "print(stock_change.astype(\"int32\"))"
   ]
  },
  {
   "cell_type": "code",
   "execution_count": 42,
   "metadata": {},
   "outputs": [
    {
     "name": "stdout",
     "output_type": "stream",
     "text": [
      "b'\\xc0\\x93o\\xe4\\xd2b\\xcc\\xbfsz}\\t\\x81`\\xe4?\\x12\\n2\\x14\\x03Z\\xf8\\xbf\\xdbeX \\xbd\\xca\\xe3?\\xdfSv{\\'\\xb4\\xe6?\\xb9<%\\x80\\x08S\\x00\\xc0\\xd4GC\\xf9\\xa6\\xb7\\xe1\\xbf\\x1f\\x97\\x7f\\xecP\\x80\\xf1\\xbft\\x0f\\x93Uj\\xc6\\xef\\xbf\\xfe\\xad\\xbfV\\xb8[\\xcf?\\xa9~i\\xa2\\xb2\\x92\\xdf?\\xb10t`!\\xd7\\xef\\xbf\\xba\\xb0\\x12\\x05\\xd3\\xb3\\xec?\\x0b\\x9f\\x8b\\x83\\xc6\\xed\\xe4?\\xa3t\\x14\\xb0\\xd4p\\xed?\\x06\\xf8\\xc3\\\\\\xec.\\xf4?\\x91!Zb\\x15\\xdf\\xfb\\xbf\\xb7[\\x89.x\\x98\\xf2?\\xba\\x08\\xfe\\t\\xc7\\xb8\\xe0?f-\\xce\\x9b)(\\xe9?\\x0c\\x0e\\xbfJ\\xea0\\xd3?\\xd9\\xc2\\xb3E\\xd2\\xb8\\xa7\\xbf\\xbc\\xa0\\xfcC\\xde4\\xf0\\xbf43F*\\xbd\\x12\\xd6\\xbf\\x17\\xf4\\x8c\\xb2[>\\xf8\\xbf\\xfdl#5/@\\xec\\xbf0)\\x95\\x9e\\xa4\\x9a\\x00@\\x1a6\\xf2t\\xf5N\\xf1\\xbf\\xfd\\x81\\x1a\\xec\\x1aP\\xe5?\\x92\\xf7#\\xfc\\x83\\x9b\\xf6?\\xe6\\xdf[oc\\xea\\xf5?\\xb6\\x19\\to\\xf1A\\xe8?7\\x0c\\x03L\\xe62\\xab?\\xc9\\x06/\\x95\\xf6\\xb6\\xd2?\\x87/\\xadnu$\\xa1?i!\\xb3\"\\x96\\xc3\\xe2\\xbfe\\xa5\\x9a\\x97b\\xdf\\xed?\\xa2\\x845\\xb4\\xd4H\\xf7?(5\\x7f\\t\\x94\\x01\\xd2?\\xe9Q=\\x0c\\x0c\\xdf\\xb3?\\xb1\\xe9\\xa7\\xbc\\x14\\xad\\xe8\\xbf\\x04;\\xda\\xe9\\xaf\\xee\\x01@\\xd1\\x149\\xeb\\xab\\x03\\xf3\\xbfB\\x145\\xc5o\\x18\\xfc\\xbf\\xb7T\\x05\\x11\\x01\\x18\\x01\\xc0V\\x94S.7\\xd2\\xf7?\\x91\\xfe,\\x0e\\x1e\\xaa\\xe3?s\\x87g\\xf3MJ\\xa8\\xbf\\x7f\\xed.\\xa2(\\x07\\xf3\\xbf\\x8e\\xd8\\xe0C\\x1a\\xe0\\x05@h\\xff\\x11~\\x90\\t\\xd1\\xbf\\xb3\\x91\\xa6\\xa0\\xe3\\x97\\xe6?\\xe9y\\x949\\xac\\xd5\\xdc?\\xceQ\\xc7M\\x87k\\xcb?\\x1cO\\xcci/^\\xd4\\xbf\\x85\\r:\\x0b3\\xe7\\xda?\\xcbq\\xc7\\x13\\xc4\\x9d\\xe9\\xbfK\\x9a\\x85\\xa0\\x8f\\xd4\\xf6\\xbf\\x90d\\x9dt)\\x16\\xfb\\xbf\\xd8k\\xc6\\xb3\\xbb\\xf0\\xf4?\\x8a\\xcc>\\x88j\\x16\\xeb?2q\\xe4#\\xac\\xf9\\xe5?R#m\\x95v\\x1b\\xf2?\\x97<\\xad\\x7f\\xcf}\\xfb?\\x89\\x1a\\t\\x93w\\x84\\xe7?\\xd9\\x7f\\xd4\\xc9m\\xa9\\xcd?\\'\\x1a\\xe7g@\\xcd\\xed?-\\xd2ma\\x9di\\xf5?R\\x83\\x89ol\\xa1\\xe0\\xbf\\xa4\\xc0\\x19\\x8c\\xbd\\x0f\\xe1\\xbfX\\x8b\\xa1\\xdd\\x1a\\x07\\xfc\\xbf\\x15\\x9e$q\\n\\xfb\\xc4?\\x85\\xc0T\\xbe\\xa5n\\xf7\\xbf}4\\x8e\\x93}\\xa0\\xcf?\\x83\\xfc(f\\xe6G\\xda?\\xfe\"\\x88\\x03\\x81A\\xc8\\xbfg\\x9e\\xa5\\x0b\\xf5~\\xf2\\xbf\\x98r\")\\x05\\xdb\\xf4\\xbf\\xa6\"\\x85\\x12\\xc7+\\xce?3\\xff\\xe5\\n\\xe1\\xaf\\xb9?'\n"
     ]
    }
   ],
   "source": [
    "print(stock_change.tostring())"
   ]
  },
  {
   "cell_type": "markdown",
   "metadata": {},
   "source": [
    "### 3.3.5 数组的去重"
   ]
  },
  {
   "cell_type": "code",
   "execution_count": 43,
   "metadata": {},
   "outputs": [
    {
     "name": "stdout",
     "output_type": "stream",
     "text": [
      "[[1 2 3 4]\n",
      " [3 4 5 6]]\n"
     ]
    }
   ],
   "source": [
    "temp = np.array([[1, 2, 3, 4],[3, 4, 5, 6]])\n",
    "print(temp)"
   ]
  },
  {
   "cell_type": "code",
   "execution_count": 45,
   "metadata": {},
   "outputs": [
    {
     "name": "stdout",
     "output_type": "stream",
     "text": [
      "[1 2 3 4 5 6]\n"
     ]
    }
   ],
   "source": [
    "print(np.unique(temp))"
   ]
  },
  {
   "cell_type": "code",
   "execution_count": 46,
   "metadata": {},
   "outputs": [
    {
     "name": "stdout",
     "output_type": "stream",
     "text": [
      "{1, 2, 3, 4, 5, 6}\n"
     ]
    }
   ],
   "source": [
    "print(set(temp.flatten()))"
   ]
  },
  {
   "cell_type": "markdown",
   "metadata": {},
   "source": [
    "### 3.4.1 逻辑运算"
   ]
  },
  {
   "cell_type": "code",
   "execution_count": 47,
   "metadata": {},
   "outputs": [
    {
     "name": "stdout",
     "output_type": "stream",
     "text": [
      "[[ 0.3025634  -0.55433183 -0.08260566  0.72310285  0.70596499  1.84553949\n",
      "   0.3034737   2.02202292  1.03834442 -0.62697101]\n",
      " [-0.26244227 -0.81523929  0.86903273  1.02176049 -0.253175   -0.63251519\n",
      "  -0.57759454  1.31436714  0.66561804  1.0906568 ]\n",
      " [-0.321689    0.03577381 -0.09284973 -1.74336686  0.30543543 -1.12879557\n",
      "  -0.62171514 -2.05454148 -0.71884227 -1.78751753]\n",
      " [-0.10336219 -0.23098741 -0.17336209 -0.53528517 -0.42379294 -0.13458985\n",
      "   0.46641817  0.75868862  0.76148338 -0.17085558]\n",
      " [-0.4535163   0.4828802   1.10373182  0.58817937 -0.33968461  0.01472234\n",
      "   1.16271785  0.62357526  0.81086986  1.33062793]\n",
      " [-0.52521489  2.63478126 -0.48146649  0.20296832  1.51408702  1.91568293\n",
      "  -0.71248288 -1.73521104 -0.65984666  0.23410547]\n",
      " [-2.02119255  0.64077778  1.49701702 -1.06591644  1.35299058 -1.35750284\n",
      "   2.30811467 -0.30636161  2.452114    2.07842317]\n",
      " [-0.18112871  0.60855426 -0.43833855 -2.09004765  0.00369648 -0.41623955\n",
      "  -0.22717717  0.61299806  1.61877602  0.32910617]]\n"
     ]
    }
   ],
   "source": [
    "stock_change = np.random.normal(loc=0, scale=1, size=(8, 10))\n",
    "print(stock_change)"
   ]
  },
  {
   "cell_type": "code",
   "execution_count": 48,
   "metadata": {},
   "outputs": [
    {
     "name": "stdout",
     "output_type": "stream",
     "text": [
      "[[False False False  True  True  True False  True  True False]\n",
      " [False False  True  True False False False  True  True  True]\n",
      " [False False False False False False False False False False]\n",
      " [False False False False False False False  True  True False]\n",
      " [False False  True  True False False  True  True  True  True]\n",
      " [False  True False False  True  True False False False False]\n",
      " [False  True  True False  True False  True False  True  True]\n",
      " [False  True False False False False False  True  True False]]\n"
     ]
    }
   ],
   "source": [
    "# 逻辑判断, 如果涨跌幅大于0.5就标记为True 否则为False\n",
    "print(stock_change > 0.5)"
   ]
  },
  {
   "cell_type": "code",
   "execution_count": 49,
   "metadata": {},
   "outputs": [],
   "source": [
    "stock_change[stock_change > 0.5] = 1.1"
   ]
  },
  {
   "cell_type": "code",
   "execution_count": 50,
   "metadata": {},
   "outputs": [
    {
     "name": "stdout",
     "output_type": "stream",
     "text": [
      "[[ 0.3025634  -0.55433183 -0.08260566  1.1         1.1         1.1\n",
      "   0.3034737   1.1         1.1        -0.62697101]\n",
      " [-0.26244227 -0.81523929  1.1         1.1        -0.253175   -0.63251519\n",
      "  -0.57759454  1.1         1.1         1.1       ]\n",
      " [-0.321689    0.03577381 -0.09284973 -1.74336686  0.30543543 -1.12879557\n",
      "  -0.62171514 -2.05454148 -0.71884227 -1.78751753]\n",
      " [-0.10336219 -0.23098741 -0.17336209 -0.53528517 -0.42379294 -0.13458985\n",
      "   0.46641817  1.1         1.1        -0.17085558]\n",
      " [-0.4535163   0.4828802   1.1         1.1        -0.33968461  0.01472234\n",
      "   1.1         1.1         1.1         1.1       ]\n",
      " [-0.52521489  1.1        -0.48146649  0.20296832  1.1         1.1\n",
      "  -0.71248288 -1.73521104 -0.65984666  0.23410547]\n",
      " [-2.02119255  1.1         1.1        -1.06591644  1.1        -1.35750284\n",
      "   1.1        -0.30636161  1.1         1.1       ]\n",
      " [-0.18112871  1.1        -0.43833855 -2.09004765  0.00369648 -0.41623955\n",
      "  -0.22717717  1.1         1.1         0.32910617]]\n"
     ]
    }
   ],
   "source": [
    "print(stock_change)"
   ]
  },
  {
   "cell_type": "code",
   "execution_count": 51,
   "metadata": {},
   "outputs": [
    {
     "name": "stdout",
     "output_type": "stream",
     "text": [
      "[[ True False False  True  True]\n",
      " [False False  True  True False]]\n"
     ]
    }
   ],
   "source": [
    "# 判断stock_change[0:2, 0:5]是否全是上涨的\n",
    "print(stock_change[0:2, 0:5] > 0)"
   ]
  },
  {
   "cell_type": "code",
   "execution_count": 52,
   "metadata": {},
   "outputs": [
    {
     "name": "stdout",
     "output_type": "stream",
     "text": [
      "False\n"
     ]
    }
   ],
   "source": [
    "print(np.all(stock_change[0:2, 0:5] > 0))"
   ]
  },
  {
   "cell_type": "code",
   "execution_count": 53,
   "metadata": {},
   "outputs": [
    {
     "name": "stdout",
     "output_type": "stream",
     "text": [
      "True\n"
     ]
    }
   ],
   "source": [
    "# 判断前5只股票这段期间是否有上涨的\n",
    "print(np.any(stock_change[:5, :] > 0))"
   ]
  },
  {
   "cell_type": "markdown",
   "metadata": {},
   "source": [
    "### 3.4.3 np.where（三元运算符）"
   ]
  },
  {
   "cell_type": "code",
   "execution_count": 54,
   "metadata": {},
   "outputs": [
    {
     "name": "stdout",
     "output_type": "stream",
     "text": [
      "[[ 0.3025634  -0.55433183 -0.08260566  1.1       ]\n",
      " [-0.26244227 -0.81523929  1.1         1.1       ]\n",
      " [-0.321689    0.03577381 -0.09284973 -1.74336686]\n",
      " [-0.10336219 -0.23098741 -0.17336209 -0.53528517]]\n"
     ]
    }
   ],
   "source": [
    "# 判断前四个股票前四天的涨跌幅 大于0的置为1，否则为0\n",
    "temp = stock_change[:4, :4]\n",
    "print(temp)"
   ]
  },
  {
   "cell_type": "code",
   "execution_count": 55,
   "metadata": {},
   "outputs": [
    {
     "name": "stdout",
     "output_type": "stream",
     "text": [
      "[[1 0 0 1]\n",
      " [0 0 1 1]\n",
      " [0 1 0 0]\n",
      " [0 0 0 0]]\n"
     ]
    }
   ],
   "source": [
    "print(np.where(temp > 0, 1, 0))"
   ]
  },
  {
   "cell_type": "code",
   "execution_count": 56,
   "metadata": {},
   "outputs": [
    {
     "name": "stdout",
     "output_type": "stream",
     "text": [
      "[[ 0.3025634  -0.55433183 -0.08260566  1.1       ]\n",
      " [-0.26244227 -0.81523929  1.1         1.1       ]\n",
      " [-0.321689    0.03577381 -0.09284973 -1.74336686]\n",
      " [-0.10336219 -0.23098741 -0.17336209 -0.53528517]]\n"
     ]
    }
   ],
   "source": [
    "print(temp)"
   ]
  },
  {
   "cell_type": "code",
   "execution_count": 57,
   "metadata": {},
   "outputs": [
    {
     "name": "stdout",
     "output_type": "stream",
     "text": [
      "[[False False False False]\n",
      " [False False False False]\n",
      " [False False False False]\n",
      " [False False False False]]\n"
     ]
    }
   ],
   "source": [
    "# 判断前四个股票前四天的涨跌幅 大于0.5并且小于1的，换为1，否则为0\n",
    "# 判断前四个股票前四天的涨跌幅 大于0.5或者小于-0.5的，换为1，否则为0\n",
    "# (temp > 0.5) and (temp < 1)\n",
    "print(np.logical_and(temp > 0.5, temp < 1))"
   ]
  },
  {
   "cell_type": "code",
   "execution_count": 58,
   "metadata": {},
   "outputs": [
    {
     "name": "stdout",
     "output_type": "stream",
     "text": [
      "[[0 0 0 0]\n",
      " [0 0 0 0]\n",
      " [0 0 0 0]\n",
      " [0 0 0 0]]\n"
     ]
    }
   ],
   "source": [
    "print(np.where(np.logical_and(temp > 0.5, temp < 1), 1, 0))"
   ]
  },
  {
   "cell_type": "code",
   "execution_count": 59,
   "metadata": {},
   "outputs": [
    {
     "name": "stdout",
     "output_type": "stream",
     "text": [
      "[[False  True False  True]\n",
      " [False  True  True  True]\n",
      " [False False False  True]\n",
      " [False False False  True]]\n"
     ]
    }
   ],
   "source": [
    "print(np.logical_or(temp > 0.5, temp < -0.5))"
   ]
  },
  {
   "cell_type": "code",
   "execution_count": 60,
   "metadata": {},
   "outputs": [
    {
     "name": "stdout",
     "output_type": "stream",
     "text": [
      "[[ 3 11  3 11]\n",
      " [ 3 11 11 11]\n",
      " [ 3  3  3 11]\n",
      " [ 3  3  3 11]]\n"
     ]
    }
   ],
   "source": [
    "print(np.where(np.logical_or(temp > 0.5, temp < -0.5), 11, 3))"
   ]
  },
  {
   "cell_type": "markdown",
   "metadata": {},
   "source": [
    "### 3.5.3 数组与数组的运算"
   ]
  },
  {
   "cell_type": "code",
   "execution_count": 61,
   "metadata": {},
   "outputs": [],
   "source": [
    "arr1 = np.array([[1, 2, 3, 2, 1, 4], [5, 6, 1, 2, 3, 1]])\n",
    "arr2 = np.array([[1, 2, 3, 4], [3, 4, 5, 6]])"
   ]
  },
  {
   "cell_type": "code",
   "execution_count": 62,
   "metadata": {},
   "outputs": [
    {
     "name": "stdout",
     "output_type": "stream",
     "text": [
      "(2, 6)\n"
     ]
    }
   ],
   "source": [
    "print(arr1.shape)"
   ]
  },
  {
   "cell_type": "code",
   "execution_count": 64,
   "metadata": {},
   "outputs": [
    {
     "name": "stdout",
     "output_type": "stream",
     "text": [
      "(2, 4)\n"
     ]
    }
   ],
   "source": [
    "print(arr2.shape)"
   ]
  },
  {
   "cell_type": "code",
   "execution_count": 66,
   "metadata": {},
   "outputs": [],
   "source": [
    "# arr1 + arr2"
   ]
  },
  {
   "cell_type": "code",
   "execution_count": 67,
   "metadata": {},
   "outputs": [],
   "source": [
    "arr1 = np.array([[1, 2, 3, 2, 1, 4], [5, 6, 1, 2, 3, 1]])\n",
    "arr2 = np.array([[1], [3]])"
   ]
  },
  {
   "cell_type": "code",
   "execution_count": 68,
   "metadata": {},
   "outputs": [
    {
     "name": "stdout",
     "output_type": "stream",
     "text": [
      "(2, 6) (2, 1)\n"
     ]
    }
   ],
   "source": [
    "print(arr1.shape,arr2.shape)"
   ]
  },
  {
   "cell_type": "code",
   "execution_count": 69,
   "metadata": {},
   "outputs": [
    {
     "name": "stdout",
     "output_type": "stream",
     "text": [
      "[[2 3 4 3 2 5]\n",
      " [8 9 4 5 6 4]]\n"
     ]
    }
   ],
   "source": [
    "print(arr1 + arr2)"
   ]
  },
  {
   "cell_type": "code",
   "execution_count": 70,
   "metadata": {},
   "outputs": [
    {
     "name": "stdout",
     "output_type": "stream",
     "text": [
      "[[ 1  2  3  2  1  4]\n",
      " [15 18  3  6  9  3]]\n"
     ]
    }
   ],
   "source": [
    "print(arr1 * arr2)"
   ]
  },
  {
   "cell_type": "code",
   "execution_count": 71,
   "metadata": {},
   "outputs": [
    {
     "name": "stdout",
     "output_type": "stream",
     "text": [
      "[[1.         2.         3.         2.         1.         4.        ]\n",
      " [1.66666667 2.         0.33333333 0.66666667 1.         0.33333333]]\n"
     ]
    }
   ],
   "source": [
    "print(arr1 / arr2)"
   ]
  },
  {
   "cell_type": "markdown",
   "metadata": {},
   "source": [
    "### 3.5.5 矩阵运算"
   ]
  },
  {
   "cell_type": "code",
   "execution_count": 74,
   "metadata": {},
   "outputs": [],
   "source": [
    "# ndarray存储矩阵\n",
    "data = np.array([[80, 86],\n",
    "                 [82, 80],\n",
    "                 [85, 78],\n",
    "                 [90, 90],\n",
    "                 [86, 82],\n",
    "                 [82, 90],\n",
    "                 [78, 80],\n",
    "                 [92, 94]])"
   ]
  },
  {
   "cell_type": "code",
   "execution_count": 73,
   "metadata": {},
   "outputs": [
    {
     "name": "stdout",
     "output_type": "stream",
     "text": [
      "[[80 86]\n",
      " [82 80]\n",
      " [85 78]\n",
      " [90 90]\n",
      " [86 82]\n",
      " [82 90]\n",
      " [78 80]\n",
      " [92 94]]\n"
     ]
    }
   ],
   "source": [
    "print(data)"
   ]
  },
  {
   "cell_type": "code",
   "execution_count": 75,
   "metadata": {},
   "outputs": [],
   "source": [
    "# matrix存储矩阵\n",
    "data_mat = np.mat([[80, 86],\n",
    "                   [82, 80],\n",
    "                   [85, 78],\n",
    "                   [90, 90],\n",
    "                   [86, 82],\n",
    "                   [82, 90],\n",
    "                   [78, 80],\n",
    "                   [92, 94]])"
   ]
  },
  {
   "cell_type": "code",
   "execution_count": 76,
   "metadata": {},
   "outputs": [
    {
     "name": "stdout",
     "output_type": "stream",
     "text": [
      "<class 'numpy.matrixlib.defmatrix.matrix'>\n"
     ]
    }
   ],
   "source": [
    "print(type(data_mat))"
   ]
  },
  {
   "cell_type": "code",
   "execution_count": 77,
   "metadata": {},
   "outputs": [],
   "source": [
    "weights = np.array([[0.3], [0.7]])"
   ]
  },
  {
   "cell_type": "code",
   "execution_count": 78,
   "metadata": {},
   "outputs": [
    {
     "name": "stdout",
     "output_type": "stream",
     "text": [
      "[[0.3]\n",
      " [0.7]]\n"
     ]
    }
   ],
   "source": [
    "# (8, 2) * (2, 1) = (8, 1)\n",
    "print(weights)"
   ]
  },
  {
   "cell_type": "code",
   "execution_count": 80,
   "metadata": {},
   "outputs": [],
   "source": [
    "weights_mat = np.mat([[0.3], [0.7]])"
   ]
  },
  {
   "cell_type": "code",
   "execution_count": 81,
   "metadata": {},
   "outputs": [
    {
     "name": "stdout",
     "output_type": "stream",
     "text": [
      "[[0.3]\n",
      " [0.7]]\n"
     ]
    }
   ],
   "source": [
    "print(weights_mat)"
   ]
  },
  {
   "cell_type": "code",
   "execution_count": 82,
   "metadata": {},
   "outputs": [
    {
     "name": "stdout",
     "output_type": "stream",
     "text": [
      "[[84.2]\n",
      " [80.6]\n",
      " [80.1]\n",
      " [90. ]\n",
      " [83.2]\n",
      " [87.6]\n",
      " [79.4]\n",
      " [93.4]]\n"
     ]
    }
   ],
   "source": [
    "print(np.matmul(data, weights))"
   ]
  },
  {
   "cell_type": "code",
   "execution_count": 83,
   "metadata": {},
   "outputs": [
    {
     "name": "stdout",
     "output_type": "stream",
     "text": [
      "[[84.2]\n",
      " [80.6]\n",
      " [80.1]\n",
      " [90. ]\n",
      " [83.2]\n",
      " [87.6]\n",
      " [79.4]\n",
      " [93.4]]\n"
     ]
    }
   ],
   "source": [
    "print(np.dot(data, weights))"
   ]
  },
  {
   "cell_type": "code",
   "execution_count": 85,
   "metadata": {},
   "outputs": [
    {
     "name": "stdout",
     "output_type": "stream",
     "text": [
      "[[84.2]\n",
      " [80.6]\n",
      " [80.1]\n",
      " [90. ]\n",
      " [83.2]\n",
      " [87.6]\n",
      " [79.4]\n",
      " [93.4]]\n"
     ]
    }
   ],
   "source": [
    "print(data_mat * weights_mat)"
   ]
  },
  {
   "cell_type": "code",
   "execution_count": 86,
   "metadata": {},
   "outputs": [
    {
     "name": "stdout",
     "output_type": "stream",
     "text": [
      "[[84.2]\n",
      " [80.6]\n",
      " [80.1]\n",
      " [90. ]\n",
      " [83.2]\n",
      " [87.6]\n",
      " [79.4]\n",
      " [93.4]]\n"
     ]
    }
   ],
   "source": [
    "print(data @ weights)"
   ]
  },
  {
   "cell_type": "code",
   "execution_count": 88,
   "metadata": {},
   "outputs": [],
   "source": [
    "# data * weights 不满足广播机制，不能进行运算"
   ]
  },
  {
   "cell_type": "markdown",
   "metadata": {},
   "source": [
    "### 3.7.1 Numpy读取"
   ]
  },
  {
   "cell_type": "code",
   "execution_count": 97,
   "metadata": {},
   "outputs": [],
   "source": [
    "data = np.genfromtxt(\"test.csv\", delimiter=\",\")"
   ]
  },
  {
   "cell_type": "code",
   "execution_count": 99,
   "metadata": {},
   "outputs": [
    {
     "name": "stdout",
     "output_type": "stream",
     "text": [
      "[[  nan   nan   nan   nan]\n",
      " [  1.  123.    1.4  23. ]\n",
      " [  2.  110.    nan  18. ]\n",
      " [  3.    nan   2.1  19. ]]\n"
     ]
    }
   ],
   "source": [
    "print(data)"
   ]
  },
  {
   "cell_type": "code",
   "execution_count": 101,
   "metadata": {},
   "outputs": [
    {
     "name": "stdout",
     "output_type": "stream",
     "text": [
      "<class 'numpy.float64'>\n"
     ]
    }
   ],
   "source": [
    "print(type(data[2, 2]))"
   ]
  },
  {
   "cell_type": "code",
   "execution_count": 103,
   "metadata": {},
   "outputs": [],
   "source": [
    "def fill_nan_by_column_mean(t):\n",
    "    for i in range(t.shape[1]):\n",
    "        # 计算nan的个数\n",
    "        nan_num = np.count_nonzero(t[:, i][t[:, i] != t[:, i]])\n",
    "        if nan_num > 0:\n",
    "            now_col = t[:, i]\n",
    "            # 求和\n",
    "            now_col_not_nan = now_col[np.isnan(now_col) == False].sum()\n",
    "            # 和/个数\n",
    "            now_col_mean = now_col_not_nan / (t.shape[0] - nan_num)\n",
    "            # 赋值给now_col\n",
    "            now_col[np.isnan(now_col)] = now_col_mean\n",
    "            # 赋值给t，即更新t的当前列\n",
    "            t[:, i] = now_col\n",
    "    return t"
   ]
  },
  {
   "cell_type": "code",
   "execution_count": 105,
   "metadata": {},
   "outputs": [
    {
     "name": "stdout",
     "output_type": "stream",
     "text": [
      "[[  2.   116.5    1.75  20.  ]\n",
      " [  1.   123.     1.4   23.  ]\n",
      " [  2.   110.     1.75  18.  ]\n",
      " [  3.   116.5    2.1   19.  ]]\n"
     ]
    }
   ],
   "source": [
    "print(fill_nan_by_column_mean(data))"
   ]
  }
 ],
 "metadata": {
  "kernelspec": {
   "display_name": "Python 3",
   "language": "python",
   "name": "python3"
  },
  "language_info": {
   "codemirror_mode": {
    "name": "ipython",
    "version": 3
   },
   "file_extension": ".py",
   "mimetype": "text/x-python",
   "name": "python",
   "nbconvert_exporter": "python",
   "pygments_lexer": "ipython3",
   "version": "3.6.3"
  }
 },
 "nbformat": 4,
 "nbformat_minor": 2
}
