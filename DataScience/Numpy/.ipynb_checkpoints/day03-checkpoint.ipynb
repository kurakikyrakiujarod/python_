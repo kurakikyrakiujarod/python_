{
 "cells": [
  {
   "cell_type": "code",
   "execution_count": 4,
   "metadata": {},
   "outputs": [],
   "source": [
    "import numpy as np"
   ]
  },
  {
   "cell_type": "code",
   "execution_count": 5,
   "metadata": {},
   "outputs": [],
   "source": [
    "us_file_path = \"./youtube_video_data/US_video_data_numbers.csv\"\n",
    "uk_file_path = \"./youtube_video_data/GB_video_data_numbers.csv\""
   ]
  },
  {
   "cell_type": "code",
   "execution_count": 6,
   "metadata": {},
   "outputs": [],
   "source": [
    "t1 = np.loadtxt(us_file_path,delimiter=\",\",dtype=\"int\",unpack=True)\n",
    "t2 = np.loadtxt(us_file_path,delimiter=\",\",dtype=\"int\")"
   ]
  },
  {
   "cell_type": "code",
   "execution_count": 7,
   "metadata": {},
   "outputs": [
    {
     "name": "stdout",
     "output_type": "stream",
     "text": [
      "[[4394029 7860119 5845909 ...  142463 2162240  515000]\n",
      " [ 320053  185853  576597 ...    4231   41032   34727]\n",
      " [   5931   26679   39774 ...     148    1384     195]\n",
      " [  46245       0  170708 ...     279    4737    4722]]\n"
     ]
    }
   ],
   "source": [
    "print(t1)"
   ]
  },
  {
   "cell_type": "code",
   "execution_count": 8,
   "metadata": {},
   "outputs": [
    {
     "name": "stdout",
     "output_type": "stream",
     "text": [
      "[[4394029  320053    5931   46245]\n",
      " [7860119  185853   26679       0]\n",
      " [5845909  576597   39774  170708]\n",
      " ...\n",
      " [ 142463    4231     148     279]\n",
      " [2162240   41032    1384    4737]\n",
      " [ 515000   34727     195    4722]]\n"
     ]
    }
   ],
   "source": [
    "print(t2)"
   ]
  },
  {
   "cell_type": "code",
   "execution_count": 9,
   "metadata": {},
   "outputs": [
    {
     "name": "stdout",
     "output_type": "stream",
     "text": [
      "[5845909  576597   39774  170708]\n"
     ]
    }
   ],
   "source": [
    "#取行\n",
    "print(t2[2])"
   ]
  },
  {
   "cell_type": "code",
   "execution_count": 10,
   "metadata": {},
   "outputs": [
    {
     "name": "stdout",
     "output_type": "stream",
     "text": [
      "[[5845909  576597   39774  170708]\n",
      " [2642103   24975    4542   12829]\n",
      " [1168130   96666     568    6666]\n",
      " ...\n",
      " [ 142463    4231     148     279]\n",
      " [2162240   41032    1384    4737]\n",
      " [ 515000   34727     195    4722]]\n"
     ]
    }
   ],
   "source": [
    "#取连续的多行\n",
    "print(t2[2:])"
   ]
  },
  {
   "cell_type": "code",
   "execution_count": 11,
   "metadata": {},
   "outputs": [
    {
     "name": "stdout",
     "output_type": "stream",
     "text": [
      "[[5845909  576597   39774  170708]\n",
      " [1338533   69687     678    5643]\n",
      " [ 859289   34485     726    1914]]\n"
     ]
    }
   ],
   "source": [
    "#取不连续的多行\n",
    "print(t2[[2,8,10]])"
   ]
  },
  {
   "cell_type": "code",
   "execution_count": 13,
   "metadata": {},
   "outputs": [
    {
     "name": "stdout",
     "output_type": "stream",
     "text": [
      "[7860119  185853   26679       0]\n"
     ]
    }
   ],
   "source": [
    "print(t2[1,:])"
   ]
  },
  {
   "cell_type": "code",
   "execution_count": 15,
   "metadata": {},
   "outputs": [
    {
     "name": "stdout",
     "output_type": "stream",
     "text": [
      "[[5845909  576597   39774  170708]\n",
      " [2642103   24975    4542   12829]\n",
      " [1168130   96666     568    6666]\n",
      " ...\n",
      " [ 142463    4231     148     279]\n",
      " [2162240   41032    1384    4737]\n",
      " [ 515000   34727     195    4722]]\n"
     ]
    }
   ],
   "source": [
    "print(t2[2:,:])"
   ]
  },
  {
   "cell_type": "code",
   "execution_count": 17,
   "metadata": {},
   "outputs": [
    {
     "name": "stdout",
     "output_type": "stream",
     "text": [
      "[[5845909  576597   39774  170708]\n",
      " [ 859289   34485     726    1914]\n",
      " [2642103   24975    4542   12829]]\n"
     ]
    }
   ],
   "source": [
    "print(t2[[2,10,3],:])"
   ]
  },
  {
   "cell_type": "code",
   "execution_count": 18,
   "metadata": {},
   "outputs": [
    {
     "name": "stdout",
     "output_type": "stream",
     "text": [
      "[4394029 7860119 5845909 ...  142463 2162240  515000]\n"
     ]
    }
   ],
   "source": [
    "print(t2[:,0])"
   ]
  },
  {
   "cell_type": "code",
   "execution_count": 19,
   "metadata": {},
   "outputs": [
    {
     "name": "stdout",
     "output_type": "stream",
     "text": [
      "[[  5931  46245]\n",
      " [ 26679      0]\n",
      " [ 39774 170708]\n",
      " ...\n",
      " [   148    279]\n",
      " [  1384   4737]\n",
      " [   195   4722]]\n"
     ]
    }
   ],
   "source": [
    "print(t2[:,2:])"
   ]
  },
  {
   "cell_type": "code",
   "execution_count": 20,
   "metadata": {},
   "outputs": [
    {
     "name": "stdout",
     "output_type": "stream",
     "text": [
      "[[4394029    5931]\n",
      " [7860119   26679]\n",
      " [5845909   39774]\n",
      " ...\n",
      " [ 142463     148]\n",
      " [2162240    1384]\n",
      " [ 515000     195]]\n"
     ]
    }
   ],
   "source": [
    "#取不连续的多列\n",
    "print(t2[:,[0,2]])"
   ]
  },
  {
   "cell_type": "code",
   "execution_count": 21,
   "metadata": {},
   "outputs": [
    {
     "name": "stdout",
     "output_type": "stream",
     "text": [
      "170708\n",
      "<class 'numpy.int32'>\n"
     ]
    }
   ],
   "source": [
    "#取第3行，第四列的值\n",
    "a = t2[2,3]\n",
    "print(a)\n",
    "print(type(a))"
   ]
  },
  {
   "cell_type": "code",
   "execution_count": 22,
   "metadata": {},
   "outputs": [
    {
     "name": "stdout",
     "output_type": "stream",
     "text": [
      "[[576597  39774 170708]\n",
      " [ 24975   4542  12829]\n",
      " [ 96666    568   6666]]\n"
     ]
    }
   ],
   "source": [
    "#取多行和多列，取第3行到第五行，第2列到第4列的结果\n",
    "#去的是行和列交叉点的位置\n",
    "b = t2[2:5,1:4]\n",
    "print(b)"
   ]
  },
  {
   "cell_type": "code",
   "execution_count": 23,
   "metadata": {},
   "outputs": [
    {
     "name": "stdout",
     "output_type": "stream",
     "text": [
      "[4394029  576597  170708]\n"
     ]
    }
   ],
   "source": [
    "#取多个不相邻的点\n",
    "#选出来的结果是（0，0） （2，1） （2，3）\n",
    "c = t2[[0,2,2],[0,1,3]]\n",
    "print(c)"
   ]
  },
  {
   "cell_type": "code",
   "execution_count": 31,
   "metadata": {},
   "outputs": [
    {
     "name": "stdout",
     "output_type": "stream",
     "text": [
      "[[4394029  320053    5931   46245       0]\n",
      " [7860119  185853   26679       0       0]\n",
      " [5845909  576597   39774  170708       0]\n",
      " ...\n",
      " [ 109222    4840      35     212       1]\n",
      " [ 626223   22962     532    1559       1]\n",
      " [  99228    1699      23     135       1]]\n"
     ]
    }
   ],
   "source": [
    "us_data = \"./youtube_video_data/US_video_data_numbers.csv\"\n",
    "uk_data = \"./youtube_video_data/GB_video_data_numbers.csv\"\n",
    "\n",
    "#加载国家数据\n",
    "us_data = np.loadtxt(us_data,delimiter=\",\",dtype=int)\n",
    "uk_data = np.loadtxt(uk_data,delimiter=\",\",dtype=int)\n",
    "\n",
    "# 添加国家信息\n",
    "#构造全为0的数据\n",
    "zeros_data = np.zeros((us_data.shape[0],1)).astype(int)\n",
    "ones_data = np.ones((uk_data.shape[0],1)).astype(int)\n",
    "# print(us_data.shape)\n",
    "# print(zeros_data.shape)\n",
    "# (1688, 4)\n",
    "# (1688, 1)\n",
    "\n",
    "# #分别添加一列全为0,1的数组\n",
    "us_data = np.hstack((us_data,zeros_data))\n",
    "uk_data = np.hstack((uk_data,ones_data))\n",
    "\n",
    "# # 拼接两组数据\n",
    "final_data = np.vstack((us_data,uk_data))\n",
    "print(final_data)"
   ]
  },
  {
   "cell_type": "code",
   "execution_count": 33,
   "metadata": {},
   "outputs": [
    {
     "name": "stdout",
     "output_type": "stream",
     "text": [
      "[[1. 0. 0.]\n",
      " [0. 1. 0.]\n",
      " [0. 0. 1.]]\n"
     ]
    }
   ],
   "source": [
    "# 创建一个对角线为1的正方形数组(方阵)\n",
    "print(np.eye(3))"
   ]
  },
  {
   "cell_type": "code",
   "execution_count": 34,
   "metadata": {},
   "outputs": [
    {
     "name": "stdout",
     "output_type": "stream",
     "text": [
      "[0 1 2]\n"
     ]
    }
   ],
   "source": [
    "print(np.argmax(np.eye(3),axis=0))"
   ]
  },
  {
   "cell_type": "markdown",
   "metadata": {},
   "source": [
    "### ndarry缺失值填充均值"
   ]
  },
  {
   "cell_type": "code",
   "execution_count": 47,
   "metadata": {},
   "outputs": [],
   "source": [
    "t1 = np.arange(24).reshape((4, 6)).astype(\"float\")"
   ]
  },
  {
   "cell_type": "code",
   "execution_count": 48,
   "metadata": {},
   "outputs": [
    {
     "name": "stdout",
     "output_type": "stream",
     "text": [
      "[[ 0.  1.  2.  3.  4.  5.]\n",
      " [ 6.  7. nan nan nan nan]\n",
      " [12. 13. 14. 15. 16. 17.]\n",
      " [18. 19. 20. 21. 22. 23.]]\n"
     ]
    }
   ],
   "source": [
    "t1[1, 2:] = np.nan\n",
    "print(t1)"
   ]
  },
  {
   "cell_type": "code",
   "execution_count": 46,
   "metadata": {},
   "outputs": [],
   "source": [
    "def fill_ndarray(t1):\n",
    "    for i in range(t1.shape[1]):  #遍历每一列\n",
    "        temp_col = t1[:,i]  #当前的一列\n",
    "        nan_num = np.count_nonzero(temp_col!=temp_col)\n",
    "        if nan_num !=0: #不为0，说明当前这一列中有nan\n",
    "            temp_not_nan_col = temp_col[temp_col==temp_col] #当前一列不为nan的array\n",
    "            # 选中当前为nan的位置，把值赋值为不为nan的均值\n",
    "            temp_col[np.isnan(temp_col)] = temp_not_nan_col.mean()\n",
    "    return t1"
   ]
  },
  {
   "cell_type": "code",
   "execution_count": 49,
   "metadata": {},
   "outputs": [
    {
     "name": "stdout",
     "output_type": "stream",
     "text": [
      "[[ 0.  1.  2.  3.  4.  5.]\n",
      " [ 6.  7. 12. 13. 14. 15.]\n",
      " [12. 13. 14. 15. 16. 17.]\n",
      " [18. 19. 20. 21. 22. 23.]]\n"
     ]
    }
   ],
   "source": [
    "t1 = fill_ndarray(t1)\n",
    "print(t1)"
   ]
  },
  {
   "cell_type": "code",
   "execution_count": 53,
   "metadata": {},
   "outputs": [],
   "source": [
    "from matplotlib import  pyplot as plt\n",
    "%matplotlib inline"
   ]
  },
  {
   "cell_type": "code",
   "execution_count": 54,
   "metadata": {},
   "outputs": [
    {
     "name": "stdout",
     "output_type": "stream",
     "text": [
      "4995 0\n"
     ]
    },
    {
     "data": {
      "image/png": "[encoded data removed]",
      "text/plain": [
       "<Figure size 1600x640 with 1 Axes>"
      ]
     },
     "metadata": {},
     "output_type": "display_data"
    }
   ],
   "source": [
    "us_file_path = \"./youtube_video_data/US_video_data_numbers.csv\"\n",
    "uk_file_path = \"./youtube_video_data/GB_video_data_numbers.csv\"\n",
    "\n",
    "t_us = np.loadtxt(us_file_path,delimiter=\",\",dtype=\"int\")\n",
    "\n",
    "#取评论的数据\n",
    "t_us_comments = t_us[:,-1]\n",
    "\n",
    "#选择比5000小的数据\n",
    "t_us_comments = t_us_comments[t_us_comments<=5000]\n",
    "\n",
    "# print(t_us_comments.max(),t_us_comments.min())\n",
    "# 4995 0\n",
    "\n",
    "d = 45\n",
    "\n",
    "bin_nums = (t_us_comments.max()-t_us_comments.min())//d\n",
    "\n",
    "#绘图\n",
    "plt.figure(figsize=(20,8),dpi=80)\n",
    "\n",
    "plt.hist(t_us_comments,bin_nums)\n",
    "\n",
    "plt.show()"
   ]
  },
  {
   "cell_type": "code",
   "execution_count": 55,
   "metadata": {},
   "outputs": [
    {
     "data": {
      "image/png": "[encoded data removed]",
      "text/plain": [
       "<Figure size 1600x640 with 1 Axes>"
      ]
     },
     "metadata": {},
     "output_type": "display_data"
    }
   ],
   "source": [
    "t_uk = np.loadtxt(uk_file_path,delimiter=\",\",dtype=\"int\")\n",
    "\n",
    "#选择喜欢数比50万小的数据\n",
    "t_uk = t_uk[t_uk[:,1]<=500000]\n",
    "\n",
    "t_uk_comment = t_uk[:,-1]\n",
    "t_uk_like = t_uk[:,1]\n",
    "\n",
    "plt.figure(figsize=(20,8),dpi=80)\n",
    "plt.scatter(t_uk_like,t_uk_comment)\n",
    "\n",
    "plt.show()"
   ]
  }
 ],
 "metadata": {
  "kernelspec": {
   "display_name": "Python 3",
   "language": "python",
   "name": "python3"
  },
  "language_info": {
   "codemirror_mode": {
    "name": "ipython",
    "version": 3
   },
   "file_extension": ".py",
   "mimetype": "text/x-python",
   "name": "python",
   "nbconvert_exporter": "python",
   "pygments_lexer": "ipython3",
   "version": "3.6.3"
  }
 },
 "nbformat": 4,
 "nbformat_minor": 2
}
