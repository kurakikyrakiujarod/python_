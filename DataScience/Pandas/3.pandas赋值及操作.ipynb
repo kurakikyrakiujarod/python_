{
 "cells": [
  {
   "cell_type": "code",
   "execution_count": 1,
   "metadata": {},
   "outputs": [],
   "source": [
    "import pandas as pd\n",
    "import numpy as np"
   ]
  },
  {
   "cell_type": "code",
   "execution_count": 4,
   "metadata": {},
   "outputs": [
    {
     "name": "stdout",
     "output_type": "stream",
     "text": [
      "           A   B   C   D\n",
      "20170101   0   1   2   3\n",
      "20170102   4   5   6   7\n",
      "20170103   8   9  10  11\n",
      "20170104  12  13  14  15\n",
      "20170105  16  17  18  19\n",
      "20170106  20  21  22  23\n"
     ]
    }
   ],
   "source": [
    "dates = np.arange(20170101,20170107)\n",
    "df1 =pd.DataFrame(np.arange(24).reshape(6,4),index=dates,columns=['A','B','C','D'])\n",
    "print(df1)"
   ]
  },
  {
   "cell_type": "code",
   "execution_count": 5,
   "metadata": {},
   "outputs": [
    {
     "name": "stdout",
     "output_type": "stream",
     "text": [
      "10\n"
     ]
    }
   ],
   "source": [
    "print(df1.iloc[2,2])"
   ]
  },
  {
   "cell_type": "code",
   "execution_count": 6,
   "metadata": {},
   "outputs": [
    {
     "name": "stdout",
     "output_type": "stream",
     "text": [
      "           A   B    C   D\n",
      "20170101   0   1    2   3\n",
      "20170102   4   5    6   7\n",
      "20170103   8   9  100  11\n",
      "20170104  12  13   14  15\n",
      "20170105  16  17   18  19\n",
      "20170106  20  21   22  23\n"
     ]
    }
   ],
   "source": [
    "df1.iloc[2,2] = 100\n",
    "print(df1)"
   ]
  },
  {
   "cell_type": "code",
   "execution_count": 8,
   "metadata": {},
   "outputs": [
    {
     "name": "stdout",
     "output_type": "stream",
     "text": [
      "5\n"
     ]
    }
   ],
   "source": [
    "print(df1.loc[20170102,'B'])"
   ]
  },
  {
   "cell_type": "code",
   "execution_count": 9,
   "metadata": {},
   "outputs": [
    {
     "name": "stdout",
     "output_type": "stream",
     "text": [
      "           A    B    C   D\n",
      "20170101   0    1    2   3\n",
      "20170102   4  200    6   7\n",
      "20170103   8    9  100  11\n",
      "20170104  12   13   14  15\n",
      "20170105  16   17   18  19\n",
      "20170106  20   21   22  23\n"
     ]
    }
   ],
   "source": [
    "df1.loc[20170102,'B'] = 200\n",
    "print(df1)"
   ]
  },
  {
   "cell_type": "code",
   "execution_count": 11,
   "metadata": {},
   "outputs": [
    {
     "name": "stdout",
     "output_type": "stream",
     "text": [
      "20170101    False\n",
      "20170102    False\n",
      "20170103    False\n",
      "20170104     True\n",
      "20170105     True\n",
      "20170106     True\n",
      "Name: A, dtype: bool\n"
     ]
    }
   ],
   "source": [
    "print(df1.A>10)"
   ]
  },
  {
   "cell_type": "code",
   "execution_count": 12,
   "metadata": {},
   "outputs": [
    {
     "name": "stdout",
     "output_type": "stream",
     "text": [
      "          A    B    C   D\n",
      "20170101  0    1    2   3\n",
      "20170102  4  200    6   7\n",
      "20170103  8    9  100  11\n",
      "20170104  0    0    0   0\n",
      "20170105  0    0    0   0\n",
      "20170106  0    0    0   0\n"
     ]
    }
   ],
   "source": [
    "df1[df1.A>10] = 0\n",
    "print(df1)"
   ]
  },
  {
   "cell_type": "code",
   "execution_count": 13,
   "metadata": {},
   "outputs": [
    {
     "name": "stdout",
     "output_type": "stream",
     "text": [
      "20170101     True\n",
      "20170102    False\n",
      "20170103    False\n",
      "20170104     True\n",
      "20170105     True\n",
      "20170106     True\n",
      "Name: A, dtype: bool\n"
     ]
    }
   ],
   "source": [
    "print(df1.A==0)"
   ]
  },
  {
   "cell_type": "code",
   "execution_count": 14,
   "metadata": {},
   "outputs": [
    {
     "name": "stdout",
     "output_type": "stream",
     "text": [
      "          A    B    C   D\n",
      "20170101  1    1    2   3\n",
      "20170102  4  200    6   7\n",
      "20170103  8    9  100  11\n",
      "20170104  1    0    0   0\n",
      "20170105  1    0    0   0\n",
      "20170106  1    0    0   0\n"
     ]
    }
   ],
   "source": [
    "df1.A[df1.A==0] = 1\n",
    "print(df1)"
   ]
  },
  {
   "cell_type": "code",
   "execution_count": 15,
   "metadata": {},
   "outputs": [
    {
     "name": "stdout",
     "output_type": "stream",
     "text": [
      "          A    B    C   D   E\n",
      "20170101  1    1    2   3  10\n",
      "20170102  4  200    6   7  10\n",
      "20170103  8    9  100  11  10\n",
      "20170104  1    0    0   0  10\n",
      "20170105  1    0    0   0  10\n",
      "20170106  1    0    0   0  10\n"
     ]
    }
   ],
   "source": [
    "df1['E'] =10 # 添加一列\n",
    "print(df1)"
   ]
  },
  {
   "cell_type": "code",
   "execution_count": 16,
   "metadata": {},
   "outputs": [
    {
     "name": "stdout",
     "output_type": "stream",
     "text": [
      "          A    B    C   D   E  F\n",
      "20170101  1    1    2   3  10  1\n",
      "20170102  4  200    6   7  10  2\n",
      "20170103  8    9  100  11  10  3\n",
      "20170104  1    0    0   0  10  4\n",
      "20170105  1    0    0   0  10  5\n",
      "20170106  1    0    0   0  10  6\n"
     ]
    }
   ],
   "source": [
    "df1['F'] = pd.Series([1,2,3,4,5,6],index=dates) #添加一列\n",
    "print(df1)"
   ]
  },
  {
   "cell_type": "code",
   "execution_count": 17,
   "metadata": {},
   "outputs": [
    {
     "name": "stdout",
     "output_type": "stream",
     "text": [
      "            A      B      C     D     E    F\n",
      "20170101  1.0    1.0    2.0   3.0  10.0  1.0\n",
      "20170102  4.0  200.0    6.0   7.0  10.0  2.0\n",
      "20170103  8.0    9.0  100.0  11.0  10.0  3.0\n",
      "20170104  1.0    0.0    0.0   0.0  10.0  4.0\n",
      "20170105  1.0    0.0    0.0   0.0  10.0  5.0\n",
      "20170106  1.0    0.0    0.0   0.0  10.0  6.0\n",
      "20170107  1.0    2.0    4.0   NaN   NaN  NaN\n"
     ]
    }
   ],
   "source": [
    "df1.loc[20170107,['A','B','C']] = [1,2,4]\n",
    "print(df1)"
   ]
  },
  {
   "cell_type": "code",
   "execution_count": 18,
   "metadata": {},
   "outputs": [
    {
     "name": "stdout",
     "output_type": "stream",
     "text": [
      "            A      B      C     D     E    F\n",
      "20170101  1.0    1.0    2.0   3.0  10.0  1.0\n",
      "20170102  4.0  200.0    6.0   7.0  10.0  2.0\n",
      "20170103  8.0    9.0  100.0  11.0  10.0  3.0\n",
      "20170104  1.0    0.0    0.0   0.0  10.0  4.0\n",
      "20170105  1.0    0.0    0.0   0.0  10.0  5.0\n",
      "20170106  1.0    0.0    0.0   0.0  10.0  6.0\n",
      "20170107  1.0    2.0    4.0   NaN   NaN  NaN\n",
      "S1        1.0    2.0    3.0   4.0   5.0  6.0\n"
     ]
    }
   ],
   "source": [
    "s1 = pd.Series([1,2,3,4,5,6],index=['A','B','C','D','E','F'])\n",
    "s1.name = 'S1'\n",
    "df2 = df1.append(s1)\n",
    "print(df2)"
   ]
  },
  {
   "cell_type": "code",
   "execution_count": 19,
   "metadata": {},
   "outputs": [
    {
     "name": "stdout",
     "output_type": "stream",
     "text": [
      "            A      B      C     D     E    F\n",
      "20170101  1.0    1.0    2.0   3.0  10.0  1.0\n",
      "20170102  4.0  200.0    6.0   7.0  10.0  2.0\n",
      "20170103  8.0    9.0  100.0  11.0  10.0  3.0\n",
      "20170104  1.0    0.0    0.0   0.0  10.0  4.0\n",
      "20170105  1.0    0.0    0.0   0.0  10.0  5.0\n",
      "20170106  1.0    0.0    0.0   0.0  10.0  6.0\n",
      "20170107  1.0    2.0    4.0   NaN   NaN  NaN\n"
     ]
    }
   ],
   "source": [
    "print(df1)"
   ]
  },
  {
   "cell_type": "code",
   "execution_count": 24,
   "metadata": {},
   "outputs": [
    {
     "name": "stdout",
     "output_type": "stream",
     "text": [
      "            A     G      B      C     D     E    F\n",
      "20170101  1.0  10.0    1.0    2.0   3.0  10.0  1.0\n",
      "20170102  4.0  10.0  200.0    6.0   7.0  10.0  2.0\n",
      "20170103  8.0  10.0    9.0  100.0  11.0  10.0  3.0\n",
      "20170104  1.0  10.0    0.0    0.0   0.0  10.0  4.0\n",
      "20170105  1.0  10.0    0.0    0.0   0.0  10.0  5.0\n",
      "20170106  1.0  10.0    0.0    0.0   0.0  10.0  6.0\n",
      "20170107  1.0   NaN    2.0    4.0   NaN   NaN  NaN\n"
     ]
    }
   ],
   "source": [
    "df1.insert(1,'G',df2['E']) \n",
    "print(df1)"
   ]
  },
  {
   "cell_type": "code",
   "execution_count": 25,
   "metadata": {},
   "outputs": [
    {
     "name": "stdout",
     "output_type": "stream",
     "text": [
      "            A      B      C     D     E    F     G\n",
      "20170101  1.0    1.0    2.0   3.0  10.0  1.0  10.0\n",
      "20170102  4.0  200.0    6.0   7.0  10.0  2.0  10.0\n",
      "20170103  8.0    9.0  100.0  11.0  10.0  3.0  10.0\n",
      "20170104  1.0    0.0    0.0   0.0  10.0  4.0  10.0\n",
      "20170105  1.0    0.0    0.0   0.0  10.0  5.0  10.0\n",
      "20170106  1.0    0.0    0.0   0.0  10.0  6.0  10.0\n",
      "20170107  1.0    2.0    4.0   NaN   NaN  NaN   NaN\n"
     ]
    }
   ],
   "source": [
    "g = df1.pop('G')\n",
    "df1.insert(6,'G',g)\n",
    "print(df1)"
   ]
  },
  {
   "cell_type": "code",
   "execution_count": 26,
   "metadata": {},
   "outputs": [
    {
     "name": "stdout",
     "output_type": "stream",
     "text": [
      "            A      B      C     D     E    F\n",
      "20170101  1.0    1.0    2.0   3.0  10.0  1.0\n",
      "20170102  4.0  200.0    6.0   7.0  10.0  2.0\n",
      "20170103  8.0    9.0  100.0  11.0  10.0  3.0\n",
      "20170104  1.0    0.0    0.0   0.0  10.0  4.0\n",
      "20170105  1.0    0.0    0.0   0.0  10.0  5.0\n",
      "20170106  1.0    0.0    0.0   0.0  10.0  6.0\n",
      "20170107  1.0    2.0    4.0   NaN   NaN  NaN\n"
     ]
    }
   ],
   "source": [
    "del df1['G']\n",
    "print(df1)"
   ]
  },
  {
   "cell_type": "code",
   "execution_count": 27,
   "metadata": {},
   "outputs": [
    {
     "name": "stdout",
     "output_type": "stream",
     "text": [
      "              C     D     E    F\n",
      "20170101    2.0   3.0  10.0  1.0\n",
      "20170102    6.0   7.0  10.0  2.0\n",
      "20170103  100.0  11.0  10.0  3.0\n",
      "20170104    0.0   0.0  10.0  4.0\n",
      "20170105    0.0   0.0  10.0  5.0\n",
      "20170106    0.0   0.0  10.0  6.0\n",
      "20170107    4.0   NaN   NaN  NaN\n"
     ]
    }
   ],
   "source": [
    "df2 = df1.drop(['A','B'],axis=1) # 删除AB列\n",
    "print(df2)"
   ]
  },
  {
   "cell_type": "code",
   "execution_count": 28,
   "metadata": {},
   "outputs": [
    {
     "name": "stdout",
     "output_type": "stream",
     "text": [
      "            A      B      C     D     E    F\n",
      "20170101  1.0    1.0    2.0   3.0  10.0  1.0\n",
      "20170102  4.0  200.0    6.0   7.0  10.0  2.0\n",
      "20170103  8.0    9.0  100.0  11.0  10.0  3.0\n",
      "20170104  1.0    0.0    0.0   0.0  10.0  4.0\n",
      "20170105  1.0    0.0    0.0   0.0  10.0  5.0\n",
      "20170106  1.0    0.0    0.0   0.0  10.0  6.0\n",
      "20170107  1.0    2.0    4.0   NaN   NaN  NaN\n"
     ]
    }
   ],
   "source": [
    "print(df1)"
   ]
  },
  {
   "cell_type": "code",
   "execution_count": 29,
   "metadata": {},
   "outputs": [
    {
     "name": "stdout",
     "output_type": "stream",
     "text": [
      "            A    B      C     D     E    F\n",
      "20170103  8.0  9.0  100.0  11.0  10.0  3.0\n",
      "20170104  1.0  0.0    0.0   0.0  10.0  4.0\n",
      "20170105  1.0  0.0    0.0   0.0  10.0  5.0\n",
      "20170106  1.0  0.0    0.0   0.0  10.0  6.0\n",
      "20170107  1.0  2.0    4.0   NaN   NaN  NaN\n"
     ]
    }
   ],
   "source": [
    "df2 = df1.drop([20170101,20170102],axis=0)\n",
    "print(df2)"
   ]
  },
  {
   "cell_type": "code",
   "execution_count": 30,
   "metadata": {},
   "outputs": [
    {
     "name": "stdout",
     "output_type": "stream",
     "text": [
      "            A      B      C     D     E    F\n",
      "20170101  1.0    1.0    2.0   3.0  10.0  1.0\n",
      "20170102  4.0  200.0    6.0   7.0  10.0  2.0\n",
      "20170103  8.0    9.0  100.0  11.0  10.0  3.0\n",
      "20170104  1.0    0.0    0.0   0.0  10.0  4.0\n",
      "20170105  1.0    0.0    0.0   0.0  10.0  5.0\n",
      "20170106  1.0    0.0    0.0   0.0  10.0  6.0\n",
      "20170107  1.0    2.0    4.0   NaN   NaN  NaN\n"
     ]
    }
   ],
   "source": [
    "print(df1)"
   ]
  }
 ],
 "metadata": {
  "kernelspec": {
   "display_name": "Python 3",
   "language": "python",
   "name": "python3"
  },
  "language_info": {
   "codemirror_mode": {
    "name": "ipython",
    "version": 3
   },
   "file_extension": ".py",
   "mimetype": "text/x-python",
   "name": "python",
   "nbconvert_exporter": "python",
   "pygments_lexer": "ipython3",
   "version": "3.6.3"
  }
 },
 "nbformat": 4,
 "nbformat_minor": 2
}
