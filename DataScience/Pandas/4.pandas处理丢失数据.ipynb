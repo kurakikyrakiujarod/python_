{
 "cells": [
  {
   "cell_type": "code",
   "execution_count": 7,
   "metadata": {},
   "outputs": [],
   "source": [
    "import pandas as pd\n",
    "import numpy as np"
   ]
  },
  {
   "cell_type": "code",
   "execution_count": 8,
   "metadata": {},
   "outputs": [
    {
     "name": "stdout",
     "output_type": "stream",
     "text": [
      "          A   B   C\n",
      "20170101  0   1   2\n",
      "20170102  3   4   5\n",
      "20170103  6   7   8\n",
      "20170104  9  10  11\n"
     ]
    }
   ],
   "source": [
    "dates = np.arange(20170101,20170105)\n",
    "df1 = pd.DataFrame(np.arange(12).reshape((4,3)),index=dates,columns=['A','B','C'])\n",
    "print(df1)"
   ]
  },
  {
   "cell_type": "code",
   "execution_count": 10,
   "metadata": {},
   "outputs": [
    {
     "name": "stdout",
     "output_type": "stream",
     "text": [
      "          A   B   C   D   E\n",
      "20170101  0   1   2 NaN NaN\n",
      "20170102  3   4   5 NaN NaN\n",
      "20170103  6   7   8 NaN NaN\n",
      "20170104  9  10  11 NaN NaN\n"
     ]
    }
   ],
   "source": [
    "df2 = pd.DataFrame(df1,index=dates,columns=['A','B','C','D','E'])\n",
    "print(df2)"
   ]
  },
  {
   "cell_type": "code",
   "execution_count": 14,
   "metadata": {},
   "outputs": [],
   "source": [
    "s1 = pd.Series([3,4,6],index=dates[:3])\n",
    "s2 = pd.Series([32,5,2],index=dates[1:])"
   ]
  },
  {
   "cell_type": "code",
   "execution_count": 15,
   "metadata": {},
   "outputs": [
    {
     "name": "stdout",
     "output_type": "stream",
     "text": [
      "20170101    3\n",
      "20170102    4\n",
      "20170103    6\n",
      "dtype: int64\n"
     ]
    }
   ],
   "source": [
    "print(s1)"
   ]
  },
  {
   "cell_type": "code",
   "execution_count": 16,
   "metadata": {},
   "outputs": [
    {
     "name": "stdout",
     "output_type": "stream",
     "text": [
      "20170102    32\n",
      "20170103     5\n",
      "20170104     2\n",
      "dtype: int64\n"
     ]
    }
   ],
   "source": [
    "print(s2)"
   ]
  },
  {
   "cell_type": "code",
   "execution_count": 19,
   "metadata": {},
   "outputs": [
    {
     "name": "stdout",
     "output_type": "stream",
     "text": [
      "          A   B   C    D     E\n",
      "20170101  0   1   2  3.0   NaN\n",
      "20170102  3   4   5  4.0  32.0\n",
      "20170103  6   7   8  6.0   5.0\n",
      "20170104  9  10  11  NaN   2.0\n"
     ]
    }
   ],
   "source": [
    "df2['D'] = s1\n",
    "df2['E'] = s2\n",
    "print(df2)"
   ]
  },
  {
   "cell_type": "code",
   "execution_count": 22,
   "metadata": {},
   "outputs": [
    {
     "name": "stdout",
     "output_type": "stream",
     "text": [
      "          A  B  C    D     E\n",
      "20170102  3  4  5  4.0  32.0\n",
      "20170103  6  7  8  6.0   5.0\n"
     ]
    }
   ],
   "source": [
    "#axis=[0,1] 0代表行，1代表列。how=['any','all'] any任意一个或多个 all全部\n",
    "print(df2.dropna(axis=0,how='any'))"
   ]
  },
  {
   "cell_type": "code",
   "execution_count": 23,
   "metadata": {},
   "outputs": [
    {
     "name": "stdout",
     "output_type": "stream",
     "text": [
      "          A   B   C\n",
      "20170101  0   1   2\n",
      "20170102  3   4   5\n",
      "20170103  6   7   8\n",
      "20170104  9  10  11\n"
     ]
    }
   ],
   "source": [
    "print(df2.dropna(axis=1,how='any'))"
   ]
  },
  {
   "cell_type": "code",
   "execution_count": 26,
   "metadata": {},
   "outputs": [
    {
     "name": "stdout",
     "output_type": "stream",
     "text": [
      "          A   B   C    D     E\n",
      "20170101  0   1   2  3.0   0.0\n",
      "20170102  3   4   5  4.0  32.0\n",
      "20170103  6   7   8  6.0   5.0\n",
      "20170104  9  10  11  0.0   2.0\n"
     ]
    }
   ],
   "source": [
    "#把空值赋值为0\n",
    "print(df2.fillna(value=0))"
   ]
  },
  {
   "cell_type": "code",
   "execution_count": 28,
   "metadata": {},
   "outputs": [
    {
     "name": "stdout",
     "output_type": "stream",
     "text": [
      "              A      B      C      D      E\n",
      "20170101  False  False  False  False   True\n",
      "20170102  False  False  False  False  False\n",
      "20170103  False  False  False  False  False\n",
      "20170104  False  False  False   True  False\n"
     ]
    }
   ],
   "source": [
    "#查看空值\n",
    "print(df2.isnull())"
   ]
  },
  {
   "cell_type": "code",
   "execution_count": 29,
   "metadata": {},
   "outputs": [
    {
     "name": "stdout",
     "output_type": "stream",
     "text": [
      "True\n"
     ]
    }
   ],
   "source": [
    "#只要有一个或多个空值就会返回true\n",
    "print(np.any(df2.isnull()))"
   ]
  },
  {
   "cell_type": "code",
   "execution_count": 30,
   "metadata": {},
   "outputs": [
    {
     "name": "stdout",
     "output_type": "stream",
     "text": [
      "False\n"
     ]
    }
   ],
   "source": [
    "#所有为空值才返回true\n",
    "print(np.all(df2.isnull()))"
   ]
  }
 ],
 "metadata": {
  "kernelspec": {
   "display_name": "Python 3",
   "language": "python",
   "name": "python3"
  },
  "language_info": {
   "codemirror_mode": {
    "name": "ipython",
    "version": 3
   },
   "file_extension": ".py",
   "mimetype": "text/x-python",
   "name": "python",
   "nbconvert_exporter": "python",
   "pygments_lexer": "ipython3",
   "version": "3.6.3"
  }
 },
 "nbformat": 4,
 "nbformat_minor": 2
}
