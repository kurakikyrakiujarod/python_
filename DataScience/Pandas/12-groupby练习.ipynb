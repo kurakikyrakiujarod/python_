{
 "cells": [
  {
   "cell_type": "code",
   "execution_count": 1,
   "metadata": {},
   "outputs": [],
   "source": [
    "import pandas as pd\n",
    "import numpy as np"
   ]
  },
  {
   "cell_type": "code",
   "execution_count": 2,
   "metadata": {},
   "outputs": [],
   "source": [
    "df = pd.DataFrame({'A': ['foo', 'bar', 'foo', 'bar',\n",
    "                         'foo', 'bar', 'foo', 'foo'],\n",
    "                   'B': ['one', 'one', 'two', 'three',\n",
    "                         'two', 'two', 'one', 'three'],\n",
    "                   'C': np.random.randn(8),\n",
    "                   'D': np.random.randn(8)})"
   ]
  },
  {
   "cell_type": "code",
   "execution_count": 3,
   "metadata": {},
   "outputs": [
    {
     "name": "stdout",
     "output_type": "stream",
     "text": [
      "     A      B         C         D\n",
      "0  foo    one  0.256187  1.405181\n",
      "1  bar    one -0.026901  2.172614\n",
      "2  foo    two -0.734997 -1.519650\n",
      "3  bar  three  0.779518  0.170890\n",
      "4  foo    two -0.313610 -1.041495\n",
      "5  bar    two -1.446488 -0.017230\n",
      "6  foo    one  0.847826 -2.353311\n",
      "7  foo  three -0.919955  0.805450\n"
     ]
    }
   ],
   "source": [
    "print(df)"
   ]
  },
  {
   "cell_type": "code",
   "execution_count": 5,
   "metadata": {},
   "outputs": [
    {
     "name": "stdout",
     "output_type": "stream",
     "text": [
      "     B  C  D\n",
      "A           \n",
      "bar  3  3  3\n",
      "foo  5  5  5\n"
     ]
    }
   ],
   "source": [
    "grouped = df.groupby('A')\n",
    "print(grouped.count())"
   ]
  },
  {
   "cell_type": "code",
   "execution_count": 6,
   "metadata": {},
   "outputs": [
    {
     "name": "stdout",
     "output_type": "stream",
     "text": [
      "           C  D\n",
      "A   B          \n",
      "bar one    1  1\n",
      "    three  1  1\n",
      "    two    1  1\n",
      "foo one    2  2\n",
      "    three  1  1\n",
      "    two    2  2\n"
     ]
    }
   ],
   "source": [
    "grouped = df.groupby(['A', 'B'])\n",
    "print(grouped.count())"
   ]
  },
  {
   "cell_type": "code",
   "execution_count": 9,
   "metadata": {},
   "outputs": [],
   "source": [
    "def get_letter_type(letter):\n",
    "    if letter.lower() in 'aeiou':\n",
    "        return 'a'\n",
    "    else:\n",
    "        return 'b'"
   ]
  },
  {
   "cell_type": "code",
   "execution_count": 10,
   "metadata": {},
   "outputs": [
    {
     "name": "stdout",
     "output_type": "stream",
     "text": [
      "   a  b\n",
      "0  1  3\n",
      "1  1  3\n",
      "2  1  3\n",
      "3  1  3\n",
      "4  1  3\n",
      "5  1  3\n",
      "6  1  3\n",
      "7  1  3\n"
     ]
    }
   ],
   "source": [
    "grouped = df.groupby(get_letter_type,axis = 1)\n",
    "print(grouped.count())"
   ]
  },
  {
   "cell_type": "code",
   "execution_count": 11,
   "metadata": {},
   "outputs": [
    {
     "name": "stdout",
     "output_type": "stream",
     "text": [
      "a    1\n",
      "b    3\n",
      "Name: 0, dtype: int64\n"
     ]
    }
   ],
   "source": [
    "print(grouped.count().iloc[0])"
   ]
  },
  {
   "cell_type": "code",
   "execution_count": 12,
   "metadata": {},
   "outputs": [],
   "source": [
    "s = pd.Series([1,2,3,1,2,3],[8,7,5,8,7,5])"
   ]
  },
  {
   "cell_type": "code",
   "execution_count": 13,
   "metadata": {},
   "outputs": [
    {
     "name": "stdout",
     "output_type": "stream",
     "text": [
      "8    1\n",
      "7    2\n",
      "5    3\n",
      "8    1\n",
      "7    2\n",
      "5    3\n",
      "dtype: int64\n"
     ]
    }
   ],
   "source": [
    "print(s)"
   ]
  },
  {
   "cell_type": "code",
   "execution_count": 17,
   "metadata": {},
   "outputs": [
    {
     "name": "stdout",
     "output_type": "stream",
     "text": [
      "8    1\n",
      "7    2\n",
      "5    3\n",
      "8    1\n",
      "7    2\n",
      "5    3\n",
      "dtype: int64\n"
     ]
    }
   ],
   "source": [
    "# level=0 分组级别，其中0代表按照第一列分组。也可以直接写列的名字\n",
    "grouped = s.groupby(level=0,sort=False)"
   ]
  },
  {
   "cell_type": "code",
   "execution_count": 18,
   "metadata": {},
   "outputs": [
    {
     "name": "stdout",
     "output_type": "stream",
     "text": [
      "8    1\n",
      "7    2\n",
      "5    3\n",
      "dtype: int64\n"
     ]
    }
   ],
   "source": [
    "print(grouped.first())"
   ]
  },
  {
   "cell_type": "code",
   "execution_count": 19,
   "metadata": {},
   "outputs": [
    {
     "name": "stdout",
     "output_type": "stream",
     "text": [
      "8    1\n",
      "7    2\n",
      "5    3\n",
      "dtype: int64\n"
     ]
    }
   ],
   "source": [
    "print(grouped.last())"
   ]
  },
  {
   "cell_type": "code",
   "execution_count": 21,
   "metadata": {},
   "outputs": [
    {
     "name": "stdout",
     "output_type": "stream",
     "text": [
      "8    2\n",
      "7    4\n",
      "5    6\n",
      "dtype: int64\n"
     ]
    }
   ],
   "source": [
    "print(grouped.sum())"
   ]
  },
  {
   "cell_type": "code",
   "execution_count": 22,
   "metadata": {},
   "outputs": [],
   "source": [
    "df2 = pd.DataFrame({'X':['A','B','A','B'],'Y':[1,2,3,4]})"
   ]
  },
  {
   "cell_type": "code",
   "execution_count": 24,
   "metadata": {},
   "outputs": [
    {
     "name": "stdout",
     "output_type": "stream",
     "text": [
      "   X  Y\n",
      "0  A  1\n",
      "1  B  2\n",
      "2  A  3\n",
      "3  B  4\n"
     ]
    }
   ],
   "source": [
    "print(df2)"
   ]
  },
  {
   "cell_type": "code",
   "execution_count": 43,
   "metadata": {},
   "outputs": [
    {
     "name": "stdout",
     "output_type": "stream",
     "text": [
      "   X  Y\n",
      "0  A  1\n",
      "2  A  3\n"
     ]
    }
   ],
   "source": [
    "print(df2.groupby('X').get_group('A'))"
   ]
  },
  {
   "cell_type": "code",
   "execution_count": 25,
   "metadata": {},
   "outputs": [
    {
     "name": "stdout",
     "output_type": "stream",
     "text": [
      "   X  Y\n",
      "1  B  2\n",
      "3  B  4\n"
     ]
    }
   ],
   "source": [
    "print(df2.groupby('X').get_group('B'))"
   ]
  },
  {
   "cell_type": "code",
   "execution_count": 26,
   "metadata": {},
   "outputs": [],
   "source": [
    "arrays = [['bar','bar','baz','baz','foo','foo','qux','qux'],\n",
    "          ['one','two','one','two','one','two','one','two']]"
   ]
  },
  {
   "cell_type": "code",
   "execution_count": 27,
   "metadata": {},
   "outputs": [],
   "source": [
    "index = pd.MultiIndex.from_arrays(arrays=arrays,names=['first','second'])"
   ]
  },
  {
   "cell_type": "code",
   "execution_count": 28,
   "metadata": {},
   "outputs": [],
   "source": [
    "s = pd.Series(np.random.randn(8),index=index)"
   ]
  },
  {
   "cell_type": "code",
   "execution_count": 30,
   "metadata": {},
   "outputs": [
    {
     "name": "stdout",
     "output_type": "stream",
     "text": [
      "first  second\n",
      "bar    one      -0.592126\n",
      "       two       0.053947\n",
      "baz    one       0.346955\n",
      "       two       0.841465\n",
      "foo    one       2.278900\n",
      "       two       0.583132\n",
      "qux    one      -0.460080\n",
      "       two      -1.346499\n",
      "dtype: float64\n"
     ]
    }
   ],
   "source": [
    "print(s)"
   ]
  },
  {
   "cell_type": "code",
   "execution_count": 33,
   "metadata": {},
   "outputs": [],
   "source": [
    "# groupby(level=0)  level属性分组级别，对应的值可以是数字，0代表第一列。或者直接写列的名字\n",
    "grouped = s.groupby(level=0)"
   ]
  },
  {
   "cell_type": "code",
   "execution_count": 34,
   "metadata": {},
   "outputs": [
    {
     "name": "stdout",
     "output_type": "stream",
     "text": [
      "first\n",
      "bar   -0.538179\n",
      "baz    1.188420\n",
      "foo    2.862032\n",
      "qux   -1.806579\n",
      "dtype: float64\n"
     ]
    }
   ],
   "source": [
    "print(grouped.sum())"
   ]
  },
  {
   "cell_type": "code",
   "execution_count": 35,
   "metadata": {},
   "outputs": [
    {
     "name": "stdout",
     "output_type": "stream",
     "text": [
      "second\n",
      "one    1.573648\n",
      "two    0.132045\n",
      "dtype: float64\n"
     ]
    }
   ],
   "source": [
    "grouped = s.groupby(level=1)\n",
    "print(grouped.sum())"
   ]
  },
  {
   "cell_type": "code",
   "execution_count": 36,
   "metadata": {},
   "outputs": [
    {
     "name": "stdout",
     "output_type": "stream",
     "text": [
      "first\n",
      "bar   -0.538179\n",
      "baz    1.188420\n",
      "foo    2.862032\n",
      "qux   -1.806579\n",
      "dtype: float64\n"
     ]
    }
   ],
   "source": [
    "grouped = s.groupby(level='first')\n",
    "print(grouped.sum())"
   ]
  },
  {
   "cell_type": "code",
   "execution_count": 37,
   "metadata": {},
   "outputs": [
    {
     "name": "stdout",
     "output_type": "stream",
     "text": [
      "     A      B         C         D\n",
      "0  foo    one  0.256187  1.405181\n",
      "1  bar    one -0.026901  2.172614\n",
      "2  foo    two -0.734997 -1.519650\n",
      "3  bar  three  0.779518  0.170890\n",
      "4  foo    two -0.313610 -1.041495\n",
      "5  bar    two -1.446488 -0.017230\n",
      "6  foo    one  0.847826 -2.353311\n",
      "7  foo  three -0.919955  0.805450\n"
     ]
    }
   ],
   "source": [
    "print(df)"
   ]
  },
  {
   "cell_type": "code",
   "execution_count": 38,
   "metadata": {},
   "outputs": [
    {
     "name": "stdout",
     "output_type": "stream",
     "text": [
      "                  C         D\n",
      "A   B                        \n",
      "bar one   -0.026901  2.172614\n",
      "    three  0.779518  0.170890\n",
      "    two   -1.446488 -0.017230\n",
      "foo one    1.104013 -0.948130\n",
      "    three -0.919955  0.805450\n",
      "    two   -1.048607 -2.561145\n"
     ]
    }
   ],
   "source": [
    "grouped = df.groupby(['A','B'])\n",
    "print(grouped.aggregate(np.sum))"
   ]
  },
  {
   "cell_type": "code",
   "execution_count": 39,
   "metadata": {},
   "outputs": [
    {
     "name": "stdout",
     "output_type": "stream",
     "text": [
      "     A      B         C         D\n",
      "0  bar    one -0.026901  2.172614\n",
      "1  bar  three  0.779518  0.170890\n",
      "2  bar    two -1.446488 -0.017230\n",
      "3  foo    one  1.104013 -0.948130\n",
      "4  foo  three -0.919955  0.805450\n",
      "5  foo    two -1.048607 -2.561145\n"
     ]
    }
   ],
   "source": [
    "grouped = df.groupby(['A','B'],as_index=False)\n",
    "print(grouped.aggregate(np.sum))"
   ]
  },
  {
   "cell_type": "code",
   "execution_count": 40,
   "metadata": {},
   "outputs": [
    {
     "name": "stdout",
     "output_type": "stream",
     "text": [
      "     A      B         C         D\n",
      "0  bar    one -0.026901  2.172614\n",
      "1  bar  three  0.779518  0.170890\n",
      "2  bar    two -1.446488 -0.017230\n",
      "3  foo    one  1.104013 -0.948130\n",
      "4  foo  three -0.919955  0.805450\n",
      "5  foo    two -1.048607 -2.561145\n"
     ]
    }
   ],
   "source": [
    "# 分组求和后，进行重新构建索引\n",
    "print(df.groupby(['A','B']).sum().reset_index())"
   ]
  },
  {
   "cell_type": "code",
   "execution_count": 41,
   "metadata": {},
   "outputs": [
    {
     "name": "stdout",
     "output_type": "stream",
     "text": [
      "A    B    \n",
      "bar  one      1\n",
      "     three    1\n",
      "     two      1\n",
      "foo  one      2\n",
      "     three    1\n",
      "     two      2\n",
      "dtype: int64\n"
     ]
    }
   ],
   "source": [
    "grouped = df.groupby(['A','B'])\n",
    "print(grouped.size())"
   ]
  },
  {
   "cell_type": "code",
   "execution_count": 45,
   "metadata": {
    "scrolled": true
   },
   "outputs": [
    {
     "name": "stdout",
     "output_type": "stream",
     "text": [
      "              C                                                              \\\n",
      "          count      mean       std       min       25%       50%       75%   \n",
      "A   B                                                                         \n",
      "bar one     1.0 -0.026901       NaN -0.026901 -0.026901 -0.026901 -0.026901   \n",
      "    three   1.0  0.779518       NaN  0.779518  0.779518  0.779518  0.779518   \n",
      "    two     1.0 -1.446488       NaN -1.446488 -1.446488 -1.446488 -1.446488   \n",
      "foo one     2.0  0.552006  0.418352  0.256187  0.404097  0.552006  0.699916   \n",
      "    three   1.0 -0.919955       NaN -0.919955 -0.919955 -0.919955 -0.919955   \n",
      "\n",
      "                        D                                                    \\\n",
      "                max count      mean       std       min       25%       50%   \n",
      "A   B                                                                         \n",
      "bar one   -0.026901   1.0  2.172614       NaN  2.172614  2.172614  2.172614   \n",
      "    three  0.779518   1.0  0.170890       NaN  0.170890  0.170890  0.170890   \n",
      "    two   -1.446488   1.0 -0.017230       NaN -0.017230 -0.017230 -0.017230   \n",
      "foo one    0.847826   2.0 -0.474065  2.657655 -2.353311 -1.413688 -0.474065   \n",
      "    three -0.919955   1.0  0.805450       NaN  0.805450  0.805450  0.805450   \n",
      "\n",
      "                               \n",
      "                75%       max  \n",
      "A   B                          \n",
      "bar one    2.172614  2.172614  \n",
      "    three  0.170890  0.170890  \n",
      "    two   -0.017230 -0.017230  \n",
      "foo one    0.465558  1.405181  \n",
      "    three  0.805450  0.805450  \n"
     ]
    }
   ],
   "source": [
    "# describe() 数据统计\n",
    "print(grouped.describe().head())"
   ]
  },
  {
   "cell_type": "code",
   "execution_count": 46,
   "metadata": {},
   "outputs": [
    {
     "name": "stdout",
     "output_type": "stream",
     "text": [
      "         sum     mean       std\n",
      "A                              \n",
      "bar -0.69387 -0.23129  1.126990\n",
      "foo -0.86455 -0.17291  0.727984\n"
     ]
    }
   ],
   "source": [
    "# agg([np.sum,np.mean,np.std]) 自定义统计参数\n",
    "grouped = df.groupby('A')\n",
    "print(grouped['C'].agg([np.sum,np.mean,np.std]))"
   ]
  },
  {
   "cell_type": "code",
   "execution_count": 47,
   "metadata": {},
   "outputs": [
    {
     "name": "stdout",
     "output_type": "stream",
     "text": [
      "     res_sum  res_mean   res_std\n",
      "A                               \n",
      "bar -0.69387  -0.23129  1.126990\n",
      "foo -0.86455  -0.17291  0.727984\n"
     ]
    },
    {
     "name": "stderr",
     "output_type": "stream",
     "text": [
      "d:\\users\\lib\\site-packages\\ipykernel_launcher.py:1: FutureWarning: using a dict on a Series for aggregation\n",
      "is deprecated and will be removed in a future version\n",
      "  \"\"\"Entry point for launching an IPython kernel.\n"
     ]
    }
   ],
   "source": [
    "print(grouped['C'].agg({'res_sum':np.sum,'res_mean':np.mean,'res_std':np.std}))"
   ]
  }
 ],
 "metadata": {
  "kernelspec": {
   "display_name": "Python 3",
   "language": "python",
   "name": "python3"
  },
  "language_info": {
   "codemirror_mode": {
    "name": "ipython",
    "version": 3
   },
   "file_extension": ".py",
   "mimetype": "text/x-python",
   "name": "python",
   "nbconvert_exporter": "python",
   "pygments_lexer": "ipython3",
   "version": "3.6.3"
  }
 },
 "nbformat": 4,
 "nbformat_minor": 2
}
