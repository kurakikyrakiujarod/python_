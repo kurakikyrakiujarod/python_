{
 "cells": [
  {
   "cell_type": "code",
   "execution_count": 1,
   "metadata": {},
   "outputs": [],
   "source": [
    "import pandas as pd"
   ]
  },
  {
   "cell_type": "code",
   "execution_count": 2,
   "metadata": {},
   "outputs": [],
   "source": [
    "left = pd.DataFrame({'key1':['K0','K1','K2','K3'],\n",
    "                     'key2':['K0','K1','K2','K3'],\n",
    "                     'A':['A0','A1','A2','A3'],\n",
    "                     'B':['B0','B1','B2','B3']})\n",
    "\n",
    "right = pd.DataFrame({'key1':['K0','K1','K2','K3'],\n",
    "                      'key2':['K0','K1','K2','K4'],\n",
    "                      'C':['C0','C1','C2','C3'],\n",
    "                      'D':['D0','D1','D2','D3']})"
   ]
  },
  {
   "cell_type": "code",
   "execution_count": 3,
   "metadata": {},
   "outputs": [
    {
     "name": "stdout",
     "output_type": "stream",
     "text": [
      "  key1 key2   A   B\n",
      "0   K0   K0  A0  B0\n",
      "1   K1   K1  A1  B1\n",
      "2   K2   K2  A2  B2\n",
      "3   K3   K3  A3  B3\n"
     ]
    }
   ],
   "source": [
    "print(left)"
   ]
  },
  {
   "cell_type": "code",
   "execution_count": 4,
   "metadata": {},
   "outputs": [
    {
     "name": "stdout",
     "output_type": "stream",
     "text": [
      "  key1 key2   C   D\n",
      "0   K0   K0  C0  D0\n",
      "1   K1   K1  C1  D1\n",
      "2   K2   K2  C2  D2\n",
      "3   K3   K4  C3  D3\n"
     ]
    }
   ],
   "source": [
    "print(right)"
   ]
  },
  {
   "cell_type": "code",
   "execution_count": 13,
   "metadata": {},
   "outputs": [],
   "source": [
    "# Meger合并多个表格中相同字段的数据"
   ]
  },
  {
   "cell_type": "code",
   "execution_count": 6,
   "metadata": {},
   "outputs": [
    {
     "name": "stdout",
     "output_type": "stream",
     "text": [
      "  key1 key2   A   B   C   D\n",
      "0   K0   K0  A0  B0  C0  D0\n",
      "1   K1   K1  A1  B1  C1  D1\n",
      "2   K2   K2  A2  B2  C2  D2\n"
     ]
    }
   ],
   "source": [
    "# 使用meger将left表格和right表格同类合并\n",
    "print(pd.merge(left=left,right=right))"
   ]
  },
  {
   "cell_type": "code",
   "execution_count": 14,
   "metadata": {},
   "outputs": [
    {
     "name": "stdout",
     "output_type": "stream",
     "text": [
      "  key1 key2_x   A   B key2_y   C   D\n",
      "0   K0     K0  A0  B0     K0  C0  D0\n",
      "1   K1     K1  A1  B1     K1  C1  D1\n",
      "2   K2     K2  A2  B2     K2  C2  D2\n",
      "3   K3     K3  A3  B3     K4  C3  D3\n"
     ]
    }
   ],
   "source": [
    "# meger方法中的on代表选择合并的字段\n",
    "print(pd.merge(left=left,right=right,on='key1'))"
   ]
  },
  {
   "cell_type": "code",
   "execution_count": 8,
   "metadata": {},
   "outputs": [
    {
     "name": "stdout",
     "output_type": "stream",
     "text": [
      "  key1 key2   A   B   C   D\n",
      "0   K0   K0  A0  B0  C0  D0\n",
      "1   K1   K1  A1  B1  C1  D1\n",
      "2   K2   K2  A2  B2  C2  D2\n"
     ]
    }
   ],
   "source": [
    "# merge合并相同名称字段时候，两个字段的值不是完全一样。默认是采用交集方式合并\n",
    "print(pd.merge(left=left,right=right,on=['key1','key2']))"
   ]
  },
  {
   "cell_type": "code",
   "execution_count": 9,
   "metadata": {},
   "outputs": [
    {
     "name": "stdout",
     "output_type": "stream",
     "text": [
      "  key1 key2    A    B    C    D\n",
      "0   K0   K0   A0   B0   C0   D0\n",
      "1   K1   K1   A1   B1   C1   D1\n",
      "2   K2   K2   A2   B2   C2   D2\n",
      "3   K3   K3   A3   B3  NaN  NaN\n",
      "4   K3   K4  NaN  NaN   C3   D3\n"
     ]
    }
   ],
   "source": [
    "print(pd.merge(left=left,right=right,on=['key1','key2'],how='outer'))"
   ]
  },
  {
   "cell_type": "code",
   "execution_count": 10,
   "metadata": {},
   "outputs": [
    {
     "name": "stdout",
     "output_type": "stream",
     "text": [
      "  key1 key2    A    B    C    D      _merge\n",
      "0   K0   K0   A0   B0   C0   D0        both\n",
      "1   K1   K1   A1   B1   C1   D1        both\n",
      "2   K2   K2   A2   B2   C2   D2        both\n",
      "3   K3   K3   A3   B3  NaN  NaN   left_only\n",
      "4   K3   K4  NaN  NaN   C3   D3  right_only\n"
     ]
    }
   ],
   "source": [
    "# indicator 参数表示显示表格每个字段合并的详细信息\n",
    "# both:两个表左右值都显示。 left_only:左联接显示左边表格的数据 right_only:右链接，显示右边表格的数据\n",
    "# how='表格名称' 当how参数填写表格名称时，就会指定以这个表格为基准显示数据\n",
    "print(pd.merge(left=left,right=right,on=['key1','key2'],how='outer',indicator=True))"
   ]
  },
  {
   "cell_type": "code",
   "execution_count": 11,
   "metadata": {},
   "outputs": [
    {
     "name": "stdout",
     "output_type": "stream",
     "text": [
      "  key1 key2   A   B    C    D\n",
      "0   K0   K0  A0  B0   C0   D0\n",
      "1   K1   K1  A1  B1   C1   D1\n",
      "2   K2   K2  A2  B2   C2   D2\n",
      "3   K3   K3  A3  B3  NaN  NaN\n"
     ]
    }
   ],
   "source": [
    "print(pd.merge(left=left,right=right,on=['key1','key2'],how='left'))"
   ]
  },
  {
   "cell_type": "code",
   "execution_count": 12,
   "metadata": {},
   "outputs": [
    {
     "name": "stdout",
     "output_type": "stream",
     "text": [
      "  key1 key2    A    B   C   D\n",
      "0   K0   K0   A0   B0  C0  D0\n",
      "1   K1   K1   A1   B1  C1  D1\n",
      "2   K2   K2   A2   B2  C2  D2\n",
      "3   K3   K4  NaN  NaN  C3  D3\n"
     ]
    }
   ],
   "source": [
    "print(pd.merge(left=left,right=right,on=['key1','key2'],how='right'))"
   ]
  }
 ],
 "metadata": {
  "kernelspec": {
   "display_name": "Python 3",
   "language": "python",
   "name": "python3"
  },
  "language_info": {
   "codemirror_mode": {
    "name": "ipython",
    "version": 3
   },
   "file_extension": ".py",
   "mimetype": "text/x-python",
   "name": "python",
   "nbconvert_exporter": "python",
   "pygments_lexer": "ipython3",
   "version": "3.6.3"
  }
 },
 "nbformat": 4,
 "nbformat_minor": 2
}
