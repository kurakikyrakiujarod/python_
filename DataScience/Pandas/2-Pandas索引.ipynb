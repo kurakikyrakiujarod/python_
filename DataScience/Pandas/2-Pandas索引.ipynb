{
 "cells": [
  {
   "cell_type": "markdown",
   "metadata": {},
   "source": [
    "### Pandas索引结构"
   ]
  },
  {
   "cell_type": "code",
   "execution_count": 1,
   "metadata": {},
   "outputs": [],
   "source": [
    "import pandas as pd"
   ]
  },
  {
   "cell_type": "code",
   "execution_count": 2,
   "metadata": {},
   "outputs": [],
   "source": [
    "df = pd.read_csv('./data/titanic.csv')"
   ]
  },
  {
   "cell_type": "code",
   "execution_count": 3,
   "metadata": {},
   "outputs": [
    {
     "name": "stdout",
     "output_type": "stream",
     "text": [
      "0    22.0\n",
      "1    38.0\n",
      "2    26.0\n",
      "3    35.0\n",
      "4    35.0\n",
      "Name: Age, dtype: float64\n"
     ]
    }
   ],
   "source": [
    "print(df['Age'][:5])"
   ]
  },
  {
   "cell_type": "code",
   "execution_count": 4,
   "metadata": {},
   "outputs": [
    {
     "name": "stdout",
     "output_type": "stream",
     "text": [
      "    Age     Fare\n",
      "0  22.0   7.2500\n",
      "1  38.0  71.2833\n",
      "2  26.0   7.9250\n",
      "3  35.0  53.1000\n",
      "4  35.0   8.0500\n"
     ]
    }
   ],
   "source": [
    "print(df[['Age','Fare']][:5])"
   ]
  },
  {
   "cell_type": "code",
   "execution_count": 5,
   "metadata": {},
   "outputs": [],
   "source": [
    "# 指定显示行索引具体的数据需要用到loc和iloc\n",
    "# loc：用label来定位去获取数据\n",
    "# iloc：用位置来定位获取数据"
   ]
  },
  {
   "cell_type": "code",
   "execution_count": 7,
   "metadata": {},
   "outputs": [
    {
     "name": "stdout",
     "output_type": "stream",
     "text": [
      "PassengerId                          1\n",
      "Survived                             0\n",
      "Pclass                               3\n",
      "Name           Braund, Mr. Owen Harris\n",
      "Sex                               male\n",
      "Age                                 22\n",
      "SibSp                                1\n",
      "Parch                                0\n",
      "Ticket                       A/5 21171\n",
      "Fare                              7.25\n",
      "Cabin                              NaN\n",
      "Embarked                             S\n",
      "Name: 0, dtype: object\n"
     ]
    }
   ],
   "source": [
    "print(df.iloc[0])"
   ]
  },
  {
   "cell_type": "code",
   "execution_count": 8,
   "metadata": {},
   "outputs": [
    {
     "name": "stdout",
     "output_type": "stream",
     "text": [
      "   PassengerId  Survived  Pclass  \\\n",
      "0            1         0       3   \n",
      "1            2         1       1   \n",
      "2            3         1       3   \n",
      "3            4         1       1   \n",
      "4            5         0       3   \n",
      "\n",
      "                                                Name     Sex   Age  SibSp  \\\n",
      "0                            Braund, Mr. Owen Harris    male  22.0      1   \n",
      "1  Cumings, Mrs. John Bradley (Florence Briggs Th...  female  38.0      1   \n",
      "2                             Heikkinen, Miss. Laina  female  26.0      0   \n",
      "3       Futrelle, Mrs. Jacques Heath (Lily May Peel)  female  35.0      1   \n",
      "4                           Allen, Mr. William Henry    male  35.0      0   \n",
      "\n",
      "   Parch            Ticket     Fare Cabin Embarked  \n",
      "0      0         A/5 21171   7.2500   NaN        S  \n",
      "1      0          PC 17599  71.2833   C85        C  \n",
      "2      0  STON/O2. 3101282   7.9250   NaN        S  \n",
      "3      0            113803  53.1000  C123        S  \n",
      "4      0            373450   8.0500   NaN        S  \n"
     ]
    }
   ],
   "source": [
    "print(df.iloc[:5])"
   ]
  },
  {
   "cell_type": "code",
   "execution_count": 10,
   "metadata": {},
   "outputs": [
    {
     "name": "stdout",
     "output_type": "stream",
     "text": [
      "   Survived  Pclass\n",
      "0         0       3\n",
      "1         1       1\n",
      "2         1       3\n",
      "3         1       1\n",
      "4         0       3\n"
     ]
    }
   ],
   "source": [
    "# 在显示指定的行数据上，再次过滤显示指定列的数据\n",
    "print(df.iloc[:5,1:3])"
   ]
  },
  {
   "cell_type": "code",
   "execution_count": 11,
   "metadata": {},
   "outputs": [],
   "source": [
    "df = df.set_index('Name')"
   ]
  },
  {
   "cell_type": "code",
   "execution_count": 12,
   "metadata": {},
   "outputs": [
    {
     "name": "stdout",
     "output_type": "stream",
     "text": [
      "PassengerId                   3\n",
      "Survived                      1\n",
      "Pclass                        3\n",
      "Sex                      female\n",
      "Age                          26\n",
      "SibSp                         0\n",
      "Parch                         0\n",
      "Ticket         STON/O2. 3101282\n",
      "Fare                      7.925\n",
      "Cabin                       NaN\n",
      "Embarked                      S\n",
      "Name: Heikkinen, Miss. Laina, dtype: object\n"
     ]
    }
   ],
   "source": [
    "# 用标签名称做定位就用loc\n",
    "# 用一个数值定位，就用iloc\n",
    "print(df.loc['Heikkinen, Miss. Laina'])"
   ]
  },
  {
   "cell_type": "code",
   "execution_count": 42,
   "metadata": {},
   "outputs": [
    {
     "name": "stdout",
     "output_type": "stream",
     "text": [
      "7.925\n"
     ]
    }
   ],
   "source": [
    "# 用loc定位显示指定行中，指定列的数据\n",
    "print(df.loc['Heikkinen, Miss. Laina','Fare'])"
   ]
  },
  {
   "cell_type": "code",
   "execution_count": 14,
   "metadata": {},
   "outputs": [
    {
     "name": "stdout",
     "output_type": "stream",
     "text": [
      "                                              PassengerId  Survived  Pclass  \\\n",
      "Name                                                                          \n",
      "Heikkinen, Miss. Laina                                  3         1       3   \n",
      "Futrelle, Mrs. Jacques Heath (Lily May Peel)            4         1       1   \n",
      "Allen, Mr. William Henry                                5         0       3   \n",
      "\n",
      "                                                 Sex   Age  SibSp  Parch  \\\n",
      "Name                                                                       \n",
      "Heikkinen, Miss. Laina                        female  26.0      0      0   \n",
      "Futrelle, Mrs. Jacques Heath (Lily May Peel)  female  35.0      1      0   \n",
      "Allen, Mr. William Henry                        male  35.0      0      0   \n",
      "\n",
      "                                                        Ticket    Fare Cabin  \\\n",
      "Name                                                                           \n",
      "Heikkinen, Miss. Laina                        STON/O2. 3101282   7.925   NaN   \n",
      "Futrelle, Mrs. Jacques Heath (Lily May Peel)            113803  53.100  C123   \n",
      "Allen, Mr. William Henry                                373450   8.050   NaN   \n",
      "\n",
      "                                             Embarked  \n",
      "Name                                                   \n",
      "Heikkinen, Miss. Laina                              S  \n",
      "Futrelle, Mrs. Jacques Heath (Lily May Peel)        S  \n",
      "Allen, Mr. William Henry                            S  \n"
     ]
    }
   ],
   "source": [
    "# print(df.loc['Heikkinen, Miss. Laina':'Allen, Mr. William Henry',:])\n",
    "print(df.loc['Heikkinen, Miss. Laina':'Allen, Mr. William Henry'])"
   ]
  },
  {
   "cell_type": "code",
   "execution_count": 15,
   "metadata": {},
   "outputs": [
    {
     "name": "stdout",
     "output_type": "stream",
     "text": [
      "                                                    PassengerId  Survived  \\\n",
      "Name                                                                        \n",
      "Braund, Mr. Owen Harris                                       1         0   \n",
      "Cumings, Mrs. John Bradley (Florence Briggs Tha...            2         1   \n",
      "Heikkinen, Miss. Laina                                        3         1   \n",
      "Futrelle, Mrs. Jacques Heath (Lily May Peel)                  4         1   \n",
      "Allen, Mr. William Henry                                      5         0   \n",
      "\n",
      "                                                    Pclass     Sex   Age  \\\n",
      "Name                                                                       \n",
      "Braund, Mr. Owen Harris                                  3    male  22.0   \n",
      "Cumings, Mrs. John Bradley (Florence Briggs Tha...       1  female  38.0   \n",
      "Heikkinen, Miss. Laina                                   3  female  26.0   \n",
      "Futrelle, Mrs. Jacques Heath (Lily May Peel)             1  female  35.0   \n",
      "Allen, Mr. William Henry                                 3    male  35.0   \n",
      "\n",
      "                                                    SibSp  Parch  \\\n",
      "Name                                                               \n",
      "Braund, Mr. Owen Harris                                 1      0   \n",
      "Cumings, Mrs. John Bradley (Florence Briggs Tha...      1      0   \n",
      "Heikkinen, Miss. Laina                                  0      0   \n",
      "Futrelle, Mrs. Jacques Heath (Lily May Peel)            1      0   \n",
      "Allen, Mr. William Henry                                0      0   \n",
      "\n",
      "                                                              Ticket  \\\n",
      "Name                                                                   \n",
      "Braund, Mr. Owen Harris                                    A/5 21171   \n",
      "Cumings, Mrs. John Bradley (Florence Briggs Tha...          PC 17599   \n",
      "Heikkinen, Miss. Laina                              STON/O2. 3101282   \n",
      "Futrelle, Mrs. Jacques Heath (Lily May Peel)                  113803   \n",
      "Allen, Mr. William Henry                                      373450   \n",
      "\n",
      "                                                         Fare Cabin Embarked  \n",
      "Name                                                                          \n",
      "Braund, Mr. Owen Harris                                7.2500   NaN        S  \n",
      "Cumings, Mrs. John Bradley (Florence Briggs Tha...    71.2833   C85        C  \n",
      "Heikkinen, Miss. Laina                              1000.0000   NaN        S  \n",
      "Futrelle, Mrs. Jacques Heath (Lily May Peel)          53.1000  C123        S  \n",
      "Allen, Mr. William Henry                               8.0500   NaN        S  \n"
     ]
    }
   ],
   "source": [
    "# 用loc定位具体的数据后，并修改数据\n",
    "df.loc['Heikkinen, Miss. Laina','Fare'] = 1000\n",
    "print(df.head())"
   ]
  },
  {
   "cell_type": "markdown",
   "metadata": {},
   "source": [
    "### bool类型的索引"
   ]
  },
  {
   "cell_type": "code",
   "execution_count": 16,
   "metadata": {},
   "outputs": [
    {
     "name": "stdout",
     "output_type": "stream",
     "text": [
      "Name\n",
      "Braund, Mr. Owen Harris                                      False\n",
      "Cumings, Mrs. John Bradley (Florence Briggs Thayer)           True\n",
      "Heikkinen, Miss. Laina                                        True\n",
      "Futrelle, Mrs. Jacques Heath (Lily May Peel)                  True\n",
      "Allen, Mr. William Henry                                     False\n",
      "Moran, Mr. James                                             False\n",
      "McCarthy, Mr. Timothy J                                       True\n",
      "Palsson, Master. Gosta Leonard                               False\n",
      "Johnson, Mrs. Oscar W (Elisabeth Vilhelmina Berg)            False\n",
      "Nasser, Mrs. Nicholas (Adele Achem)                          False\n",
      "Sandstrom, Miss. Marguerite Rut                              False\n",
      "Bonnell, Miss. Elizabeth                                     False\n",
      "Saundercock, Mr. William Henry                               False\n",
      "Andersson, Mr. Anders Johan                                  False\n",
      "Vestrom, Miss. Hulda Amanda Adolfina                         False\n",
      "Hewlett, Mrs. (Mary D Kingcome)                              False\n",
      "Rice, Master. Eugene                                         False\n",
      "Williams, Mr. Charles Eugene                                 False\n",
      "Vander Planke, Mrs. Julius (Emelia Maria Vandemoortele)      False\n",
      "Masselmani, Mrs. Fatima                                      False\n",
      "Fynney, Mr. Joseph J                                         False\n",
      "Beesley, Mr. Lawrence                                        False\n",
      "McGowan, Miss. Anna \"Annie\"                                  False\n",
      "Sloper, Mr. William Thompson                                 False\n",
      "Palsson, Miss. Torborg Danira                                False\n",
      "Asplund, Mrs. Carl Oscar (Selma Augusta Emilia Johansson)    False\n",
      "Emir, Mr. Farred Chehab                                      False\n",
      "Fortune, Mr. Charles Alexander                                True\n",
      "O'Dwyer, Miss. Ellen \"Nellie\"                                False\n",
      "Todoroff, Mr. Lalio                                          False\n",
      "                                                             ...  \n",
      "Giles, Mr. Frederick Edward                                  False\n",
      "Swift, Mrs. Frederick Joel (Margaret Welles Barron)          False\n",
      "Sage, Miss. Dorothy Edith \"Dolly\"                             True\n",
      "Gill, Mr. John William                                       False\n",
      "Bystrom, Mrs. (Karolina)                                     False\n",
      "Duran y More, Miss. Asuncion                                 False\n",
      "Roebling, Mr. Washington Augustus II                          True\n",
      "van Melkebeke, Mr. Philemon                                  False\n",
      "Johnson, Master. Harold Theodor                              False\n",
      "Balkic, Mr. Cerin                                            False\n",
      "Beckwith, Mrs. Richard Leonard (Sallie Monypeny)              True\n",
      "Carlsson, Mr. Frans Olof                                     False\n",
      "Vander Cruyssen, Mr. Victor                                  False\n",
      "Abelson, Mrs. Samuel (Hannah Wizosky)                        False\n",
      "Najib, Miss. Adele Kiamie \"Jane\"                             False\n",
      "Gustafsson, Mr. Alfred Ossian                                False\n",
      "Petroff, Mr. Nedelio                                         False\n",
      "Laleff, Mr. Kristo                                           False\n",
      "Potter, Mrs. Thomas Jr (Lily Alexenia Wilson)                 True\n",
      "Shelley, Mrs. William (Imanita Parrish Hall)                 False\n",
      "Markun, Mr. Johann                                           False\n",
      "Dahlberg, Miss. Gerda Ulrika                                 False\n",
      "Banfield, Mr. Frederick James                                False\n",
      "Sutehall, Mr. Henry Jr                                       False\n",
      "Rice, Mrs. William (Margaret Norton)                         False\n",
      "Montvila, Rev. Juozas                                        False\n",
      "Graham, Miss. Margaret Edith                                 False\n",
      "Johnston, Miss. Catherine Helen \"Carrie\"                     False\n",
      "Behr, Mr. Karl Howell                                        False\n",
      "Dooley, Mr. Patrick                                          False\n",
      "Name: Fare, Length: 891, dtype: bool\n"
     ]
    }
   ],
   "source": [
    "print(df['Fare']>40)"
   ]
  },
  {
   "cell_type": "code",
   "execution_count": 18,
   "metadata": {},
   "outputs": [
    {
     "name": "stdout",
     "output_type": "stream",
     "text": [
      "                                                    PassengerId  Survived  \\\n",
      "Name                                                                        \n",
      "Cumings, Mrs. John Bradley (Florence Briggs Tha...            2         1   \n",
      "Heikkinen, Miss. Laina                                        3         1   \n",
      "Futrelle, Mrs. Jacques Heath (Lily May Peel)                  4         1   \n",
      "McCarthy, Mr. Timothy J                                       7         0   \n",
      "Fortune, Mr. Charles Alexander                               28         0   \n",
      "\n",
      "                                                    Pclass     Sex   Age  \\\n",
      "Name                                                                       \n",
      "Cumings, Mrs. John Bradley (Florence Briggs Tha...       1  female  38.0   \n",
      "Heikkinen, Miss. Laina                                   3  female  26.0   \n",
      "Futrelle, Mrs. Jacques Heath (Lily May Peel)             1  female  35.0   \n",
      "McCarthy, Mr. Timothy J                                  1    male  54.0   \n",
      "Fortune, Mr. Charles Alexander                           1    male  19.0   \n",
      "\n",
      "                                                    SibSp  Parch  \\\n",
      "Name                                                               \n",
      "Cumings, Mrs. John Bradley (Florence Briggs Tha...      1      0   \n",
      "Heikkinen, Miss. Laina                                  0      0   \n",
      "Futrelle, Mrs. Jacques Heath (Lily May Peel)            1      0   \n",
      "McCarthy, Mr. Timothy J                                 0      0   \n",
      "Fortune, Mr. Charles Alexander                          3      2   \n",
      "\n",
      "                                                              Ticket  \\\n",
      "Name                                                                   \n",
      "Cumings, Mrs. John Bradley (Florence Briggs Tha...          PC 17599   \n",
      "Heikkinen, Miss. Laina                              STON/O2. 3101282   \n",
      "Futrelle, Mrs. Jacques Heath (Lily May Peel)                  113803   \n",
      "McCarthy, Mr. Timothy J                                        17463   \n",
      "Fortune, Mr. Charles Alexander                                 19950   \n",
      "\n",
      "                                                         Fare        Cabin  \\\n",
      "Name                                                                         \n",
      "Cumings, Mrs. John Bradley (Florence Briggs Tha...    71.2833          C85   \n",
      "Heikkinen, Miss. Laina                              1000.0000          NaN   \n",
      "Futrelle, Mrs. Jacques Heath (Lily May Peel)          53.1000         C123   \n",
      "McCarthy, Mr. Timothy J                               51.8625          E46   \n",
      "Fortune, Mr. Charles Alexander                       263.0000  C23 C25 C27   \n",
      "\n",
      "                                                   Embarked  \n",
      "Name                                                         \n",
      "Cumings, Mrs. John Bradley (Florence Briggs Tha...        C  \n",
      "Heikkinen, Miss. Laina                                    S  \n",
      "Futrelle, Mrs. Jacques Heath (Lily May Peel)              S  \n",
      "McCarthy, Mr. Timothy J                                   S  \n",
      "Fortune, Mr. Charles Alexander                            S  \n"
     ]
    }
   ],
   "source": [
    "print(df[df['Fare']>40][:5])"
   ]
  },
  {
   "cell_type": "code",
   "execution_count": 19,
   "metadata": {},
   "outputs": [
    {
     "name": "stdout",
     "output_type": "stream",
     "text": [
      "                                PassengerId  Survived  Pclass   Sex   Age  \\\n",
      "Name                                                                        \n",
      "Braund, Mr. Owen Harris                   1         0       3  male  22.0   \n",
      "Allen, Mr. William Henry                  5         0       3  male  35.0   \n",
      "Moran, Mr. James                          6         0       3  male   NaN   \n",
      "McCarthy, Mr. Timothy J                   7         0       1  male  54.0   \n",
      "Palsson, Master. Gosta Leonard            8         0       3  male   2.0   \n",
      "\n",
      "                                SibSp  Parch     Ticket     Fare Cabin  \\\n",
      "Name                                                                     \n",
      "Braund, Mr. Owen Harris             1      0  A/5 21171   7.2500   NaN   \n",
      "Allen, Mr. William Henry            0      0     373450   8.0500   NaN   \n",
      "Moran, Mr. James                    0      0     330877   8.4583   NaN   \n",
      "McCarthy, Mr. Timothy J             0      0      17463  51.8625   E46   \n",
      "Palsson, Master. Gosta Leonard      3      1     349909  21.0750   NaN   \n",
      "\n",
      "                               Embarked  \n",
      "Name                                     \n",
      "Braund, Mr. Owen Harris               S  \n",
      "Allen, Mr. William Henry              S  \n",
      "Moran, Mr. James                      Q  \n",
      "McCarthy, Mr. Timothy J               S  \n",
      "Palsson, Master. Gosta Leonard        S  \n"
     ]
    }
   ],
   "source": [
    "print(df[df['Sex']=='male'][:5])"
   ]
  },
  {
   "cell_type": "code",
   "execution_count": 20,
   "metadata": {},
   "outputs": [
    {
     "name": "stdout",
     "output_type": "stream",
     "text": [
      "30.72664459161148\n"
     ]
    }
   ],
   "source": [
    "# 显示Sex为male数据，并且计算数据中age的平均值\n",
    "print(df.loc[df['Sex']=='male','Age'].mean())"
   ]
  },
  {
   "cell_type": "code",
   "execution_count": 21,
   "metadata": {},
   "outputs": [
    {
     "name": "stdout",
     "output_type": "stream",
     "text": [
      "5\n"
     ]
    }
   ],
   "source": [
    "# 统计数据中Age大于70的数量\n",
    "print((df['Age']>70).sum())"
   ]
  }
 ],
 "metadata": {
  "kernelspec": {
   "display_name": "Python 3",
   "language": "python",
   "name": "python3"
  },
  "language_info": {
   "codemirror_mode": {
    "name": "ipython",
    "version": 3
   },
   "file_extension": ".py",
   "mimetype": "text/x-python",
   "name": "python",
   "nbconvert_exporter": "python",
   "pygments_lexer": "ipython3",
   "version": "3.6.3"
  }
 },
 "nbformat": 4,
 "nbformat_minor": 2
}
