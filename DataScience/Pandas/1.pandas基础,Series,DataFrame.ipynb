{
 "cells": [
  {
   "cell_type": "code",
   "execution_count": 1,
   "metadata": {},
   "outputs": [],
   "source": [
    "import pandas as pd\n",
    "import numpy as np"
   ]
  },
  {
   "cell_type": "code",
   "execution_count": 2,
   "metadata": {},
   "outputs": [
    {
     "name": "stdout",
     "output_type": "stream",
     "text": [
      "0    4\n",
      "1    7\n",
      "2   -2\n",
      "3    3\n",
      "dtype: int64\n"
     ]
    }
   ],
   "source": [
    "s1 = pd.Series([4,7,-2,3]) #创建一个series，索引为默认值\n",
    "print(s1)"
   ]
  },
  {
   "cell_type": "code",
   "execution_count": 3,
   "metadata": {},
   "outputs": [
    {
     "name": "stdout",
     "output_type": "stream",
     "text": [
      "[ 4  7 -2  3]\n"
     ]
    }
   ],
   "source": [
    "print(s1.values) #series的值"
   ]
  },
  {
   "cell_type": "code",
   "execution_count": 4,
   "metadata": {},
   "outputs": [
    {
     "name": "stdout",
     "output_type": "stream",
     "text": [
      "RangeIndex(start=0, stop=4, step=1)\n"
     ]
    }
   ],
   "source": [
    "print(s1.index) #series的索引"
   ]
  },
  {
   "cell_type": "code",
   "execution_count": 5,
   "metadata": {},
   "outputs": [
    {
     "name": "stdout",
     "output_type": "stream",
     "text": [
      "a    1\n",
      "b    2\n",
      "c    3\n",
      "x   -3\n",
      "y   -2\n",
      "z   -1\n",
      "dtype: int64\n"
     ]
    }
   ],
   "source": [
    "s2 = pd.Series([1,2,3,-3,-2,-1],index=['a','b','c','x','y','z'])\n",
    "print(s2)"
   ]
  },
  {
   "cell_type": "code",
   "execution_count": 6,
   "metadata": {},
   "outputs": [
    {
     "name": "stdout",
     "output_type": "stream",
     "text": [
      "1\n"
     ]
    }
   ],
   "source": [
    "print(s2['a'])"
   ]
  },
  {
   "cell_type": "code",
   "execution_count": 8,
   "metadata": {},
   "outputs": [
    {
     "name": "stdout",
     "output_type": "stream",
     "text": [
      "a    1\n",
      "b    2\n",
      "c    3\n",
      "dtype: int64\n"
     ]
    }
   ],
   "source": [
    "print(s2[['a','b','c']])"
   ]
  },
  {
   "cell_type": "code",
   "execution_count": 9,
   "metadata": {},
   "outputs": [
    {
     "name": "stdout",
     "output_type": "stream",
     "text": [
      "True\n",
      "False\n"
     ]
    }
   ],
   "source": [
    "print('b' in s2)\n",
    "print('e' in s2)"
   ]
  },
  {
   "cell_type": "code",
   "execution_count": 11,
   "metadata": {},
   "outputs": [
    {
     "name": "stdout",
     "output_type": "stream",
     "text": [
      "a    1\n",
      "b    2\n",
      "c    3\n",
      "dtype: int64\n"
     ]
    }
   ],
   "source": [
    "#Series可以看成是一个定长的有序字典\n",
    "dic = {'a':1,'b':2,'c':3}\n",
    "s3 = pd.Series(dic)\n",
    "print(s3)"
   ]
  },
  {
   "cell_type": "code",
   "execution_count": 12,
   "metadata": {},
   "outputs": [
    {
     "name": "stdout",
     "output_type": "stream",
     "text": [
      "   year  income   pay\n",
      "0  2015    5000  1555\n",
      "1  2016    6000  2666\n",
      "2  2017    7000  3777\n",
      "3  2018    8000  4888\n",
      "4  2019    9000  5999\n"
     ]
    }
   ],
   "source": [
    "#DataFrame\n",
    "data = {'year':[2015,2016,2017,2018,2019],\n",
    "        'income':[5000,6000,7000,8000,9000],\n",
    "        'pay':[1555,2666,3777,4888,5999]}\n",
    "\n",
    "df1 = pd.DataFrame(data)\n",
    "\n",
    "print(df1)"
   ]
  },
  {
   "cell_type": "code",
   "execution_count": 13,
   "metadata": {},
   "outputs": [
    {
     "name": "stdout",
     "output_type": "stream",
     "text": [
      "   0  1   2   3\n",
      "0  0  1   2   3\n",
      "1  4  5   6   7\n",
      "2  8  9  10  11\n"
     ]
    }
   ],
   "source": [
    "df2 = pd.DataFrame(np.arange(12).reshape(3,4))\n",
    "print(df2)"
   ]
  },
  {
   "cell_type": "code",
   "execution_count": 14,
   "metadata": {},
   "outputs": [
    {
     "name": "stdout",
     "output_type": "stream",
     "text": [
      "   x  y   j   k\n",
      "a  0  1   2   3\n",
      "c  4  5   6   7\n",
      "b  8  9  10  11\n"
     ]
    }
   ],
   "source": [
    "df3 = pd.DataFrame(np.arange(12).reshape(3,4),index=['a','c','b'],columns=['x','y','j','k'])\n",
    "print(df3)"
   ]
  },
  {
   "cell_type": "code",
   "execution_count": 18,
   "metadata": {},
   "outputs": [
    {
     "name": "stdout",
     "output_type": "stream",
     "text": [
      "Index(['x', 'y', 'j', 'k'], dtype='object')\n",
      "Index(['a', 'c', 'b'], dtype='object')\n"
     ]
    }
   ],
   "source": [
    "print(df3.columns)\n",
    "print(df3.index)"
   ]
  },
  {
   "cell_type": "code",
   "execution_count": 20,
   "metadata": {},
   "outputs": [
    {
     "name": "stdout",
     "output_type": "stream",
     "text": [
      "              year      income         pay\n",
      "count     5.000000     5.00000     5.00000\n",
      "mean   2017.000000  7000.00000  3777.00000\n",
      "std       1.581139  1581.13883  1756.64524\n",
      "min    2015.000000  5000.00000  1555.00000\n",
      "25%    2016.000000  6000.00000  2666.00000\n",
      "50%    2017.000000  7000.00000  3777.00000\n",
      "75%    2018.000000  8000.00000  4888.00000\n",
      "max    2019.000000  9000.00000  5999.00000\n"
     ]
    }
   ],
   "source": [
    "print(df1.describe())"
   ]
  },
  {
   "cell_type": "code",
   "execution_count": 21,
   "metadata": {},
   "outputs": [
    {
     "name": "stdout",
     "output_type": "stream",
     "text": [
      "           0     1     2     3     4\n",
      "year    2015  2016  2017  2018  2019\n",
      "income  5000  6000  7000  8000  9000\n",
      "pay     1555  2666  3777  4888  5999\n"
     ]
    }
   ],
   "source": [
    "print(df1.T)"
   ]
  },
  {
   "cell_type": "code",
   "execution_count": 22,
   "metadata": {},
   "outputs": [
    {
     "name": "stdout",
     "output_type": "stream",
     "text": [
      "    j   k  x  y\n",
      "a   2   3  0  1\n",
      "c   6   7  4  5\n",
      "b  10  11  8  9\n"
     ]
    }
   ],
   "source": [
    "print(df3.sort_index(axis=1)) #列排序"
   ]
  },
  {
   "cell_type": "code",
   "execution_count": 23,
   "metadata": {},
   "outputs": [
    {
     "name": "stdout",
     "output_type": "stream",
     "text": [
      "   x  y   j   k\n",
      "a  0  1   2   3\n",
      "b  8  9  10  11\n",
      "c  4  5   6   7\n"
     ]
    }
   ],
   "source": [
    "print(df3.sort_index(axis=0)) #行排序"
   ]
  },
  {
   "cell_type": "code",
   "execution_count": 40,
   "metadata": {},
   "outputs": [],
   "source": [
    "# df4 = pd.DataFrame(np.arange(12).reshape(3,4),index=['a','c','b'],columns=[0,100,10,11])\n",
    "# print(df4)\n",
    "# df4.sort_values(by=11)"
   ]
  }
 ],
 "metadata": {
  "kernelspec": {
   "display_name": "Python 3",
   "language": "python",
   "name": "python3"
  },
  "language_info": {
   "codemirror_mode": {
    "name": "ipython",
    "version": 3
   },
   "file_extension": ".py",
   "mimetype": "text/x-python",
   "name": "python",
   "nbconvert_exporter": "python",
   "pygments_lexer": "ipython3",
   "version": "3.6.3"
  }
 },
 "nbformat": 4,
 "nbformat_minor": 2
}
