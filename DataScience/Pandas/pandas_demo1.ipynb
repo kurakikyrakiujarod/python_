{
 "cells": [
  {
   "cell_type": "code",
   "execution_count": 1,
   "metadata": {},
   "outputs": [],
   "source": [
    "import pandas as pd"
   ]
  },
  {
   "cell_type": "code",
   "execution_count": 2,
   "metadata": {},
   "outputs": [],
   "source": [
    "movie = pd.read_csv(\"./IMDB/IMDB-Movie-Data.csv\")"
   ]
  },
  {
   "cell_type": "code",
   "execution_count": 3,
   "metadata": {
    "scrolled": false
   },
   "outputs": [
    {
     "name": "stdout",
     "output_type": "stream",
     "text": [
      "   Rank                    Title                     Genre  \\\n",
      "0     1  Guardians of the Galaxy   Action,Adventure,Sci-Fi   \n",
      "1     2               Prometheus  Adventure,Mystery,Sci-Fi   \n",
      "2     3                    Split           Horror,Thriller   \n",
      "3     4                     Sing   Animation,Comedy,Family   \n",
      "4     5            Suicide Squad  Action,Adventure,Fantasy   \n",
      "\n",
      "                                         Description              Director  \\\n",
      "0  A group of intergalactic criminals are forced ...            James Gunn   \n",
      "1  Following clues to the origin of mankind, a te...          Ridley Scott   \n",
      "2  Three girls are kidnapped by a man with a diag...    M. Night Shyamalan   \n",
      "3  In a city of humanoid animals, a hustling thea...  Christophe Lourdelet   \n",
      "4  A secret government agency recruits some of th...            David Ayer   \n",
      "\n",
      "                                              Actors  Year  Runtime (Minutes)  \\\n",
      "0  Chris Pratt, Vin Diesel, Bradley Cooper, Zoe S...  2014                121   \n",
      "1  Noomi Rapace, Logan Marshall-Green, Michael Fa...  2012                124   \n",
      "2  James McAvoy, Anya Taylor-Joy, Haley Lu Richar...  2016                117   \n",
      "3  Matthew McConaughey,Reese Witherspoon, Seth Ma...  2016                108   \n",
      "4  Will Smith, Jared Leto, Margot Robbie, Viola D...  2016                123   \n",
      "\n",
      "   Rating   Votes  Revenue (Millions)  Metascore  \n",
      "0     8.1  757074              333.13       76.0  \n",
      "1     7.0  485820              126.46       65.0  \n",
      "2     7.3  157606              138.12       62.0  \n",
      "3     7.2   60545              270.32       59.0  \n",
      "4     6.2  393727              325.02       40.0  \n"
     ]
    }
   ],
   "source": [
    "# 1）判断是否存在NaN类型的缺失值\n",
    "print(movie.head())"
   ]
  },
  {
   "cell_type": "code",
   "execution_count": 4,
   "metadata": {},
   "outputs": [],
   "source": [
    "import numpy as np"
   ]
  },
  {
   "cell_type": "code",
   "execution_count": 5,
   "metadata": {},
   "outputs": [
    {
     "name": "stdout",
     "output_type": "stream",
     "text": [
      "True\n"
     ]
    }
   ],
   "source": [
    "print(np.any(pd.isnull(movie))) # 返回True，说明数据中存在缺失值"
   ]
  },
  {
   "cell_type": "code",
   "execution_count": 6,
   "metadata": {},
   "outputs": [
    {
     "name": "stdout",
     "output_type": "stream",
     "text": [
      "False\n"
     ]
    }
   ],
   "source": [
    "print(np.all(pd.notnull(movie))) # 返回False，说明数据中存在缺失值"
   ]
  },
  {
   "cell_type": "code",
   "execution_count": 7,
   "metadata": {},
   "outputs": [
    {
     "name": "stdout",
     "output_type": "stream",
     "text": [
      "Rank                  False\n",
      "Title                 False\n",
      "Genre                 False\n",
      "Description           False\n",
      "Director              False\n",
      "Actors                False\n",
      "Year                  False\n",
      "Runtime (Minutes)     False\n",
      "Rating                False\n",
      "Votes                 False\n",
      "Revenue (Millions)     True\n",
      "Metascore              True\n",
      "dtype: bool\n"
     ]
    }
   ],
   "source": [
    "print(pd.isnull(movie).any())"
   ]
  },
  {
   "cell_type": "code",
   "execution_count": 8,
   "metadata": {},
   "outputs": [
    {
     "name": "stdout",
     "output_type": "stream",
     "text": [
      "Rank                   True\n",
      "Title                  True\n",
      "Genre                  True\n",
      "Description            True\n",
      "Director               True\n",
      "Actors                 True\n",
      "Year                   True\n",
      "Runtime (Minutes)      True\n",
      "Rating                 True\n",
      "Votes                  True\n",
      "Revenue (Millions)    False\n",
      "Metascore             False\n",
      "dtype: bool\n"
     ]
    }
   ],
   "source": [
    "print(pd.notnull(movie).all())"
   ]
  },
  {
   "cell_type": "code",
   "execution_count": 9,
   "metadata": {},
   "outputs": [],
   "source": [
    "# 2）缺失值处理\n",
    "# 方法1：删除含有缺失值的样本\n",
    "data1 = movie.dropna()"
   ]
  },
  {
   "cell_type": "code",
   "execution_count": 10,
   "metadata": {},
   "outputs": [
    {
     "name": "stdout",
     "output_type": "stream",
     "text": [
      "Rank                   True\n",
      "Title                  True\n",
      "Genre                  True\n",
      "Description            True\n",
      "Director               True\n",
      "Actors                 True\n",
      "Year                   True\n",
      "Runtime (Minutes)      True\n",
      "Rating                 True\n",
      "Votes                  True\n",
      "Revenue (Millions)    False\n",
      "Metascore             False\n",
      "dtype: bool\n"
     ]
    }
   ],
   "source": [
    "print(pd.notnull(movie).all())"
   ]
  },
  {
   "cell_type": "code",
   "execution_count": 11,
   "metadata": {},
   "outputs": [
    {
     "name": "stdout",
     "output_type": "stream",
     "text": [
      "Rank                  True\n",
      "Title                 True\n",
      "Genre                 True\n",
      "Description           True\n",
      "Director              True\n",
      "Actors                True\n",
      "Year                  True\n",
      "Runtime (Minutes)     True\n",
      "Rating                True\n",
      "Votes                 True\n",
      "Revenue (Millions)    True\n",
      "Metascore             True\n",
      "dtype: bool\n"
     ]
    }
   ],
   "source": [
    "print(pd.notnull(data1).all())"
   ]
  },
  {
   "cell_type": "code",
   "execution_count": 12,
   "metadata": {},
   "outputs": [],
   "source": [
    "# 方法2：替换"
   ]
  },
  {
   "cell_type": "code",
   "execution_count": 13,
   "metadata": {},
   "outputs": [],
   "source": [
    "# 含有缺失值的字段\n",
    "# Revenue (Millions)    \n",
    "# Metascore\n",
    "movie[\"Revenue (Millions)\"].fillna(movie[\"Revenue (Millions)\"].mean(), inplace=True)\n",
    "movie[\"Metascore\"].fillna(movie[\"Metascore\"].mean(), inplace=True)"
   ]
  },
  {
   "cell_type": "code",
   "execution_count": 14,
   "metadata": {},
   "outputs": [
    {
     "name": "stdout",
     "output_type": "stream",
     "text": [
      "Rank                  True\n",
      "Title                 True\n",
      "Genre                 True\n",
      "Description           True\n",
      "Director              True\n",
      "Actors                True\n",
      "Year                  True\n",
      "Runtime (Minutes)     True\n",
      "Rating                True\n",
      "Votes                 True\n",
      "Revenue (Millions)    True\n",
      "Metascore             True\n",
      "dtype: bool\n"
     ]
    }
   ],
   "source": [
    "print(pd.notnull(movie).all()) # 缺失值已经处理完毕，不存在缺失值"
   ]
  },
  {
   "cell_type": "markdown",
   "metadata": {},
   "source": [
    "### 不是缺失值nan，有默认标记的"
   ]
  },
  {
   "cell_type": "code",
   "execution_count": 16,
   "metadata": {},
   "outputs": [],
   "source": [
    "# 读取数据\n",
    "path = \"https://archive.ics.uci.edu/ml/machine-learning-databases/breast-cancer-wisconsin/breast-cancer-wisconsin.data\"\n",
    "name = [\"Sample code number\", \"Clump Thickness\", \"Uniformity of Cell Size\", \"Uniformity of Cell Shape\", \n",
    "        \"Marginal Adhesion\", \"Single Epithelial Cell Size\", \"Bare Nuclei\", \"Bland Chromatin\", \"Normal Nucleoli\", \n",
    "        \"Mitoses\", \"Class\"]\n",
    "\n",
    "\n",
    "data = pd.read_csv(path, names=name)"
   ]
  },
  {
   "cell_type": "code",
   "execution_count": 18,
   "metadata": {},
   "outputs": [
    {
     "name": "stdout",
     "output_type": "stream",
     "text": [
      "   Sample code number  Clump Thickness  Uniformity of Cell Size  \\\n",
      "0             1000025                5                        1   \n",
      "1             1002945                5                        4   \n",
      "2             1015425                3                        1   \n",
      "3             1016277                6                        8   \n",
      "4             1017023                4                        1   \n",
      "\n",
      "   Uniformity of Cell Shape  Marginal Adhesion  Single Epithelial Cell Size  \\\n",
      "0                         1                  1                            2   \n",
      "1                         4                  5                            7   \n",
      "2                         1                  1                            2   \n",
      "3                         8                  1                            3   \n",
      "4                         1                  3                            2   \n",
      "\n",
      "  Bare Nuclei  Bland Chromatin  Normal Nucleoli  Mitoses  Class  \n",
      "0           1                3                1        1      2  \n",
      "1          10                3                2        1      2  \n",
      "2           2                3                1        1      2  \n",
      "3           4                3                7        1      2  \n",
      "4           1                3                1        1      2  \n"
     ]
    }
   ],
   "source": [
    "print(data.head())"
   ]
  },
  {
   "cell_type": "code",
   "execution_count": 19,
   "metadata": {},
   "outputs": [],
   "source": [
    "# 1）替换\n",
    "data_new = data.replace(to_replace=\"?\", value=np.nan)"
   ]
  },
  {
   "cell_type": "code",
   "execution_count": 20,
   "metadata": {},
   "outputs": [],
   "source": [
    "# 2）删除缺失值\n",
    "data_new.dropna(inplace=True)"
   ]
  },
  {
   "cell_type": "code",
   "execution_count": 21,
   "metadata": {},
   "outputs": [
    {
     "name": "stdout",
     "output_type": "stream",
     "text": [
      "Sample code number             False\n",
      "Clump Thickness                False\n",
      "Uniformity of Cell Size        False\n",
      "Uniformity of Cell Shape       False\n",
      "Marginal Adhesion              False\n",
      "Single Epithelial Cell Size    False\n",
      "Bare Nuclei                    False\n",
      "Bland Chromatin                False\n",
      "Normal Nucleoli                False\n",
      "Mitoses                        False\n",
      "Class                          False\n",
      "dtype: bool\n"
     ]
    }
   ],
   "source": [
    "print(data_new.isnull().any()) # 全部返回False说明不存在缺失值了"
   ]
  },
  {
   "cell_type": "code",
   "execution_count": 34,
   "metadata": {},
   "outputs": [
    {
     "data": {
      "text/plain": [
       "float"
      ]
     },
     "execution_count": 34,
     "metadata": {},
     "output_type": "execute_result"
    }
   ],
   "source": [
    "type(np.nan)"
   ]
  },
  {
   "cell_type": "markdown",
   "metadata": {},
   "source": [
    "### 4.7.3 如何实现数据的离散化"
   ]
  },
  {
   "cell_type": "code",
   "execution_count": 22,
   "metadata": {},
   "outputs": [],
   "source": [
    "# 1）准备数据\n",
    "data = pd.Series([165,174,160,180,159,163,192,184], \n",
    "                 index=['No1:165', 'No2:174','No3:160', 'No4:180', 'No5:159', 'No6:163', 'No7:192', 'No8:184']) "
   ]
  },
  {
   "cell_type": "code",
   "execution_count": 23,
   "metadata": {},
   "outputs": [
    {
     "name": "stdout",
     "output_type": "stream",
     "text": [
      "No1:165    165\n",
      "No2:174    174\n",
      "No3:160    160\n",
      "No4:180    180\n",
      "No5:159    159\n",
      "No6:163    163\n",
      "No7:192    192\n",
      "No8:184    184\n",
      "dtype: int64\n"
     ]
    }
   ],
   "source": [
    "print(data)"
   ]
  },
  {
   "cell_type": "code",
   "execution_count": 24,
   "metadata": {},
   "outputs": [],
   "source": [
    "# 2）分组\n",
    "# 自动分组\n",
    "sr = pd.qcut(data, 3)"
   ]
  },
  {
   "cell_type": "code",
   "execution_count": 25,
   "metadata": {},
   "outputs": [
    {
     "name": "stdout",
     "output_type": "stream",
     "text": [
      "<class 'pandas.core.series.Series'>\n"
     ]
    }
   ],
   "source": [
    "print(type(sr))"
   ]
  },
  {
   "cell_type": "code",
   "execution_count": 26,
   "metadata": {},
   "outputs": [
    {
     "name": "stdout",
     "output_type": "stream",
     "text": [
      "No1:165      (163.667, 178.0]\n",
      "No2:174      (163.667, 178.0]\n",
      "No3:160    (158.999, 163.667]\n",
      "No4:180        (178.0, 192.0]\n",
      "No5:159    (158.999, 163.667]\n",
      "No6:163    (158.999, 163.667]\n",
      "No7:192        (178.0, 192.0]\n",
      "No8:184        (178.0, 192.0]\n",
      "dtype: category\n",
      "Categories (3, interval[float64]): [(158.999, 163.667] < (163.667, 178.0] < (178.0, 192.0]]\n"
     ]
    }
   ],
   "source": [
    "print(sr)"
   ]
  },
  {
   "cell_type": "code",
   "execution_count": 27,
   "metadata": {},
   "outputs": [
    {
     "name": "stdout",
     "output_type": "stream",
     "text": [
      "(178.0, 192.0]        3\n",
      "(158.999, 163.667]    3\n",
      "(163.667, 178.0]      2\n",
      "dtype: int64\n"
     ]
    }
   ],
   "source": [
    "print(sr.value_counts())"
   ]
  },
  {
   "cell_type": "code",
   "execution_count": 29,
   "metadata": {},
   "outputs": [
    {
     "name": "stdout",
     "output_type": "stream",
     "text": [
      "         height_(158.999, 163.667]  height_(163.667, 178.0]  \\\n",
      "No1:165                          0                        1   \n",
      "No2:174                          0                        1   \n",
      "No3:160                          1                        0   \n",
      "No4:180                          0                        0   \n",
      "No5:159                          1                        0   \n",
      "No6:163                          1                        0   \n",
      "No7:192                          0                        0   \n",
      "No8:184                          0                        0   \n",
      "\n",
      "         height_(178.0, 192.0]  \n",
      "No1:165                      0  \n",
      "No2:174                      0  \n",
      "No3:160                      0  \n",
      "No4:180                      1  \n",
      "No5:159                      0  \n",
      "No6:163                      0  \n",
      "No7:192                      1  \n",
      "No8:184                      1  \n"
     ]
    }
   ],
   "source": [
    "# 3）转换成one-hot编码\n",
    "print(pd.get_dummies(sr, prefix=\"height\"))"
   ]
  },
  {
   "cell_type": "code",
   "execution_count": 30,
   "metadata": {},
   "outputs": [],
   "source": [
    "# 自定义分组\n",
    "bins = [150, 165, 180, 195]\n",
    "sr = pd.cut(data, bins)"
   ]
  },
  {
   "cell_type": "code",
   "execution_count": 31,
   "metadata": {},
   "outputs": [
    {
     "name": "stdout",
     "output_type": "stream",
     "text": [
      "No1:165    (150, 165]\n",
      "No2:174    (165, 180]\n",
      "No3:160    (150, 165]\n",
      "No4:180    (165, 180]\n",
      "No5:159    (150, 165]\n",
      "No6:163    (150, 165]\n",
      "No7:192    (180, 195]\n",
      "No8:184    (180, 195]\n",
      "dtype: category\n",
      "Categories (3, interval[int64]): [(150, 165] < (165, 180] < (180, 195]]\n"
     ]
    }
   ],
   "source": [
    "print(sr)"
   ]
  },
  {
   "cell_type": "code",
   "execution_count": 32,
   "metadata": {},
   "outputs": [
    {
     "name": "stdout",
     "output_type": "stream",
     "text": [
      "(150, 165]    4\n",
      "(180, 195]    2\n",
      "(165, 180]    2\n",
      "dtype: int64\n"
     ]
    }
   ],
   "source": [
    "print(sr.value_counts())"
   ]
  },
  {
   "cell_type": "code",
   "execution_count": 33,
   "metadata": {},
   "outputs": [
    {
     "name": "stdout",
     "output_type": "stream",
     "text": [
      "         身高_(150, 165]  身高_(165, 180]  身高_(180, 195]\n",
      "No1:165              1              0              0\n",
      "No2:174              0              1              0\n",
      "No3:160              1              0              0\n",
      "No4:180              0              1              0\n",
      "No5:159              1              0              0\n",
      "No6:163              1              0              0\n",
      "No7:192              0              0              1\n",
      "No8:184              0              0              1\n"
     ]
    }
   ],
   "source": [
    "# get_dummies\n",
    "print(pd.get_dummies(sr, prefix=\"身高\"))"
   ]
  },
  {
   "cell_type": "markdown",
   "metadata": {},
   "source": [
    "### 案例：股票的涨跌幅离散化"
   ]
  },
  {
   "cell_type": "code",
   "execution_count": 34,
   "metadata": {},
   "outputs": [],
   "source": [
    "# 1）读取数据\n",
    "stock = pd.read_csv(\"./stock_day/stock_day.csv\")"
   ]
  },
  {
   "cell_type": "code",
   "execution_count": 35,
   "metadata": {},
   "outputs": [],
   "source": [
    "p_change = stock[\"p_change\"]"
   ]
  },
  {
   "cell_type": "code",
   "execution_count": 36,
   "metadata": {},
   "outputs": [
    {
     "name": "stdout",
     "output_type": "stream",
     "text": [
      "2018-02-27    2.68\n",
      "2018-02-26    3.02\n",
      "2018-02-23    2.42\n",
      "2018-02-22    1.64\n",
      "2018-02-14    2.05\n",
      "Name: p_change, dtype: float64\n"
     ]
    }
   ],
   "source": [
    "print(p_change.head())"
   ]
  },
  {
   "cell_type": "code",
   "execution_count": 37,
   "metadata": {},
   "outputs": [],
   "source": [
    "# 2）分组\n",
    "sr = pd.qcut(p_change, 10)"
   ]
  },
  {
   "cell_type": "code",
   "execution_count": 38,
   "metadata": {},
   "outputs": [
    {
     "name": "stdout",
     "output_type": "stream",
     "text": [
      "(5.27, 10.03]                    65\n",
      "(0.26, 0.94]                     65\n",
      "(-0.462, 0.26]                   65\n",
      "(-10.030999999999999, -4.836]    65\n",
      "(2.938, 5.27]                    64\n",
      "(1.738, 2.938]                   64\n",
      "(-1.352, -0.462]                 64\n",
      "(-2.444, -1.352]                 64\n",
      "(-4.836, -2.444]                 64\n",
      "(0.94, 1.738]                    63\n",
      "Name: p_change, dtype: int64\n"
     ]
    }
   ],
   "source": [
    "print(sr.value_counts())"
   ]
  },
  {
   "cell_type": "code",
   "execution_count": 40,
   "metadata": {},
   "outputs": [
    {
     "name": "stdout",
     "output_type": "stream",
     "text": [
      "            涨跌幅_(-10.030999999999999, -4.836]  涨跌幅_(-4.836, -2.444]  \\\n",
      "2018-02-27                                  0                     0   \n",
      "2018-02-26                                  0                     0   \n",
      "2018-02-23                                  0                     0   \n",
      "2018-02-22                                  0                     0   \n",
      "2018-02-14                                  0                     0   \n",
      "\n",
      "            涨跌幅_(-2.444, -1.352]  涨跌幅_(-1.352, -0.462]  涨跌幅_(-0.462, 0.26]  \\\n",
      "2018-02-27                     0                     0                   0   \n",
      "2018-02-26                     0                     0                   0   \n",
      "2018-02-23                     0                     0                   0   \n",
      "2018-02-22                     0                     0                   0   \n",
      "2018-02-14                     0                     0                   0   \n",
      "\n",
      "            涨跌幅_(0.26, 0.94]  涨跌幅_(0.94, 1.738]  涨跌幅_(1.738, 2.938]  \\\n",
      "2018-02-27                 0                  0                   1   \n",
      "2018-02-26                 0                  0                   0   \n",
      "2018-02-23                 0                  0                   1   \n",
      "2018-02-22                 0                  1                   0   \n",
      "2018-02-14                 0                  0                   1   \n",
      "\n",
      "            涨跌幅_(2.938, 5.27]  涨跌幅_(5.27, 10.03]  \n",
      "2018-02-27                  0                  0  \n",
      "2018-02-26                  1                  0  \n",
      "2018-02-23                  0                  0  \n",
      "2018-02-22                  0                  0  \n",
      "2018-02-14                  0                  0  \n"
     ]
    }
   ],
   "source": [
    "# 3）离散化\n",
    "print(pd.get_dummies(sr, prefix=\"涨跌幅\").head())"
   ]
  },
  {
   "cell_type": "code",
   "execution_count": 41,
   "metadata": {},
   "outputs": [],
   "source": [
    "# 自定义分组\n",
    "bins = [-100, -7, -5, -3, 0, 3, 5, 7, 100]\n",
    "sr = pd.cut(p_change, bins)"
   ]
  },
  {
   "cell_type": "code",
   "execution_count": 42,
   "metadata": {},
   "outputs": [
    {
     "name": "stdout",
     "output_type": "stream",
     "text": [
      "(0, 3]        215\n",
      "(-3, 0]       188\n",
      "(3, 5]         57\n",
      "(-5, -3]       51\n",
      "(7, 100]       35\n",
      "(5, 7]         35\n",
      "(-100, -7]     34\n",
      "(-7, -5]       28\n",
      "Name: p_change, dtype: int64\n"
     ]
    }
   ],
   "source": [
    "print(sr.value_counts())"
   ]
  },
  {
   "cell_type": "code",
   "execution_count": 43,
   "metadata": {},
   "outputs": [
    {
     "name": "stdout",
     "output_type": "stream",
     "text": [
      "            rise_(-100, -7]  rise_(-7, -5]  rise_(-5, -3]  rise_(-3, 0]  \\\n",
      "2018-02-27                0              0              0             0   \n",
      "2018-02-26                0              0              0             0   \n",
      "2018-02-23                0              0              0             0   \n",
      "2018-02-22                0              0              0             0   \n",
      "2018-02-14                0              0              0             0   \n",
      "\n",
      "            rise_(0, 3]  rise_(3, 5]  rise_(5, 7]  rise_(7, 100]  \n",
      "2018-02-27            1            0            0              0  \n",
      "2018-02-26            0            1            0              0  \n",
      "2018-02-23            1            0            0              0  \n",
      "2018-02-22            1            0            0              0  \n",
      "2018-02-14            1            0            0              0  \n"
     ]
    }
   ],
   "source": [
    "# one-hot\n",
    "print(pd.get_dummies(sr, prefix=\"rise\").head())"
   ]
  },
  {
   "cell_type": "code",
   "execution_count": 45,
   "metadata": {},
   "outputs": [],
   "source": [
    "stock_change = pd.get_dummies(sr, prefix=\"rise\")"
   ]
  },
  {
   "cell_type": "code",
   "execution_count": 46,
   "metadata": {},
   "outputs": [
    {
     "name": "stdout",
     "output_type": "stream",
     "text": [
      "            rise_(-100, -7]  rise_(-7, -5]  rise_(-5, -3]  rise_(-3, 0]  \\\n",
      "2018-02-27                0              0              0             0   \n",
      "2018-02-26                0              0              0             0   \n",
      "2018-02-23                0              0              0             0   \n",
      "2018-02-22                0              0              0             0   \n",
      "2018-02-14                0              0              0             0   \n",
      "2018-02-13                0              0              0             0   \n",
      "2018-02-12                0              0              0             0   \n",
      "2018-02-09                0              1              0             0   \n",
      "2018-02-08                0              0              0             0   \n",
      "2018-02-07                0              0              0             1   \n",
      "2018-02-06                0              0              1             0   \n",
      "2018-02-05                0              0              0             0   \n",
      "2018-02-02                0              0              0             0   \n",
      "2018-02-01                0              1              0             0   \n",
      "2018-01-31                0              0              0             1   \n",
      "2018-01-30                0              0              0             0   \n",
      "2018-01-29                0              0              0             1   \n",
      "2018-01-26                0              0              0             0   \n",
      "2018-01-25                0              0              1             0   \n",
      "2018-01-24                0              0              0             1   \n",
      "2018-01-23                0              0              0             0   \n",
      "2018-01-22                0              0              0             1   \n",
      "2018-01-19                0              0              0             0   \n",
      "2018-01-18                0              0              0             0   \n",
      "2018-01-17                0              0              0             0   \n",
      "2018-01-16                0              0              0             0   \n",
      "2018-01-15                0              0              1             0   \n",
      "2018-01-12                0              0              0             0   \n",
      "2018-01-11                0              0              0             1   \n",
      "2018-01-10                0              0              0             1   \n",
      "...                     ...            ...            ...           ...   \n",
      "2015-04-13                0              0              0             0   \n",
      "2015-04-10                0              0              0             1   \n",
      "2015-04-09                0              0              0             0   \n",
      "2015-04-08                0              0              0             0   \n",
      "2015-04-07                0              0              0             0   \n",
      "2015-04-03                0              0              0             0   \n",
      "2015-04-02                0              0              0             0   \n",
      "2015-04-01                0              0              0             0   \n",
      "2015-03-31                0              0              0             1   \n",
      "2015-03-30                0              0              0             0   \n",
      "2015-03-27                0              0              0             0   \n",
      "2015-03-26                0              0              0             1   \n",
      "2015-03-25                0              0              0             1   \n",
      "2015-03-24                0              0              0             0   \n",
      "2015-03-23                0              0              0             0   \n",
      "2015-03-20                0              0              0             1   \n",
      "2015-03-19                0              0              0             0   \n",
      "2015-03-18                0              0              0             0   \n",
      "2015-03-17                0              0              0             0   \n",
      "2015-03-16                0              0              0             0   \n",
      "2015-03-13                0              0              0             0   \n",
      "2015-03-12                0              0              0             1   \n",
      "2015-03-11                0              0              0             1   \n",
      "2015-03-10                0              0              0             0   \n",
      "2015-03-09                0              0              0             0   \n",
      "2015-03-06                0              0              0             0   \n",
      "2015-03-05                0              0              0             0   \n",
      "2015-03-04                0              0              0             0   \n",
      "2015-03-03                0              0              0             0   \n",
      "2015-03-02                0              0              0             0   \n",
      "\n",
      "            rise_(0, 3]  rise_(3, 5]  rise_(5, 7]  rise_(7, 100]  \n",
      "2018-02-27            1            0            0              0  \n",
      "2018-02-26            0            1            0              0  \n",
      "2018-02-23            1            0            0              0  \n",
      "2018-02-22            1            0            0              0  \n",
      "2018-02-14            1            0            0              0  \n",
      "2018-02-13            1            0            0              0  \n",
      "2018-02-12            0            1            0              0  \n",
      "2018-02-09            0            0            0              0  \n",
      "2018-02-08            1            0            0              0  \n",
      "2018-02-07            0            0            0              0  \n",
      "2018-02-06            0            0            0              0  \n",
      "2018-02-05            1            0            0              0  \n",
      "2018-02-02            1            0            0              0  \n",
      "2018-02-01            0            0            0              0  \n",
      "2018-01-31            0            0            0              0  \n",
      "2018-01-30            1            0            0              0  \n",
      "2018-01-29            0            0            0              0  \n",
      "2018-01-26            1            0            0              0  \n",
      "2018-01-25            0            0            0              0  \n",
      "2018-01-24            0            0            0              0  \n",
      "2018-01-23            1            0            0              0  \n",
      "2018-01-22            0            0            0              0  \n",
      "2018-01-19            1            0            0              0  \n",
      "2018-01-18            1            0            0              0  \n",
      "2018-01-17            1            0            0              0  \n",
      "2018-01-16            0            1            0              0  \n",
      "2018-01-15            0            0            0              0  \n",
      "2018-01-12            1            0            0              0  \n",
      "2018-01-11            0            0            0              0  \n",
      "2018-01-10            0            0            0              0  \n",
      "...                 ...          ...          ...            ...  \n",
      "2015-04-13            0            0            0              1  \n",
      "2015-04-10            0            0            0              0  \n",
      "2015-04-09            0            0            1              0  \n",
      "2015-04-08            0            0            1              0  \n",
      "2015-04-07            0            0            1              0  \n",
      "2015-04-03            1            0            0              0  \n",
      "2015-04-02            1            0            0              0  \n",
      "2015-04-01            1            0            0              0  \n",
      "2015-03-31            0            0            0              0  \n",
      "2015-03-30            0            1            0              0  \n",
      "2015-03-27            0            0            1              0  \n",
      "2015-03-26            0            0            0              0  \n",
      "2015-03-25            0            0            0              0  \n",
      "2015-03-24            1            0            0              0  \n",
      "2015-03-23            1            0            0              0  \n",
      "2015-03-20            0            0            0              0  \n",
      "2015-03-19            1            0            0              0  \n",
      "2015-03-18            1            0            0              0  \n",
      "2015-03-17            1            0            0              0  \n",
      "2015-03-16            1            0            0              0  \n",
      "2015-03-13            1            0            0              0  \n",
      "2015-03-12            0            0            0              0  \n",
      "2015-03-11            0            0            0              0  \n",
      "2015-03-10            1            0            0              0  \n",
      "2015-03-09            1            0            0              0  \n",
      "2015-03-06            0            0            0              1  \n",
      "2015-03-05            1            0            0              0  \n",
      "2015-03-04            1            0            0              0  \n",
      "2015-03-03            1            0            0              0  \n",
      "2015-03-02            1            0            0              0  \n",
      "\n",
      "[643 rows x 8 columns]\n"
     ]
    }
   ],
   "source": [
    "print(stock_change)"
   ]
  },
  {
   "cell_type": "markdown",
   "metadata": {},
   "source": [
    "### 4.8.1 pd.concat实现合并"
   ]
  },
  {
   "cell_type": "code",
   "execution_count": 48,
   "metadata": {},
   "outputs": [
    {
     "name": "stdout",
     "output_type": "stream",
     "text": [
      "             open   high  close    low    volume  price_change  p_change  \\\n",
      "2018-02-27  23.53  25.88  24.16  23.53  95578.03          0.63      2.68   \n",
      "2018-02-26  22.80  23.78  23.53  22.80  60985.11          0.69      3.02   \n",
      "2018-02-23  22.88  23.37  22.82  22.71  52914.01          0.54      2.42   \n",
      "2018-02-22  22.25  22.76  22.28  22.02  36105.01          0.36      1.64   \n",
      "2018-02-14  21.49  21.99  21.92  21.48  23331.04          0.44      2.05   \n",
      "\n",
      "               ma5    ma10    ma20     v_ma5    v_ma10    v_ma20  turnover  \n",
      "2018-02-27  22.942  22.142  22.875  53782.64  46738.65  55576.11      2.39  \n",
      "2018-02-26  22.406  21.955  22.942  40827.52  42736.34  56007.50      1.53  \n",
      "2018-02-23  21.938  21.929  23.022  35119.58  41871.97  56372.85      1.32  \n",
      "2018-02-22  21.446  21.909  23.137  35397.58  39904.78  60149.60      0.90  \n",
      "2018-02-14  21.366  21.923  23.253  33590.21  42935.74  61716.11      0.58  \n"
     ]
    }
   ],
   "source": [
    "# 处理好的one-hot编码与原数据合并\n",
    "print(stock.head())"
   ]
  },
  {
   "cell_type": "code",
   "execution_count": 55,
   "metadata": {},
   "outputs": [
    {
     "name": "stdout",
     "output_type": "stream",
     "text": [
      "            rise_(-100, -7]  rise_(-7, -5]  rise_(-5, -3]  rise_(-3, 0]  \\\n",
      "2018-02-27                0              0              0             0   \n",
      "2018-02-26                0              0              0             0   \n",
      "2018-02-23                0              0              0             0   \n",
      "2018-02-22                0              0              0             0   \n",
      "2018-02-14                0              0              0             0   \n",
      "\n",
      "            rise_(0, 3]  rise_(3, 5]  rise_(5, 7]  rise_(7, 100]  \n",
      "2018-02-27            1            0            0              0  \n",
      "2018-02-26            0            1            0              0  \n",
      "2018-02-23            1            0            0              0  \n",
      "2018-02-22            1            0            0              0  \n",
      "2018-02-14            1            0            0              0  \n"
     ]
    }
   ],
   "source": [
    "print(stock_change.head())"
   ]
  },
  {
   "cell_type": "code",
   "execution_count": 54,
   "metadata": {},
   "outputs": [
    {
     "name": "stdout",
     "output_type": "stream",
     "text": [
      "             open   high  close    low    volume  price_change  p_change  \\\n",
      "2018-02-27  23.53  25.88  24.16  23.53  95578.03          0.63      2.68   \n",
      "2018-02-26  22.80  23.78  23.53  22.80  60985.11          0.69      3.02   \n",
      "2018-02-23  22.88  23.37  22.82  22.71  52914.01          0.54      2.42   \n",
      "2018-02-22  22.25  22.76  22.28  22.02  36105.01          0.36      1.64   \n",
      "2018-02-14  21.49  21.99  21.92  21.48  23331.04          0.44      2.05   \n",
      "\n",
      "               ma5    ma10    ma20  ...    v_ma20  turnover  rise_(-100, -7]  \\\n",
      "2018-02-27  22.942  22.142  22.875  ...  55576.11      2.39                0   \n",
      "2018-02-26  22.406  21.955  22.942  ...  56007.50      1.53                0   \n",
      "2018-02-23  21.938  21.929  23.022  ...  56372.85      1.32                0   \n",
      "2018-02-22  21.446  21.909  23.137  ...  60149.60      0.90                0   \n",
      "2018-02-14  21.366  21.923  23.253  ...  61716.11      0.58                0   \n",
      "\n",
      "            rise_(-7, -5]  rise_(-5, -3]  rise_(-3, 0]  rise_(0, 3]  \\\n",
      "2018-02-27              0              0             0            1   \n",
      "2018-02-26              0              0             0            0   \n",
      "2018-02-23              0              0             0            1   \n",
      "2018-02-22              0              0             0            1   \n",
      "2018-02-14              0              0             0            1   \n",
      "\n",
      "            rise_(3, 5]  rise_(5, 7]  rise_(7, 100]  \n",
      "2018-02-27            0            0              0  \n",
      "2018-02-26            1            0              0  \n",
      "2018-02-23            0            0              0  \n",
      "2018-02-22            0            0              0  \n",
      "2018-02-14            0            0              0  \n",
      "\n",
      "[5 rows x 22 columns]\n"
     ]
    }
   ],
   "source": [
    "print(pd.concat([stock, stock_change], axis=1).head())"
   ]
  },
  {
   "cell_type": "code",
   "execution_count": 56,
   "metadata": {},
   "outputs": [],
   "source": [
    "# print(pd.concat([stock, stock_change], axis=0).head())"
   ]
  },
  {
   "cell_type": "markdown",
   "metadata": {},
   "source": [
    "### pd.merge合并"
   ]
  },
  {
   "cell_type": "code",
   "execution_count": 57,
   "metadata": {},
   "outputs": [],
   "source": [
    "left = pd.DataFrame({'key1': ['K0', 'K0', 'K1', 'K2'],\n",
    "                        'key2': ['K0', 'K1', 'K0', 'K1'],\n",
    "                        'A': ['A0', 'A1', 'A2', 'A3'],\n",
    "                        'B': ['B0', 'B1', 'B2', 'B3']})\n",
    "\n",
    "right = pd.DataFrame({'key1': ['K0', 'K1', 'K1', 'K2'],\n",
    "                        'key2': ['K0', 'K0', 'K0', 'K0'],\n",
    "                        'C': ['C0', 'C1', 'C2', 'C3'],\n",
    "                        'D': ['D0', 'D1', 'D2', 'D3']})"
   ]
  },
  {
   "cell_type": "code",
   "execution_count": 58,
   "metadata": {},
   "outputs": [
    {
     "name": "stdout",
     "output_type": "stream",
     "text": [
      "  key1 key2   A   B\n",
      "0   K0   K0  A0  B0\n",
      "1   K0   K1  A1  B1\n",
      "2   K1   K0  A2  B2\n",
      "3   K2   K1  A3  B3\n"
     ]
    }
   ],
   "source": [
    "print(left)"
   ]
  },
  {
   "cell_type": "code",
   "execution_count": 59,
   "metadata": {},
   "outputs": [
    {
     "name": "stdout",
     "output_type": "stream",
     "text": [
      "  key1 key2   C   D\n",
      "0   K0   K0  C0  D0\n",
      "1   K1   K0  C1  D1\n",
      "2   K1   K0  C2  D2\n",
      "3   K2   K0  C3  D3\n"
     ]
    }
   ],
   "source": [
    "print(right)"
   ]
  },
  {
   "cell_type": "code",
   "execution_count": 60,
   "metadata": {},
   "outputs": [
    {
     "name": "stdout",
     "output_type": "stream",
     "text": [
      "  key1 key2   A   B   C   D\n",
      "0   K0   K0  A0  B0  C0  D0\n",
      "1   K1   K0  A2  B2  C1  D1\n",
      "2   K1   K0  A2  B2  C2  D2\n"
     ]
    }
   ],
   "source": [
    "print(pd.merge(left, right, how=\"inner\", on=[\"key1\", \"key2\"]))"
   ]
  },
  {
   "cell_type": "code",
   "execution_count": 61,
   "metadata": {},
   "outputs": [
    {
     "name": "stdout",
     "output_type": "stream",
     "text": [
      "  key1 key2   A   B    C    D\n",
      "0   K0   K0  A0  B0   C0   D0\n",
      "1   K0   K1  A1  B1  NaN  NaN\n",
      "2   K1   K0  A2  B2   C1   D1\n",
      "3   K1   K0  A2  B2   C2   D2\n",
      "4   K2   K1  A3  B3  NaN  NaN\n"
     ]
    }
   ],
   "source": [
    "print(pd.merge(left, right, how=\"left\", on=[\"key1\", \"key2\"]))"
   ]
  },
  {
   "cell_type": "code",
   "execution_count": 62,
   "metadata": {},
   "outputs": [
    {
     "name": "stdout",
     "output_type": "stream",
     "text": [
      "  key1 key2    A    B    C    D\n",
      "0   K0   K0   A0   B0   C0   D0\n",
      "1   K0   K1   A1   B1  NaN  NaN\n",
      "2   K1   K0   A2   B2   C1   D1\n",
      "3   K1   K0   A2   B2   C2   D2\n",
      "4   K2   K1   A3   B3  NaN  NaN\n",
      "5   K2   K0  NaN  NaN   C3   D3\n"
     ]
    }
   ],
   "source": [
    "print(pd.merge(left, right, how=\"outer\", on=[\"key1\", \"key2\"]))"
   ]
  },
  {
   "cell_type": "markdown",
   "metadata": {},
   "source": [
    "### 4.9.2 使用crosstab(交叉表)实现"
   ]
  },
  {
   "cell_type": "code",
   "execution_count": 63,
   "metadata": {},
   "outputs": [
    {
     "name": "stdout",
     "output_type": "stream",
     "text": [
      "Index(['2018-02-27', '2018-02-26', '2018-02-23', '2018-02-22', '2018-02-14',\n",
      "       '2018-02-13', '2018-02-12', '2018-02-09', '2018-02-08', '2018-02-07',\n",
      "       ...\n",
      "       '2015-03-13', '2015-03-12', '2015-03-11', '2015-03-10', '2015-03-09',\n",
      "       '2015-03-06', '2015-03-05', '2015-03-04', '2015-03-03', '2015-03-02'],\n",
      "      dtype='object', length=643)\n"
     ]
    }
   ],
   "source": [
    "# 星期数据以及涨跌幅是好是坏数据\n",
    "# pd.crosstab(星期数据列, 涨跌幅数据列)\n",
    "# 准备星期数据列\n",
    "print(stock.index)"
   ]
  },
  {
   "cell_type": "code",
   "execution_count": 64,
   "metadata": {},
   "outputs": [
    {
     "name": "stdout",
     "output_type": "stream",
     "text": [
      "DatetimeIndex(['2018-02-27', '2018-02-26', '2018-02-23', '2018-02-22',\n",
      "               '2018-02-14', '2018-02-13', '2018-02-12', '2018-02-09',\n",
      "               '2018-02-08', '2018-02-07',\n",
      "               ...\n",
      "               '2015-03-13', '2015-03-12', '2015-03-11', '2015-03-10',\n",
      "               '2015-03-09', '2015-03-06', '2015-03-05', '2015-03-04',\n",
      "               '2015-03-03', '2015-03-02'],\n",
      "              dtype='datetime64[ns]', length=643, freq=None)\n"
     ]
    }
   ],
   "source": [
    "# pandas日期类型\n",
    "date = pd.to_datetime(stock.index)\n",
    "print(date)"
   ]
  },
  {
   "cell_type": "code",
   "execution_count": 71,
   "metadata": {},
   "outputs": [],
   "source": [
    "stock[\"week\"] = date.weekday"
   ]
  },
  {
   "cell_type": "code",
   "execution_count": 72,
   "metadata": {},
   "outputs": [
    {
     "name": "stdout",
     "output_type": "stream",
     "text": [
      "Int64Index([1, 0, 4, 3, 2, 1, 0, 4, 3, 2,\n",
      "            ...\n",
      "            4, 3, 2, 1, 0, 4, 3, 2, 1, 0],\n",
      "           dtype='int64', length=643)\n"
     ]
    }
   ],
   "source": [
    "print(date.weekday)"
   ]
  },
  {
   "cell_type": "code",
   "execution_count": 73,
   "metadata": {},
   "outputs": [
    {
     "name": "stdout",
     "output_type": "stream",
     "text": [
      "2018-02-27    1\n",
      "2018-02-26    0\n",
      "2018-02-23    4\n",
      "2018-02-22    3\n",
      "2018-02-14    2\n",
      "Name: week, dtype: int64\n"
     ]
    }
   ],
   "source": [
    "print(stock[\"week\"][:5])"
   ]
  },
  {
   "cell_type": "code",
   "execution_count": 74,
   "metadata": {},
   "outputs": [],
   "source": [
    "# 准备涨跌幅数据列\n",
    "stock[\"pona\"] = np.where(stock[\"p_change\"] > 0, 1, 0)"
   ]
  },
  {
   "cell_type": "code",
   "execution_count": 75,
   "metadata": {},
   "outputs": [
    {
     "name": "stdout",
     "output_type": "stream",
     "text": [
      "             open   high  close    low    volume  price_change  p_change  \\\n",
      "2018-02-27  23.53  25.88  24.16  23.53  95578.03          0.63      2.68   \n",
      "2018-02-26  22.80  23.78  23.53  22.80  60985.11          0.69      3.02   \n",
      "2018-02-23  22.88  23.37  22.82  22.71  52914.01          0.54      2.42   \n",
      "2018-02-22  22.25  22.76  22.28  22.02  36105.01          0.36      1.64   \n",
      "2018-02-14  21.49  21.99  21.92  21.48  23331.04          0.44      2.05   \n",
      "\n",
      "               ma5    ma10    ma20     v_ma5    v_ma10    v_ma20  turnover  \\\n",
      "2018-02-27  22.942  22.142  22.875  53782.64  46738.65  55576.11      2.39   \n",
      "2018-02-26  22.406  21.955  22.942  40827.52  42736.34  56007.50      1.53   \n",
      "2018-02-23  21.938  21.929  23.022  35119.58  41871.97  56372.85      1.32   \n",
      "2018-02-22  21.446  21.909  23.137  35397.58  39904.78  60149.60      0.90   \n",
      "2018-02-14  21.366  21.923  23.253  33590.21  42935.74  61716.11      0.58   \n",
      "\n",
      "            pona  week  \n",
      "2018-02-27     1     1  \n",
      "2018-02-26     1     0  \n",
      "2018-02-23     1     4  \n",
      "2018-02-22     1     3  \n",
      "2018-02-14     1     2  \n"
     ]
    }
   ],
   "source": [
    "print(stock.head())"
   ]
  },
  {
   "cell_type": "code",
   "execution_count": 76,
   "metadata": {},
   "outputs": [],
   "source": [
    "# 交叉表\n",
    "data = pd.crosstab(stock[\"week\"], stock[\"pona\"])"
   ]
  },
  {
   "cell_type": "code",
   "execution_count": 77,
   "metadata": {},
   "outputs": [
    {
     "name": "stdout",
     "output_type": "stream",
     "text": [
      "pona   0   1\n",
      "week        \n",
      "0     63  62\n",
      "1     55  76\n",
      "2     61  71\n",
      "3     63  65\n",
      "4     59  68\n"
     ]
    }
   ],
   "source": [
    "print(data)"
   ]
  },
  {
   "cell_type": "code",
   "execution_count": 78,
   "metadata": {},
   "outputs": [
    {
     "name": "stdout",
     "output_type": "stream",
     "text": [
      "week\n",
      "0    125\n",
      "1    131\n",
      "2    132\n",
      "3    128\n",
      "4    127\n",
      "dtype: int64\n"
     ]
    }
   ],
   "source": [
    "print(data.sum(axis=1))"
   ]
  },
  {
   "cell_type": "code",
   "execution_count": 82,
   "metadata": {},
   "outputs": [
    {
     "name": "stdout",
     "output_type": "stream",
     "text": [
      "pona         0         1\n",
      "week                    \n",
      "0     0.504000  0.496000\n",
      "1     0.419847  0.580153\n",
      "2     0.462121  0.537879\n",
      "3     0.492188  0.507812\n",
      "4     0.464567  0.535433\n"
     ]
    }
   ],
   "source": [
    "print(data.div(data.sum(axis=1), axis=0))"
   ]
  },
  {
   "cell_type": "code",
   "execution_count": 83,
   "metadata": {},
   "outputs": [
    {
     "name": "stdout",
     "output_type": "stream",
     "text": [
      "AxesSubplot(0.125,0.125;0.775x0.755)\n"
     ]
    },
    {
     "data": {
      "image/png": "[encoded data removed]",
      "text/plain": [
       "<Figure size 432x288 with 1 Axes>"
      ]
     },
     "metadata": {},
     "output_type": "display_data"
    }
   ],
   "source": [
    "print(data.div(data.sum(axis=1), axis=0).plot(kind=\"bar\", stacked=True))"
   ]
  },
  {
   "cell_type": "code",
   "execution_count": 84,
   "metadata": {},
   "outputs": [
    {
     "name": "stdout",
     "output_type": "stream",
     "text": [
      "          pona\n",
      "week          \n",
      "0     0.496000\n",
      "1     0.580153\n",
      "2     0.537879\n",
      "3     0.507812\n",
      "4     0.535433\n"
     ]
    }
   ],
   "source": [
    "# 透视表操作\n",
    "print(stock.pivot_table([\"pona\"], index=[\"week\"]))"
   ]
  },
  {
   "cell_type": "markdown",
   "metadata": {},
   "source": [
    "### 分组与聚合"
   ]
  },
  {
   "cell_type": "code",
   "execution_count": 85,
   "metadata": {},
   "outputs": [],
   "source": [
    "col = pd.DataFrame({'color': ['white','red','green','red','green'], \n",
    "                   'object': ['pen','pencil','pencil','ashtray','pen'],\n",
    "                   'price1':[5.56,4.20,1.30,0.56,2.75],\n",
    "                   'price2':[4.75,4.12,1.60,0.75,3.15]})\n"
   ]
  },
  {
   "cell_type": "code",
   "execution_count": 86,
   "metadata": {},
   "outputs": [
    {
     "name": "stdout",
     "output_type": "stream",
     "text": [
      "   color   object  price1  price2\n",
      "0  white      pen    5.56    4.75\n",
      "1    red   pencil    4.20    4.12\n",
      "2  green   pencil    1.30    1.60\n",
      "3    red  ashtray    0.56    0.75\n",
      "4  green      pen    2.75    3.15\n"
     ]
    }
   ],
   "source": [
    "print(col)"
   ]
  },
  {
   "cell_type": "code",
   "execution_count": 87,
   "metadata": {},
   "outputs": [
    {
     "name": "stdout",
     "output_type": "stream",
     "text": [
      "color\n",
      "green    2.75\n",
      "red      4.20\n",
      "white    5.56\n",
      "Name: price1, dtype: float64\n"
     ]
    }
   ],
   "source": [
    "# 进行分组，对颜色分组，price1进行聚合\n",
    "# 用dataframe的方法进行分组\n",
    "print(col.groupby(by=\"color\")[\"price1\"].max())"
   ]
  },
  {
   "cell_type": "code",
   "execution_count": 88,
   "metadata": {},
   "outputs": [
    {
     "name": "stdout",
     "output_type": "stream",
     "text": [
      "color\n",
      "green    2.75\n",
      "red      4.20\n",
      "white    5.56\n",
      "Name: price1, dtype: float64\n"
     ]
    }
   ],
   "source": [
    "print(col[\"price1\"].groupby(col[\"color\"]).max())"
   ]
  },
  {
   "cell_type": "markdown",
   "metadata": {},
   "source": [
    "### 4.10.3 星巴克零售店铺数据案例"
   ]
  },
  {
   "cell_type": "code",
   "execution_count": 89,
   "metadata": {},
   "outputs": [],
   "source": [
    "# 1、准备数据\n",
    "starbucks = pd.read_csv(\"directory.csv\")"
   ]
  },
  {
   "cell_type": "code",
   "execution_count": 91,
   "metadata": {},
   "outputs": [
    {
     "name": "stdout",
     "output_type": "stream",
     "text": [
      "       Brand  Store Number        Store Name Ownership Type  \\\n",
      "0  Starbucks  47370-257954     Meritxell, 96       Licensed   \n",
      "1  Starbucks  22331-212325  Ajman Drive Thru       Licensed   \n",
      "2  Starbucks  47089-256771         Dana Mall       Licensed   \n",
      "3  Starbucks  22126-218024        Twofour 54       Licensed   \n",
      "4  Starbucks  17127-178586      Al Ain Tower       Licensed   \n",
      "\n",
      "                    Street Address              City State/Province Country  \\\n",
      "0                Av. Meritxell, 96  Andorra la Vella              7      AD   \n",
      "1             1 Street 69, Al Jarf             Ajman             AJ      AE   \n",
      "2     Sheikh Khalifa Bin Zayed St.             Ajman             AJ      AE   \n",
      "3                  Al Salam Street         Abu Dhabi             AZ      AE   \n",
      "4  Khaldiya Area, Abu Dhabi Island         Abu Dhabi             AZ      AE   \n",
      "\n",
      "  Postcode Phone Number                 Timezone  Longitude  Latitude  \n",
      "0    AD500    376818720  GMT+1:00 Europe/Andorra       1.53     42.51  \n",
      "1      NaN          NaN     GMT+04:00 Asia/Dubai      55.47     25.42  \n",
      "2      NaN          NaN     GMT+04:00 Asia/Dubai      55.47     25.39  \n",
      "3      NaN          NaN     GMT+04:00 Asia/Dubai      54.38     24.48  \n",
      "4      NaN          NaN     GMT+04:00 Asia/Dubai      54.54     24.51  \n"
     ]
    }
   ],
   "source": [
    "print(starbucks.head())"
   ]
  },
  {
   "cell_type": "code",
   "execution_count": 93,
   "metadata": {},
   "outputs": [
    {
     "name": "stdout",
     "output_type": "stream",
     "text": [
      "AxesSubplot(0.125,0.125;0.775x0.755)\n"
     ]
    },
    {
     "data": {
      "image/png": "[encoded data removed]",
      "text/plain": [
       "<Figure size 1440x576 with 1 Axes>"
      ]
     },
     "metadata": {},
     "output_type": "display_data"
    }
   ],
   "source": [
    "# 按照国家分组，求出每个国家的星巴克零售店数量\n",
    "print(starbucks.groupby(\"Country\").count()[\"Brand\"].sort_values(ascending=False)[:10].plot(kind=\"bar\", figsize=(20, 8), fontsize=40))"
   ]
  },
  {
   "cell_type": "code",
   "execution_count": 94,
   "metadata": {},
   "outputs": [
    {
     "name": "stdout",
     "output_type": "stream",
     "text": [
      "                        Brand  Store Number  Store Name  Ownership Type  \\\n",
      "Country State/Province                                                    \n",
      "AD      7                   1             1           1               1   \n",
      "AE      AJ                  2             2           2               2   \n",
      "        AZ                 48            48          48              48   \n",
      "        DU                 82            82          82              82   \n",
      "        FU                  2             2           2               2   \n",
      "        RK                  3             3           3               3   \n",
      "        SH                  6             6           6               6   \n",
      "        UQ                  1             1           1               1   \n",
      "AR      B                  21            21          21              21   \n",
      "        C                  73            73          73              73   \n",
      "        M                   5             5           5               5   \n",
      "        S                   3             3           3               3   \n",
      "        X                   6             6           6               6   \n",
      "AT      3                   1             1           1               1   \n",
      "        5                   3             3           3               3   \n",
      "        9                  14            14          14              14   \n",
      "AU      NSW                 9             9           9               9   \n",
      "        QLD                 8             8           8               8   \n",
      "        VIC                 5             5           5               5   \n",
      "AW      AW                  3             3           3               3   \n",
      "AZ      BA                  3             3           3               3   \n",
      "        SAB                 1             1           1               1   \n",
      "BE      BE                  4             4           4               4   \n",
      "        VAN                 1             1           1               1   \n",
      "        VBR                 2             2           2               2   \n",
      "        VLG                10            10          10              10   \n",
      "        WAL                 2             2           2               2   \n",
      "BG      2                   1             1           1               1   \n",
      "        23                  4             4           4               4   \n",
      "BH      13                 16            16          16              16   \n",
      "...                       ...           ...         ...             ...   \n",
      "US      MO                188           188         188             188   \n",
      "        MS                 32            32          32              32   \n",
      "        MT                 36            36          36              36   \n",
      "        NC                338           338         338             338   \n",
      "        ND                 13            13          13              13   \n",
      "        NE                 58            58          58              58   \n",
      "        NH                 29            29          29              29   \n",
      "        NJ                261           261         261             261   \n",
      "        NM                 76            76          76              76   \n",
      "        NV                253           253         253             253   \n",
      "        NY                645           645         645             645   \n",
      "        OH                378           378         378             378   \n",
      "        OK                 79            79          79              79   \n",
      "        OR                359           359         359             359   \n",
      "        PA                357           357         357             357   \n",
      "        RI                 27            27          27              27   \n",
      "        SC                131           131         131             131   \n",
      "        SD                 25            25          25              25   \n",
      "        TN                180           180         180             180   \n",
      "        TX               1042          1042        1042            1042   \n",
      "        UT                101           101         101             101   \n",
      "        VA                432           432         432             432   \n",
      "        VT                  8             8           8               8   \n",
      "        WA                757           757         757             757   \n",
      "        WI                145           145         145             145   \n",
      "        WV                 25            25          25              25   \n",
      "        WY                 23            23          23              23   \n",
      "VN      HN                  6             6           6               6   \n",
      "        SG                 19            19          19              19   \n",
      "ZA      GT                  3             3           3               3   \n",
      "\n",
      "                        Street Address  City  Postcode  Phone Number  \\\n",
      "Country State/Province                                                 \n",
      "AD      7                            1     1         1             1   \n",
      "AE      AJ                           2     2         0             0   \n",
      "        AZ                          48    48         7            20   \n",
      "        DU                          82    82        16            50   \n",
      "        FU                           2     2         1             0   \n",
      "        RK                           3     3         0             3   \n",
      "        SH                           6     6         0             5   \n",
      "        UQ                           1     1         0             0   \n",
      "AR      B                           21    21        18             5   \n",
      "        C                           73    73        71            24   \n",
      "        M                            5     5         2             0   \n",
      "        S                            3     3         3             0   \n",
      "        X                            6     6         6             0   \n",
      "AT      3                            1     1         1             1   \n",
      "        5                            3     3         3             3   \n",
      "        9                           14    14        14            13   \n",
      "AU      NSW                          9     9         9             0   \n",
      "        QLD                          8     8         8             0   \n",
      "        VIC                          5     5         5             0   \n",
      "AW      AW                           3     3         0             3   \n",
      "AZ      BA                           3     3         2             3   \n",
      "        SAB                          1     1         1             1   \n",
      "BE      BE                           4     4         4             0   \n",
      "        VAN                          1     1         1             0   \n",
      "        VBR                          2     2         2             0   \n",
      "        VLG                         10    10        10             1   \n",
      "        WAL                          2     2         2             0   \n",
      "BG      2                            1     1         0             0   \n",
      "        23                           4     4         1             0   \n",
      "BH      13                          16    16         2            10   \n",
      "...                                ...   ...       ...           ...   \n",
      "US      MO                         188   188       188           175   \n",
      "        MS                          32    32        32            28   \n",
      "        MT                          36    36        36            36   \n",
      "        NC                         338   338       338           322   \n",
      "        ND                          13    13        13            13   \n",
      "        NE                          58    58        58            56   \n",
      "        NH                          29    29        29            27   \n",
      "        NJ                         261   261       261           250   \n",
      "        NM                          76    76        76            75   \n",
      "        NV                         253   253       253           230   \n",
      "        NY                         645   645       645           627   \n",
      "        OH                         378   378       377           357   \n",
      "        OK                          79    79        79            76   \n",
      "        OR                         359   359       359           343   \n",
      "        PA                         357   357       357           350   \n",
      "        RI                          27    27        27            27   \n",
      "        SC                         131   131       131           125   \n",
      "        SD                          25    25        25            25   \n",
      "        TN                         180   180       180           162   \n",
      "        TX                        1042  1042      1042          1002   \n",
      "        UT                         101   101       101            99   \n",
      "        VA                         432   432       432           413   \n",
      "        VT                           8     8         8             8   \n",
      "        WA                         757   757       757           738   \n",
      "        WI                         145   145       145           144   \n",
      "        WV                          25    25        25            23   \n",
      "        WY                          23    23        23            22   \n",
      "VN      HN                           6     6         6             6   \n",
      "        SG                          19    19        19            17   \n",
      "ZA      GT                           3     3         3             2   \n",
      "\n",
      "                        Timezone  Longitude  Latitude  \n",
      "Country State/Province                                 \n",
      "AD      7                      1          1         1  \n",
      "AE      AJ                     2          2         2  \n",
      "        AZ                    48         48        48  \n",
      "        DU                    82         82        82  \n",
      "        FU                     2          2         2  \n",
      "        RK                     3          3         3  \n",
      "        SH                     6          6         6  \n",
      "        UQ                     1          1         1  \n",
      "AR      B                     21         21        21  \n",
      "        C                     73         73        73  \n",
      "        M                      5          5         5  \n",
      "        S                      3          3         3  \n",
      "        X                      6          6         6  \n",
      "AT      3                      1          1         1  \n",
      "        5                      3          3         3  \n",
      "        9                     14         14        14  \n",
      "AU      NSW                    9          9         9  \n",
      "        QLD                    8          8         8  \n",
      "        VIC                    5          5         5  \n",
      "AW      AW                     3          3         3  \n",
      "AZ      BA                     3          3         3  \n",
      "        SAB                    1          1         1  \n",
      "BE      BE                     4          4         4  \n",
      "        VAN                    1          1         1  \n",
      "        VBR                    2          2         2  \n",
      "        VLG                   10         10        10  \n",
      "        WAL                    2          2         2  \n",
      "BG      2                      1          1         1  \n",
      "        23                     4          4         4  \n",
      "BH      13                    16         16        16  \n",
      "...                          ...        ...       ...  \n",
      "US      MO                   188        188       188  \n",
      "        MS                    32         32        32  \n",
      "        MT                    36         36        36  \n",
      "        NC                   338        338       338  \n",
      "        ND                    13         13        13  \n",
      "        NE                    58         58        58  \n",
      "        NH                    29         29        29  \n",
      "        NJ                   261        261       261  \n",
      "        NM                    76         76        76  \n",
      "        NV                   253        253       253  \n",
      "        NY                   645        645       645  \n",
      "        OH                   378        378       378  \n",
      "        OK                    79         79        79  \n",
      "        OR                   359        359       359  \n",
      "        PA                   357        357       357  \n",
      "        RI                    27         27        27  \n",
      "        SC                   131        131       131  \n",
      "        SD                    25         25        25  \n",
      "        TN                   180        180       180  \n",
      "        TX                  1042       1042      1042  \n",
      "        UT                   101        101       101  \n",
      "        VA                   432        432       432  \n",
      "        VT                     8          8         8  \n",
      "        WA                   757        757       757  \n",
      "        WI                   145        145       145  \n",
      "        WV                    25         25        25  \n",
      "        WY                    23         23        23  \n",
      "VN      HN                     6          6         6  \n",
      "        SG                    19         19        19  \n",
      "ZA      GT                     3          3         3  \n",
      "\n",
      "[545 rows x 11 columns]\n"
     ]
    }
   ],
   "source": [
    "# 假设我们加入省市一起进行分组\n",
    "print(starbucks.groupby(by=[\"Country\", \"State/Province\"]).count())"
   ]
  }
 ],
 "metadata": {
  "kernelspec": {
   "display_name": "Python 3",
   "language": "python",
   "name": "python3"
  },
  "language_info": {
   "codemirror_mode": {
    "name": "ipython",
    "version": 3
   },
   "file_extension": ".py",
   "mimetype": "text/x-python",
   "name": "python",
   "nbconvert_exporter": "python",
   "pygments_lexer": "ipython3",
   "version": "3.6.3"
  }
 },
 "nbformat": 4,
 "nbformat_minor": 2
}
