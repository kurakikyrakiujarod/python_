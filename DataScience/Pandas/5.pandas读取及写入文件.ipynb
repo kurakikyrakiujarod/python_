{
 "cells": [
  {
   "cell_type": "code",
   "execution_count": 1,
   "metadata": {},
   "outputs": [],
   "source": [
    "import pandas as pd"
   ]
  },
  {
   "cell_type": "code",
   "execution_count": 2,
   "metadata": {},
   "outputs": [
    {
     "name": "stdout",
     "output_type": "stream",
     "text": [
      "   地点  名字      职位     工资 在职情况\n",
      "0  北京  小红  渠道合作经理  15000   在职\n",
      "1  北京  小明    行政专员   8000   离职\n",
      "2  北京  小白    行政专员   9000   在职\n",
      "3  上海  小绿    商户经理  12000   在职\n",
      "4  上海  小黄    商户经理  10000   离职\n",
      "5  上海  小黑     团队长  12000   在职\n",
      "6  广州  小紫  渠道合作主管  20000   在职\n",
      "7  广州  小粉  渠道合作主管  20000   在职\n",
      "8  广州  小青      经理  10000   离职\n",
      "9  广州  小蓝     团队长  13000   在职\n"
     ]
    }
   ],
   "source": [
    "file = pd.read_csv('./data/people.csv',encoding='gbk')\n",
    "print(file)"
   ]
  },
  {
   "cell_type": "code",
   "execution_count": 3,
   "metadata": {},
   "outputs": [
    {
     "name": "stdout",
     "output_type": "stream",
     "text": [
      "   地点  名字      职位     工资 在职情况\n",
      "0  北京  小红  渠道合作经理  15000   在职\n",
      "1  北京  小明    行政专员   8000   离职\n",
      "2  深圳  小白    行政专员   9000   在职\n",
      "3  上海  小绿    商户经理  12000   在职\n",
      "4  上海  小黄    商户经理  10000   离职\n",
      "5  上海  小黑     团队长  12000   在职\n",
      "6  广州  小紫  渠道合作主管  20000   在职\n",
      "7  广州  小粉  渠道合作主管  20000   在职\n",
      "8  广州  小青      经理  10000   离职\n",
      "9  广州  小蓝     团队长  13000   在职\n"
     ]
    }
   ],
   "source": [
    "file.iloc[2,0] = '深圳'\n",
    "print(file)"
   ]
  },
  {
   "cell_type": "code",
   "execution_count": 4,
   "metadata": {},
   "outputs": [],
   "source": [
    "file.to_csv('people2.csv')"
   ]
  }
 ],
 "metadata": {
  "anaconda-cloud": {},
  "kernelspec": {
   "display_name": "Python 3",
   "language": "python",
   "name": "python3"
  },
  "language_info": {
   "codemirror_mode": {
    "name": "ipython",
    "version": 3
   },
   "file_extension": ".py",
   "mimetype": "text/x-python",
   "name": "python",
   "nbconvert_exporter": "python",
   "pygments_lexer": "ipython3",
   "version": "3.6.3"
  }
 },
 "nbformat": 4,
 "nbformat_minor": 1
}
