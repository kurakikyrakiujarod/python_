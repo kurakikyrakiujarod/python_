{
 "cells": [
  {
   "cell_type": "code",
   "execution_count": 1,
   "metadata": {},
   "outputs": [],
   "source": [
    "import pandas as pd"
   ]
  },
  {
   "cell_type": "code",
   "execution_count": 2,
   "metadata": {},
   "outputs": [
    {
     "name": "stdout",
     "output_type": "stream",
     "text": [
      "  group  data\n",
      "0     a     4\n",
      "1     a     3\n",
      "2     a     2\n",
      "3     b     1\n",
      "4     b    12\n",
      "5     b     3\n",
      "6     c     4\n",
      "7     c     5\n",
      "8     c     7\n"
     ]
    }
   ],
   "source": [
    "data = pd.DataFrame({'group': ['a', 'a', 'a', 'b', 'b', 'b', 'c', 'c', 'c'], \n",
    "                     'data': [4, 3, 2, 1, 12, 3, 4, 5, 7]})\n",
    "print(data)"
   ]
  },
  {
   "cell_type": "code",
   "execution_count": 4,
   "metadata": {},
   "outputs": [
    {
     "name": "stdout",
     "output_type": "stream",
     "text": [
      "  group  data\n",
      "6     c     4\n",
      "7     c     5\n",
      "8     c     7\n",
      "3     b     1\n",
      "5     b     3\n",
      "4     b    12\n",
      "2     a     2\n",
      "1     a     3\n",
      "0     a     4\n"
     ]
    }
   ],
   "source": [
    "# 指定某列升序,某列降序\n",
    "# 表示按照什么字段排序 ascending 属性表示按照升序排序或者按照降序排序\n",
    "data.sort_values(by=['group', 'data'], ascending=[False, True], inplace=True)\n",
    "print(data)"
   ]
  },
  {
   "cell_type": "code",
   "execution_count": 3,
   "metadata": {},
   "outputs": [
    {
     "name": "stdout",
     "output_type": "stream",
     "text": [
      "    k1  k2\n",
      "0  one   3\n",
      "1  one   2\n",
      "2  one   1\n",
      "3  two   3\n",
      "4  two   3\n",
      "5  two   4\n",
      "6  two   4\n"
     ]
    }
   ],
   "source": [
    "# 构造DataFrame\n",
    "data = pd.DataFrame({'k1':['one']*3+['two']*4,\n",
    "                     'k2':[3,2,1,3,3,4,4]})\n",
    "print(data)"
   ]
  },
  {
   "cell_type": "code",
   "execution_count": 4,
   "metadata": {},
   "outputs": [
    {
     "name": "stdout",
     "output_type": "stream",
     "text": [
      "    k1  k2\n",
      "2  one   1\n",
      "1  one   2\n",
      "0  one   3\n",
      "3  two   3\n",
      "4  two   3\n",
      "5  two   4\n",
      "6  two   4\n"
     ]
    }
   ],
   "source": [
    "# 按k2排序\n",
    "print(data.sort_values(by='k2'))"
   ]
  },
  {
   "cell_type": "code",
   "execution_count": 5,
   "metadata": {},
   "outputs": [
    {
     "name": "stdout",
     "output_type": "stream",
     "text": [
      "    k1  k2\n",
      "0  one   3\n",
      "1  one   2\n",
      "2  one   1\n",
      "3  two   3\n",
      "5  two   4\n"
     ]
    }
   ],
   "source": [
    "# 删除重复值\n",
    "# 2个列都重复才删掉\n",
    "dt = data.drop_duplicates()\n",
    "print(dt)"
   ]
  },
  {
   "cell_type": "code",
   "execution_count": 6,
   "metadata": {},
   "outputs": [
    {
     "name": "stdout",
     "output_type": "stream",
     "text": [
      "    k1  k2\n",
      "0  one   3\n",
      "3  two   3\n"
     ]
    }
   ],
   "source": [
    "# 按一列只要重复就删掉\n",
    "dt = data.drop_duplicates(subset='k1')\n",
    "print(dt)"
   ]
  },
  {
   "cell_type": "code",
   "execution_count": 8,
   "metadata": {},
   "outputs": [],
   "source": [
    "# apply() 数据聚合运算，可以很方便的对分组进行现有的运算和自定义的运算"
   ]
  },
  {
   "cell_type": "code",
   "execution_count": 9,
   "metadata": {},
   "outputs": [
    {
     "name": "stdout",
     "output_type": "stream",
     "text": [
      "  food  data\n",
      "0   A1     1\n",
      "1   A2     2\n",
      "2   B1     3\n",
      "3   B2     4\n",
      "4   B3     5\n",
      "5   C1     6\n",
      "6   C2     7\n"
     ]
    }
   ],
   "source": [
    "data = pd.DataFrame({'food':['A1','A2','B1','B2','B3','C1','C2'],'data':[1,2,3,4,5,6,7]})\n",
    "print(data)"
   ]
  },
  {
   "cell_type": "code",
   "execution_count": 10,
   "metadata": {},
   "outputs": [
    {
     "name": "stdout",
     "output_type": "stream",
     "text": [
      "  food  data food_map\n",
      "0   A1     1        A\n",
      "1   A2     2        A\n",
      "2   B1     3        B\n",
      "3   B2     4        B\n",
      "4   B3     5        B\n",
      "5   C1     6        C\n",
      "6   C2     7        C\n"
     ]
    }
   ],
   "source": [
    "# A1,A2,A3都归为A\n",
    "def food_map(series):\n",
    "    if series['food'] == 'A1':\n",
    "        return 'A'\n",
    "    elif series['food'] == 'A2':\n",
    "        return 'A'\n",
    "    elif series['food'] == 'B1':\n",
    "        return 'B'\n",
    "    elif series['food'] == 'B2':\n",
    "        return 'B'\n",
    "    elif series['food'] == 'B3':\n",
    "        return 'B'\n",
    "    elif series['food'] == 'C1':\n",
    "        return 'C'\n",
    "    elif series['food'] == 'C2':\n",
    "        return 'C'\n",
    "\n",
    "\n",
    "# 增加一列\n",
    "data['food_map'] = data.apply(food_map, axis='columns')\n",
    "print(data)"
   ]
  },
  {
   "cell_type": "code",
   "execution_count": 11,
   "metadata": {},
   "outputs": [],
   "source": [
    "food2Upper = {\n",
    "                'A1':'A',\n",
    "                'A2':'A',\n",
    "                'B1':'B',\n",
    "                'B2':'B',\n",
    "                'B3':'B',\n",
    "                'C1':'C',\n",
    "                'C2':'C'\n",
    "            }\n",
    "data['upper'] = data['food'].map(food2Upper)"
   ]
  },
  {
   "cell_type": "code",
   "execution_count": 12,
   "metadata": {},
   "outputs": [
    {
     "name": "stdout",
     "output_type": "stream",
     "text": [
      "  food  data food_map upper\n",
      "0   A1     1        A     A\n",
      "1   A2     2        A     A\n",
      "2   B1     3        B     B\n",
      "3   B2     4        B     B\n",
      "4   B3     5        B     B\n",
      "5   C1     6        C     C\n",
      "6   C2     7        C     C\n"
     ]
    }
   ],
   "source": [
    "print(data)"
   ]
  },
  {
   "cell_type": "code",
   "execution_count": 13,
   "metadata": {},
   "outputs": [
    {
     "name": "stdout",
     "output_type": "stream",
     "text": [
      "      data1     data2    ration\n",
      "0  0.981560  1.356974  0.723345\n",
      "1  0.554868  0.470992  1.178082\n",
      "2 -1.263160 -0.766644  1.647650\n",
      "3  1.495241  0.276406  5.409577\n",
      "4 -1.310699  0.338455 -3.872592\n"
     ]
    }
   ],
   "source": [
    "import numpy as np\n",
    "df = pd.DataFrame({'data1':np.random.randn(5),\n",
    "                   'data2':np.random.randn(5)})\n",
    "df2 = df.assign(ration = df['data1']/df['data2'])\n",
    "print(df2)"
   ]
  },
  {
   "cell_type": "code",
   "execution_count": 14,
   "metadata": {},
   "outputs": [
    {
     "name": "stdout",
     "output_type": "stream",
     "text": [
      "      data1     data2\n",
      "0  0.981560  1.356974\n",
      "1  0.554868  0.470992\n",
      "2 -1.263160 -0.766644\n",
      "3  1.495241  0.276406\n",
      "4 -1.310699  0.338455\n"
     ]
    }
   ],
   "source": [
    "df2.drop('ration', axis='columns', inplace=True)\n",
    "print(df2)"
   ]
  },
  {
   "cell_type": "code",
   "execution_count": 15,
   "metadata": {},
   "outputs": [
    {
     "name": "stdout",
     "output_type": "stream",
     "text": [
      "0    1.0\n",
      "1    2.0\n",
      "2    3.0\n",
      "3    4.0\n",
      "4    5.0\n",
      "5    6.0\n",
      "6    7.0\n",
      "7    8.0\n",
      "8    NaN\n",
      "dtype: float64\n"
     ]
    }
   ],
   "source": [
    "# 替换数据 replace()\n",
    "data = pd.Series([1, 2, 3, 4, 5, 6, 7, 8, 9])\n",
    "# 把9这个值替换为NaN\n",
    "data.replace(9, np.nan, inplace=True)\n",
    "print(data)"
   ]
  },
  {
   "cell_type": "code",
   "execution_count": 16,
   "metadata": {},
   "outputs": [
    {
     "name": "stdout",
     "output_type": "stream",
     "text": [
      "[(10, 40], (10, 40], (10, 40], (10, 40], (10, 40], (10, 40], (40, 80], (40, 80], (40, 80], (40, 80]]\n",
      "Categories (2, interval[int64]): [(10, 40] < (40, 80]]\n"
     ]
    }
   ],
   "source": [
    "# bins 数据分组规则 cut()数据分组\n",
    "ages = [15, 18, 20, 21, 22, 34, 41, 52, 63, 79]\n",
    "bins = [10, 40, 80]\n",
    "# 以bins为区间切分\n",
    "bins_res = pd.cut(ages, bins)\n",
    "print(bins_res)"
   ]
  },
  {
   "cell_type": "code",
   "execution_count": 17,
   "metadata": {},
   "outputs": [
    {
     "name": "stdout",
     "output_type": "stream",
     "text": [
      "(10, 40]    6\n",
      "(40, 80]    4\n",
      "dtype: int64\n"
     ]
    }
   ],
   "source": [
    "# value_counts() 统计数据分组后每组的个数\n",
    "counts = pd.value_counts(bins_res)\n",
    "print(counts)"
   ]
  },
  {
   "cell_type": "code",
   "execution_count": 18,
   "metadata": {},
   "outputs": [
    {
     "name": "stdout",
     "output_type": "stream",
     "text": [
      "[(10, 30], (10, 30], (10, 30], (10, 30], (10, 30], (30, 50], (30, 50], (50, 80], (50, 80], (50, 80]]\n",
      "Categories (3, interval[int64]): [(10, 30] < (30, 50] < (50, 80]]\n"
     ]
    }
   ],
   "source": [
    "print(pd.cut(ages,[10,30,50,80]))"
   ]
  },
  {
   "cell_type": "code",
   "execution_count": 20,
   "metadata": {},
   "outputs": [
    {
     "name": "stdout",
     "output_type": "stream",
     "text": [
      "Middle    4\n",
      "Old       3\n",
      "Yonth     3\n",
      "dtype: int64\n"
     ]
    }
   ],
   "source": [
    "# 用别名代替区间\n",
    "group_names = ['Yonth', 'Middle', 'Old']\n",
    "counts = pd.value_counts(pd.cut(ages, [10, 20, 50, 80], labels=group_names))\n",
    "print(counts)"
   ]
  },
  {
   "cell_type": "code",
   "execution_count": 21,
   "metadata": {},
   "outputs": [
    {
     "name": "stdout",
     "output_type": "stream",
     "text": [
      "   0    1    2\n",
      "0  0  1.0  2.0\n",
      "1  0  NaN  0.0\n",
      "2  0  0.0  NaN\n",
      "3  0  1.0  2.0\n",
      "       0      1      2\n",
      "0  False  False  False\n",
      "1  False   True  False\n",
      "2  False  False   True\n",
      "3  False  False  False\n"
     ]
    }
   ],
   "source": [
    "# isnull() 查看数据中是否有空值。any是按行查看空值，axis=1 是按列查看\n",
    "df = pd.DataFrame([range(3), [0, np.nan, 0], [0, 0, np.nan], range(3)])\n",
    "print(df)\n",
    "# bool判断有没有缺失值\n",
    "print(df.isnull())"
   ]
  },
  {
   "cell_type": "code",
   "execution_count": 22,
   "metadata": {},
   "outputs": [
    {
     "name": "stdout",
     "output_type": "stream",
     "text": [
      "0    False\n",
      "1     True\n",
      "2     True\n",
      "dtype: bool\n"
     ]
    }
   ],
   "source": [
    "print(df.isnull().any())"
   ]
  },
  {
   "cell_type": "code",
   "execution_count": 23,
   "metadata": {},
   "outputs": [
    {
     "name": "stdout",
     "output_type": "stream",
     "text": [
      "0    False\n",
      "1     True\n",
      "2     True\n",
      "3    False\n",
      "dtype: bool\n"
     ]
    }
   ],
   "source": [
    "print(df.isnull().any(axis = 1))"
   ]
  },
  {
   "cell_type": "code",
   "execution_count": 27,
   "metadata": {},
   "outputs": [
    {
     "name": "stdout",
     "output_type": "stream",
     "text": [
      "   0    1    2\n",
      "0  0  1.0  2.0\n",
      "1  0  5.0  0.0\n",
      "2  0  0.0  5.0\n",
      "3  0  1.0  2.0\n"
     ]
    }
   ],
   "source": [
    "# fillna() 检查是否有缺失值，如果有可以将填充值写在fillna()的参数中\n",
    "fillna = df.fillna(5)\n",
    "print(fillna)"
   ]
  },
  {
   "cell_type": "code",
   "execution_count": 24,
   "metadata": {},
   "outputs": [
    {
     "name": "stdout",
     "output_type": "stream",
     "text": [
      "   0    1    2\n",
      "1  0  NaN  0.0\n",
      "2  0  0.0  NaN\n"
     ]
    }
   ],
   "source": [
    "df = pd.DataFrame([range(3), [0, np.nan, 0], [0, 0, np.nan], range(3)])\n",
    "dt = df[df.isnull().any(axis=1)]\n",
    "print(dt)"
   ]
  }
 ],
 "metadata": {
  "kernelspec": {
   "display_name": "Python 3",
   "language": "python",
   "name": "python3"
  },
  "language_info": {
   "codemirror_mode": {
    "name": "ipython",
    "version": 3
   },
   "file_extension": ".py",
   "mimetype": "text/x-python",
   "name": "python",
   "nbconvert_exporter": "python",
   "pygments_lexer": "ipython3",
   "version": "3.6.3"
  }
 },
 "nbformat": 4,
 "nbformat_minor": 2
}
