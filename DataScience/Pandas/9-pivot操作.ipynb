{
 "cells": [
  {
   "cell_type": "markdown",
   "metadata": {},
   "source": [
    "### 数据透视表"
   ]
  },
  {
   "cell_type": "code",
   "execution_count": 1,
   "metadata": {},
   "outputs": [],
   "source": [
    "import pandas as pd"
   ]
  },
  {
   "cell_type": "code",
   "execution_count": 2,
   "metadata": {},
   "outputs": [
    {
     "name": "stdout",
     "output_type": "stream",
     "text": [
      "       Month        Category  Amount\n",
      "0    January  Transportation      11\n",
      "1    January         Grocery      22\n",
      "2    January       Household      33\n",
      "3    January   Entertainment      44\n",
      "4   February  Transportation      55\n",
      "5   February         Grocery      66\n",
      "6   February       Household      77\n",
      "7   February   Entertainment      88\n",
      "8      March  Transportation      99\n",
      "9      March         Grocery     100\n",
      "10     March       Household    1111\n",
      "11     March   Entertainment    1212\n"
     ]
    }
   ],
   "source": [
    "example = pd.DataFrame({'Month':['January','January','January','January',\n",
    "                                 'February','February','February','February',\n",
    "                                 'March','March','March','March'],\n",
    "                        'Category':['Transportation','Grocery','Household','Entertainment',\n",
    "                                    'Transportation','Grocery','Household','Entertainment',\n",
    "                                    'Transportation','Grocery','Household','Entertainment'],\n",
    "                        'Amount':[11,22,33,44,55,66,77,88,99,100,1111,1212]})\n",
    "print(example)"
   ]
  },
  {
   "cell_type": "code",
   "execution_count": 3,
   "metadata": {},
   "outputs": [
    {
     "name": "stdout",
     "output_type": "stream",
     "text": [
      "Month           February  January  March\n",
      "Category                                \n",
      "Entertainment         88       44   1212\n",
      "Grocery               66       22    100\n",
      "Household             77       33   1111\n",
      "Transportation        55       11     99\n"
     ]
    }
   ],
   "source": [
    "example_pivot = example.pivot(index='Category',columns='Month',values='Amount')\n",
    "print(example_pivot)"
   ]
  },
  {
   "cell_type": "code",
   "execution_count": 4,
   "metadata": {},
   "outputs": [
    {
     "name": "stdout",
     "output_type": "stream",
     "text": [
      "Category\n",
      "Entertainment     1344\n",
      "Grocery            188\n",
      "Household         1221\n",
      "Transportation     165\n",
      "dtype: int64\n"
     ]
    }
   ],
   "source": [
    "print(example_pivot.sum(axis=1))"
   ]
  },
  {
   "cell_type": "code",
   "execution_count": 5,
   "metadata": {},
   "outputs": [
    {
     "name": "stdout",
     "output_type": "stream",
     "text": [
      "Month\n",
      "February     286\n",
      "January      110\n",
      "March       2522\n",
      "dtype: int64\n"
     ]
    }
   ],
   "source": [
    "print(example_pivot.sum(axis=0))"
   ]
  },
  {
   "cell_type": "code",
   "execution_count": 6,
   "metadata": {},
   "outputs": [],
   "source": [
    "df = pd.read_csv('./data/titanic.csv')"
   ]
  },
  {
   "cell_type": "code",
   "execution_count": 7,
   "metadata": {},
   "outputs": [
    {
     "name": "stdout",
     "output_type": "stream",
     "text": [
      "   PassengerId  Survived  Pclass  \\\n",
      "0            1         0       3   \n",
      "1            2         1       1   \n",
      "2            3         1       3   \n",
      "3            4         1       1   \n",
      "4            5         0       3   \n",
      "\n",
      "                                                Name     Sex   Age  SibSp  \\\n",
      "0                            Braund, Mr. Owen Harris    male  22.0      1   \n",
      "1  Cumings, Mrs. John Bradley (Florence Briggs Th...  female  38.0      1   \n",
      "2                             Heikkinen, Miss. Laina  female  26.0      0   \n",
      "3       Futrelle, Mrs. Jacques Heath (Lily May Peel)  female  35.0      1   \n",
      "4                           Allen, Mr. William Henry    male  35.0      0   \n",
      "\n",
      "   Parch            Ticket     Fare Cabin Embarked  \n",
      "0      0         A/5 21171   7.2500   NaN        S  \n",
      "1      0          PC 17599  71.2833   C85        C  \n",
      "2      0  STON/O2. 3101282   7.9250   NaN        S  \n",
      "3      0            113803  53.1000  C123        S  \n",
      "4      0            373450   8.0500   NaN        S  \n"
     ]
    }
   ],
   "source": [
    "print(df.head())"
   ]
  },
  {
   "cell_type": "code",
   "execution_count": 8,
   "metadata": {},
   "outputs": [
    {
     "name": "stdout",
     "output_type": "stream",
     "text": [
      "Pclass           1          2          3\n",
      "Sex                                     \n",
      "female  106.125798  21.970121  16.118810\n",
      "male     67.226127  19.741782  12.661633\n"
     ]
    }
   ],
   "source": [
    "# 默以值就是求平均\n",
    "print(df.pivot_table(index='Sex',columns='Pclass',values='Fare'))"
   ]
  },
  {
   "cell_type": "code",
   "execution_count": 9,
   "metadata": {},
   "outputs": [
    {
     "name": "stdout",
     "output_type": "stream",
     "text": [
      "Pclass         1     2      3\n",
      "Sex                          \n",
      "female  512.3292  65.0  69.55\n",
      "male    512.3292  73.5  69.55\n"
     ]
    }
   ],
   "source": [
    "print(df.pivot_table(index='Sex',columns='Pclass',values='Fare',aggfunc='max'))"
   ]
  },
  {
   "cell_type": "code",
   "execution_count": 10,
   "metadata": {},
   "outputs": [
    {
     "name": "stdout",
     "output_type": "stream",
     "text": [
      "Pclass    1    2    3\n",
      "Sex                  \n",
      "female   94   76  144\n",
      "male    122  108  347\n"
     ]
    }
   ],
   "source": [
    "print(df.pivot_table(index='Sex',columns='Pclass',values='Fare',aggfunc='count'))"
   ]
  },
  {
   "cell_type": "code",
   "execution_count": 11,
   "metadata": {},
   "outputs": [
    {
     "name": "stdout",
     "output_type": "stream",
     "text": [
      "Pclass    1    2    3\n",
      "Sex                  \n",
      "female   94   76  144\n",
      "male    122  108  347\n"
     ]
    }
   ],
   "source": [
    "print(pd.crosstab(index=df['Sex'],columns=df['Pclass']))"
   ]
  },
  {
   "cell_type": "code",
   "execution_count": 12,
   "metadata": {},
   "outputs": [
    {
     "name": "stdout",
     "output_type": "stream",
     "text": [
      "Sex       female      male\n",
      "Pclass                    \n",
      "1       0.968085  0.368852\n",
      "2       0.921053  0.157407\n",
      "3       0.500000  0.135447\n"
     ]
    }
   ],
   "source": [
    "print(df.pivot_table(index='Pclass',columns='Sex',values='Survived',aggfunc='mean'))"
   ]
  },
  {
   "cell_type": "code",
   "execution_count": 13,
   "metadata": {},
   "outputs": [],
   "source": [
    "df['Underaged'] = df['Age'] <= 18"
   ]
  },
  {
   "cell_type": "code",
   "execution_count": 14,
   "metadata": {},
   "outputs": [
    {
     "name": "stdout",
     "output_type": "stream",
     "text": [
      "Sex          female      male\n",
      "Underaged                    \n",
      "False      0.760163  0.167984\n",
      "True       0.676471  0.338028\n"
     ]
    }
   ],
   "source": [
    "print(df.pivot_table(index='Underaged',columns='Sex',values='Survived',aggfunc='mean'))"
   ]
  }
 ],
 "metadata": {
  "kernelspec": {
   "display_name": "Python 3",
   "language": "python",
   "name": "python3"
  },
  "language_info": {
   "codemirror_mode": {
    "name": "ipython",
    "version": 3
   },
   "file_extension": ".py",
   "mimetype": "text/x-python",
   "name": "python",
   "nbconvert_exporter": "python",
   "pygments_lexer": "ipython3",
   "version": "3.6.3"
  }
 },
 "nbformat": 4,
 "nbformat_minor": 2
}
