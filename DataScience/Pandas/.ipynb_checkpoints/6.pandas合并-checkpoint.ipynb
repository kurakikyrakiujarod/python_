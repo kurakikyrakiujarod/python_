{
 "cells": [
  {
   "cell_type": "code",
   "execution_count": 1,
   "metadata": {},
   "outputs": [],
   "source": [
    "import pandas as pd\n",
    "import numpy as np"
   ]
  },
  {
   "cell_type": "code",
   "execution_count": 2,
   "metadata": {},
   "outputs": [
    {
     "name": "stdout",
     "output_type": "stream",
     "text": [
      "   a  b   c   d\n",
      "0  0  1   2   3\n",
      "1  4  5   6   7\n",
      "2  8  9  10  11\n",
      "    a   b   c   d\n",
      "0  12  13  14  15\n",
      "1  16  17  18  19\n",
      "2  20  21  22  23\n",
      "    a   b   c   d\n",
      "0  24  25  26  27\n",
      "1  28  29  30  31\n",
      "2  32  33  34  35\n"
     ]
    }
   ],
   "source": [
    "df1 = pd.DataFrame(np.arange(12).reshape((3,4)),columns=['a','b','c','d'])\n",
    "df2 = pd.DataFrame(np.arange(12,24).reshape((3,4)),columns=['a','b','c','d'])\n",
    "df3 = pd.DataFrame(np.arange(24,36).reshape((3,4)),columns=['a','b','c','d'])\n",
    "print(df1)\n",
    "print(df2)\n",
    "print(df3)"
   ]
  },
  {
   "cell_type": "code",
   "execution_count": 3,
   "metadata": {},
   "outputs": [
    {
     "name": "stdout",
     "output_type": "stream",
     "text": [
      "    a   b   c   d\n",
      "0   0   1   2   3\n",
      "1   4   5   6   7\n",
      "2   8   9  10  11\n",
      "0  12  13  14  15\n",
      "1  16  17  18  19\n",
      "2  20  21  22  23\n",
      "0  24  25  26  27\n",
      "1  28  29  30  31\n",
      "2  32  33  34  35\n"
     ]
    }
   ],
   "source": [
    "df4 = pd.concat([df1,df2,df3],axis=0)#纵向合并\n",
    "print(df4)"
   ]
  },
  {
   "cell_type": "code",
   "execution_count": 4,
   "metadata": {},
   "outputs": [
    {
     "name": "stdout",
     "output_type": "stream",
     "text": [
      "    a   b   c   d\n",
      "0   0   1   2   3\n",
      "1   4   5   6   7\n",
      "2   8   9  10  11\n",
      "3  12  13  14  15\n",
      "4  16  17  18  19\n",
      "5  20  21  22  23\n",
      "6  24  25  26  27\n",
      "7  28  29  30  31\n",
      "8  32  33  34  35\n"
     ]
    }
   ],
   "source": [
    "df4 = pd.concat([df1,df2,df3],axis=0,ignore_index=True)#纵向合并，不考虑原来的index\n",
    "print(df4)"
   ]
  },
  {
   "cell_type": "code",
   "execution_count": 5,
   "metadata": {},
   "outputs": [
    {
     "name": "stdout",
     "output_type": "stream",
     "text": [
      "   a  b   c   d   a   b   c   d   a   b   c   d\n",
      "0  0  1   2   3  12  13  14  15  24  25  26  27\n",
      "1  4  5   6   7  16  17  18  19  28  29  30  31\n",
      "2  8  9  10  11  20  21  22  23  32  33  34  35\n"
     ]
    }
   ],
   "source": [
    "df5 = pd.concat([df1,df2,df3],axis=1)#横向合并\n",
    "print(df5)"
   ]
  },
  {
   "cell_type": "code",
   "execution_count": 7,
   "metadata": {},
   "outputs": [
    {
     "name": "stdout",
     "output_type": "stream",
     "text": [
      "   a  b   c   f\n",
      "0  0  1   2   3\n",
      "1  4  5   6   7\n",
      "2  8  9  10  11\n",
      "    a   c   d   e\n",
      "0  12  13  14  15\n",
      "1  16  17  18  19\n",
      "2  20  21  22  23\n"
     ]
    }
   ],
   "source": [
    "df1 = pd.DataFrame(np.arange(12).reshape((3,4)),columns=['a','b','c','f'])\n",
    "df2 = pd.DataFrame(np.arange(12,24).reshape((3,4)),columns=['a','c','d','e'])\n",
    "print(df1)\n",
    "print(df2)"
   ]
  },
  {
   "cell_type": "code",
   "execution_count": 9,
   "metadata": {},
   "outputs": [
    {
     "name": "stdout",
     "output_type": "stream",
     "text": [
      "    a    b   c     f     d     e\n",
      "0   0  1.0   2   3.0   NaN   NaN\n",
      "1   4  5.0   6   7.0   NaN   NaN\n",
      "2   8  9.0  10  11.0   NaN   NaN\n",
      "3  12  NaN  13   NaN  14.0  15.0\n",
      "4  16  NaN  17   NaN  18.0  19.0\n",
      "5  20  NaN  21   NaN  22.0  23.0\n"
     ]
    }
   ],
   "source": [
    "df6 = pd.concat([df1,df2],join='outer',ignore_index=True,sort=False)#合并两个表，缺少的部分填充NaN\n",
    "print(df6)"
   ]
  },
  {
   "cell_type": "code",
   "execution_count": 10,
   "metadata": {},
   "outputs": [
    {
     "name": "stdout",
     "output_type": "stream",
     "text": [
      "    a   c\n",
      "0   0   2\n",
      "1   4   6\n",
      "2   8  10\n",
      "3  12  13\n",
      "4  16  17\n",
      "5  20  21\n"
     ]
    }
   ],
   "source": [
    "df7 = pd.concat([df1,df2],join='inner',ignore_index=True)#合并两个表，缺少的部分去掉\n",
    "print(df7)"
   ]
  },
  {
   "cell_type": "code",
   "execution_count": 11,
   "metadata": {},
   "outputs": [
    {
     "name": "stdout",
     "output_type": "stream",
     "text": [
      "   a  b   c   f\n",
      "0  0  1   2   3\n",
      "1  4  5   6   7\n",
      "2  8  9  10  11\n",
      "    a   c   d\n",
      "0  12  13  14\n",
      "1  15  16  17\n",
      "2  18  19  20\n",
      "3  21  22  23\n"
     ]
    }
   ],
   "source": [
    "df1 = pd.DataFrame(np.arange(12).reshape((3,4)),columns=['a','b','c','f'])\n",
    "df2 = pd.DataFrame(np.arange(12,24).reshape((4,3)),columns=['a','c','d'])\n",
    "print(df1)\n",
    "print(df2)"
   ]
  },
  {
   "cell_type": "code",
   "execution_count": 12,
   "metadata": {},
   "outputs": [
    {
     "name": "stdout",
     "output_type": "stream",
     "text": [
      "   a  b   c   f   a   c   d\n",
      "0  0  1   2   3  12  13  14\n",
      "1  4  5   6   7  15  16  17\n",
      "2  8  9  10  11  18  19  20\n"
     ]
    }
   ],
   "source": [
    "df8 = pd.concat([df1,df2],axis=1,join_axes=[df1.index])#横向合并，index使用df1的index\n",
    "print(df8)"
   ]
  },
  {
   "cell_type": "code",
   "execution_count": 13,
   "metadata": {},
   "outputs": [
    {
     "name": "stdout",
     "output_type": "stream",
     "text": [
      "     a    b     c     f   a   c   d\n",
      "0  0.0  1.0   2.0   3.0  12  13  14\n",
      "1  4.0  5.0   6.0   7.0  15  16  17\n",
      "2  8.0  9.0  10.0  11.0  18  19  20\n",
      "3  NaN  NaN   NaN   NaN  21  22  23\n"
     ]
    }
   ],
   "source": [
    "df8 = pd.concat([df1,df2],axis=1)#横向合并\n",
    "print(df8)"
   ]
  }
 ],
 "metadata": {
  "anaconda-cloud": {},
  "kernelspec": {
   "display_name": "Python 3",
   "language": "python",
   "name": "python3"
  },
  "language_info": {
   "codemirror_mode": {
    "name": "ipython",
    "version": 3
   },
   "file_extension": ".py",
   "mimetype": "text/x-python",
   "name": "python",
   "nbconvert_exporter": "python",
   "pygments_lexer": "ipython3",
   "version": "3.6.3"
  }
 },
 "nbformat": 4,
 "nbformat_minor": 1
}
