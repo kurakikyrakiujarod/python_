{
 "cells": [
  {
   "cell_type": "code",
   "execution_count": 1,
   "metadata": {},
   "outputs": [],
   "source": [
    "import pandas as pd\n",
    "import numpy as np"
   ]
  },
  {
   "cell_type": "code",
   "execution_count": 9,
   "metadata": {},
   "outputs": [
    {
     "name": "stdout",
     "output_type": "stream",
     "text": [
      "             A   B   C   D\n",
      "2017-01-01   0   1   2   3\n",
      "2017-01-02   4   5   6   7\n",
      "2017-01-03   8   9  10  11\n",
      "2017-01-04  12  13  14  15\n",
      "2017-01-05  16  17  18  19\n",
      "2017-01-06  20  21  22  23\n"
     ]
    }
   ],
   "source": [
    "dates = pd.date_range('20170101',periods=6)\n",
    "df1 = pd.DataFrame(np.arange(24).reshape(6,4),index=dates,\n",
    "            columns=['A','B','C','D'])\n",
    "print(df1)"
   ]
  },
  {
   "cell_type": "code",
   "execution_count": 13,
   "metadata": {},
   "outputs": [
    {
     "name": "stdout",
     "output_type": "stream",
     "text": [
      "2017-01-01     0\n",
      "2017-01-02     4\n",
      "2017-01-03     8\n",
      "2017-01-04    12\n",
      "2017-01-05    16\n",
      "2017-01-06    20\n",
      "Freq: D, Name: A, dtype: int32\n"
     ]
    }
   ],
   "source": [
    "print(df1['A'])"
   ]
  },
  {
   "cell_type": "code",
   "execution_count": 12,
   "metadata": {},
   "outputs": [
    {
     "name": "stdout",
     "output_type": "stream",
     "text": [
      "2017-01-01     0\n",
      "2017-01-02     4\n",
      "2017-01-03     8\n",
      "2017-01-04    12\n",
      "2017-01-05    16\n",
      "2017-01-06    20\n",
      "Freq: D, Name: A, dtype: int32\n"
     ]
    }
   ],
   "source": [
    "print(df1.A)"
   ]
  },
  {
   "cell_type": "code",
   "execution_count": 14,
   "metadata": {},
   "outputs": [
    {
     "name": "stdout",
     "output_type": "stream",
     "text": [
      "            A  B  C  D\n",
      "2017-01-01  0  1  2  3\n",
      "2017-01-02  4  5  6  7\n"
     ]
    }
   ],
   "source": [
    "print(df1[:2])"
   ]
  },
  {
   "cell_type": "code",
   "execution_count": 17,
   "metadata": {},
   "outputs": [
    {
     "name": "stdout",
     "output_type": "stream",
     "text": [
      "             A   B   C   D\n",
      "2017-01-03   8   9  10  11\n",
      "2017-01-04  12  13  14  15\n"
     ]
    }
   ],
   "source": [
    "print(df1['20170103':'20170104'])"
   ]
  },
  {
   "cell_type": "code",
   "execution_count": 21,
   "metadata": {},
   "outputs": [
    {
     "name": "stdout",
     "output_type": "stream",
     "text": [
      "A    12\n",
      "B    13\n",
      "C    14\n",
      "D    15\n",
      "Name: 2017-01-04 00:00:00, dtype: int32\n"
     ]
    }
   ],
   "source": [
    "# 通过标签选择数据\n",
    "print(df1.loc['20170104'])"
   ]
  },
  {
   "cell_type": "code",
   "execution_count": 20,
   "metadata": {},
   "outputs": [
    {
     "name": "stdout",
     "output_type": "stream",
     "text": [
      "A    12\n",
      "C    14\n",
      "Name: 2017-01-04 00:00:00, dtype: int32\n"
     ]
    }
   ],
   "source": [
    "print(df1.loc['20170104',['A','C']])"
   ]
  },
  {
   "cell_type": "code",
   "execution_count": 22,
   "metadata": {},
   "outputs": [
    {
     "name": "stdout",
     "output_type": "stream",
     "text": [
      "             A   B\n",
      "2017-01-01   0   1\n",
      "2017-01-02   4   5\n",
      "2017-01-03   8   9\n",
      "2017-01-04  12  13\n",
      "2017-01-05  16  17\n",
      "2017-01-06  20  21\n"
     ]
    }
   ],
   "source": [
    "print(df1.loc[:,['A','B']])"
   ]
  },
  {
   "cell_type": "code",
   "execution_count": 23,
   "metadata": {},
   "outputs": [
    {
     "name": "stdout",
     "output_type": "stream",
     "text": [
      "A     8\n",
      "B     9\n",
      "C    10\n",
      "D    11\n",
      "Name: 2017-01-03 00:00:00, dtype: int32\n"
     ]
    }
   ],
   "source": [
    "print(df1.iloc[2]) # 通过位置选择数据"
   ]
  },
  {
   "cell_type": "code",
   "execution_count": 24,
   "metadata": {},
   "outputs": [
    {
     "name": "stdout",
     "output_type": "stream",
     "text": [
      "             B   D\n",
      "2017-01-02   5   7\n",
      "2017-01-03   9  11\n",
      "2017-01-05  17  19\n"
     ]
    }
   ],
   "source": [
    "print(df1.iloc[[1,2,4],[1,3]])"
   ]
  },
  {
   "cell_type": "code",
   "execution_count": 31,
   "metadata": {},
   "outputs": [],
   "source": [
    "#混合标签位置选择\n",
    "# print(df1.ix[2:4,['A','C']])\n",
    "# print(df1.ix['20170102':'20170104',2:4])"
   ]
  },
  {
   "cell_type": "code",
   "execution_count": 33,
   "metadata": {},
   "outputs": [
    {
     "name": "stdout",
     "output_type": "stream",
     "text": [
      "2017-01-01     0\n",
      "2017-01-02     4\n",
      "2017-01-03     8\n",
      "2017-01-04    12\n",
      "2017-01-05    16\n",
      "2017-01-06    20\n",
      "Freq: D, Name: A, dtype: int32\n",
      "2017-01-01    False\n",
      "2017-01-02    False\n",
      "2017-01-03     True\n",
      "2017-01-04     True\n",
      "2017-01-05     True\n",
      "2017-01-06     True\n",
      "Freq: D, Name: A, dtype: bool\n"
     ]
    }
   ],
   "source": [
    "print(df1.A)\n",
    "print(df1.A>6)"
   ]
  },
  {
   "cell_type": "code",
   "execution_count": 34,
   "metadata": {},
   "outputs": [
    {
     "name": "stdout",
     "output_type": "stream",
     "text": [
      "             A   B   C   D\n",
      "2017-01-03   8   9  10  11\n",
      "2017-01-04  12  13  14  15\n",
      "2017-01-05  16  17  18  19\n",
      "2017-01-06  20  21  22  23\n"
     ]
    }
   ],
   "source": [
    "print(df1[df1.A>6])"
   ]
  }
 ],
 "metadata": {
  "kernelspec": {
   "display_name": "Python 3",
   "language": "python",
   "name": "python3"
  },
  "language_info": {
   "codemirror_mode": {
    "name": "ipython",
    "version": 3
   },
   "file_extension": ".py",
   "mimetype": "text/x-python",
   "name": "python",
   "nbconvert_exporter": "python",
   "pygments_lexer": "ipython3",
   "version": "3.6.3"
  }
 },
 "nbformat": 4,
 "nbformat_minor": 2
}
