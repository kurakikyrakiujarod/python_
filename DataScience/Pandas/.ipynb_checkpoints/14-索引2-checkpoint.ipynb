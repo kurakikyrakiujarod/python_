{
 "cells": [
  {
   "cell_type": "markdown",
   "metadata": {},
   "source": [
    "# 索引扩展"
   ]
  },
  {
   "cell_type": "code",
   "execution_count": 1,
   "metadata": {},
   "outputs": [],
   "source": [
    "import pandas as pd\n",
    "import numpy as np"
   ]
  },
  {
   "cell_type": "code",
   "execution_count": 2,
   "metadata": {},
   "outputs": [
    {
     "name": "stdout",
     "output_type": "stream",
     "text": [
      "4    0\n",
      "3    1\n",
      "2    2\n",
      "1    3\n",
      "0    4\n",
      "dtype: int64\n"
     ]
    }
   ],
   "source": [
    "s = pd.Series(np.arange(5),index=np.arange(5)[::-1],dtype='int64')\n",
    "print(s)"
   ]
  },
  {
   "cell_type": "code",
   "execution_count": 3,
   "metadata": {},
   "outputs": [
    {
     "name": "stdout",
     "output_type": "stream",
     "text": [
      "4    False\n",
      "3     True\n",
      "2    False\n",
      "1     True\n",
      "0     True\n",
      "dtype: bool\n"
     ]
    }
   ],
   "source": [
    "# isin([1,3,4]) 查看数据表中是否有查看的数据\n",
    "print(s.isin([1,3,4]))"
   ]
  },
  {
   "cell_type": "code",
   "execution_count": 5,
   "metadata": {},
   "outputs": [
    {
     "name": "stdout",
     "output_type": "stream",
     "text": [
      "0  a    0\n",
      "   b    1\n",
      "   c    2\n",
      "1  a    3\n",
      "   b    4\n",
      "   c    5\n",
      "dtype: int32\n"
     ]
    }
   ],
   "source": [
    "# MultiIndex.from_product([[0,1],['a','b','c']]) 二重索引\n",
    "s2 = pd.Series(np.arange(6),index=pd.MultiIndex.from_product([[0,1],['a','b','c']]))\n",
    "print(s2)"
   ]
  },
  {
   "cell_type": "code",
   "execution_count": 6,
   "metadata": {},
   "outputs": [
    {
     "name": "stdout",
     "output_type": "stream",
     "text": [
      "0  b    1\n",
      "1  a    3\n",
      "dtype: int32\n"
     ]
    }
   ],
   "source": [
    "# 查看数据表中1a和0b两条数据\n",
    "print(s2.iloc[s2.index.isin([(1,'a'),(0,'b')])])"
   ]
  },
  {
   "cell_type": "code",
   "execution_count": 7,
   "metadata": {},
   "outputs": [
    {
     "name": "stdout",
     "output_type": "stream",
     "text": [
      "4    0\n",
      "3    1\n",
      "2    2\n",
      "1    3\n",
      "0    4\n",
      "dtype: int64\n"
     ]
    }
   ],
   "source": [
    "print(s)"
   ]
  },
  {
   "cell_type": "code",
   "execution_count": 8,
   "metadata": {},
   "outputs": [
    {
     "name": "stdout",
     "output_type": "stream",
     "text": [
      "1    3\n",
      "0    4\n",
      "dtype: int64\n"
     ]
    }
   ],
   "source": [
    "print(s[s>2])"
   ]
  },
  {
   "cell_type": "code",
   "execution_count": 9,
   "metadata": {},
   "outputs": [
    {
     "name": "stdout",
     "output_type": "stream",
     "text": [
      "DatetimeIndex(['2017-11-24', '2017-11-25', '2017-11-26', '2017-11-27',\n",
      "               '2017-11-28', '2017-11-29', '2017-11-30', '2017-12-01'],\n",
      "              dtype='datetime64[ns]', freq='D')\n"
     ]
    }
   ],
   "source": [
    "dates = pd.date_range('20171124',periods=8)\n",
    "print(dates)"
   ]
  },
  {
   "cell_type": "code",
   "execution_count": 10,
   "metadata": {},
   "outputs": [
    {
     "name": "stdout",
     "output_type": "stream",
     "text": [
      "                   A         B         C         D\n",
      "2017-11-24  1.480257  0.824786 -0.011374 -0.240725\n",
      "2017-11-25  1.449743  0.077168 -0.986485  1.012821\n",
      "2017-11-26 -0.584738 -1.610924 -0.183453 -0.771603\n",
      "2017-11-27  0.074118  0.311289 -0.044556 -1.216278\n",
      "2017-11-28 -0.718916 -0.378906  0.035694  0.037987\n",
      "2017-11-29  0.083994 -1.529310  0.417731  0.548021\n",
      "2017-11-30  0.480498 -0.609897  1.403652 -1.168940\n",
      "2017-12-01 -0.220154  0.127383  0.200535  0.963977\n"
     ]
    }
   ],
   "source": [
    "df = pd.DataFrame(np.random.randn(8,4),index=dates,columns=['A','B','C','D'])\n",
    "print(df)"
   ]
  },
  {
   "cell_type": "code",
   "execution_count": 15,
   "metadata": {},
   "outputs": [],
   "source": [
    "# print(df.select(lambda x:x=='A',axis='columns'))"
   ]
  },
  {
   "cell_type": "code",
   "execution_count": 11,
   "metadata": {},
   "outputs": [
    {
     "name": "stdout",
     "output_type": "stream",
     "text": [
      "                   A         B         C         D\n",
      "2017-11-24       NaN       NaN -0.011374 -0.240725\n",
      "2017-11-25       NaN       NaN -0.986485       NaN\n",
      "2017-11-26 -0.584738 -1.610924 -0.183453 -0.771603\n",
      "2017-11-27       NaN       NaN -0.044556 -1.216278\n",
      "2017-11-28 -0.718916 -0.378906       NaN       NaN\n",
      "2017-11-29       NaN -1.529310       NaN       NaN\n",
      "2017-11-30       NaN -0.609897       NaN -1.168940\n",
      "2017-12-01 -0.220154       NaN       NaN       NaN\n"
     ]
    }
   ],
   "source": [
    "# where() 在数据表中查看小于0的数据，大于0的数据默认显示NaN\n",
    "print(df.where(df<0))"
   ]
  },
  {
   "cell_type": "code",
   "execution_count": 13,
   "metadata": {},
   "outputs": [
    {
     "name": "stdout",
     "output_type": "stream",
     "text": [
      "                   A         B          C         D\n",
      "2017-11-24        -a        -a -0.0113741 -0.240725\n",
      "2017-11-25        -a        -a  -0.986485        -a\n",
      "2017-11-26 -0.584738  -1.61092  -0.183453 -0.771603\n",
      "2017-11-27        -a        -a -0.0445564  -1.21628\n",
      "2017-11-28 -0.718916 -0.378906         -a        -a\n",
      "2017-11-29        -a  -1.52931         -a        -a\n",
      "2017-11-30        -a -0.609897         -a  -1.16894\n",
      "2017-12-01 -0.220154        -a         -a        -a\n"
     ]
    }
   ],
   "source": [
    "# where()  在数据表中将不符合条件的数据，默认显示为NaN替换成其他的数据\n",
    "print(df.where(df<0,'-a'))"
   ]
  },
  {
   "cell_type": "code",
   "execution_count": 14,
   "metadata": {},
   "outputs": [
    {
     "name": "stdout",
     "output_type": "stream",
     "text": [
      "          a         b         c\n",
      "0  1.309788  1.538211 -1.038500\n",
      "1 -0.993666 -0.185884  0.089908\n",
      "2  0.507990  0.782682 -0.381901\n",
      "3  0.482535  0.729501  0.743775\n",
      "4 -1.405371 -0.004324 -0.367700\n",
      "5  0.723752  0.076317  0.981703\n",
      "6 -0.759067 -0.133304 -0.524589\n",
      "7 -1.236133 -1.027241  0.524913\n",
      "8  0.411178 -0.768588  0.038005\n",
      "9 -1.196057  0.774852  0.533471\n"
     ]
    }
   ],
   "source": [
    "df = pd.DataFrame(np.random.randn(10,3),columns=list('abc'))\n",
    "print(df)"
   ]
  },
  {
   "cell_type": "code",
   "execution_count": 15,
   "metadata": {},
   "outputs": [
    {
     "name": "stdout",
     "output_type": "stream",
     "text": [
      "          a         b         c\n",
      "0  1.309788  1.538211 -1.038500\n",
      "1 -0.993666 -0.185884  0.089908\n",
      "2  0.507990  0.782682 -0.381901\n",
      "3  0.482535  0.729501  0.743775\n",
      "4 -1.405371 -0.004324 -0.367700\n",
      "6 -0.759067 -0.133304 -0.524589\n",
      "7 -1.236133 -1.027241  0.524913\n",
      "9 -1.196057  0.774852  0.533471\n"
     ]
    }
   ],
   "source": [
    "print(df.query('a<b'))"
   ]
  },
  {
   "cell_type": "code",
   "execution_count": 16,
   "metadata": {},
   "outputs": [
    {
     "name": "stdout",
     "output_type": "stream",
     "text": [
      "          a         b         c\n",
      "1 -0.993666 -0.185884  0.089908\n",
      "3  0.482535  0.729501  0.743775\n",
      "7 -1.236133 -1.027241  0.524913\n"
     ]
    }
   ],
   "source": [
    "print(df.query('a<b & b<c'))"
   ]
  }
 ],
 "metadata": {
  "kernelspec": {
   "display_name": "Python 3",
   "language": "python",
   "name": "python3"
  },
  "language_info": {
   "codemirror_mode": {
    "name": "ipython",
    "version": 3
   },
   "file_extension": ".py",
   "mimetype": "text/x-python",
   "name": "python",
   "nbconvert_exporter": "python",
   "pygments_lexer": "ipython3",
   "version": "3.6.3"
  }
 },
 "nbformat": 4,
 "nbformat_minor": 2
}
