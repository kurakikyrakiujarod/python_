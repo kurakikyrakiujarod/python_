{
 "cells": [
  {
   "cell_type": "code",
   "execution_count": 1,
   "metadata": {},
   "outputs": [],
   "source": [
    "import pandas as pd"
   ]
  },
  {
   "cell_type": "code",
   "execution_count": 14,
   "metadata": {},
   "outputs": [],
   "source": [
    "gl = pd.read_csv('./data/game_logs.csv')\n",
    "# gl.head()"
   ]
  },
  {
   "cell_type": "code",
   "execution_count": 10,
   "metadata": {},
   "outputs": [
    {
     "name": "stdout",
     "output_type": "stream",
     "text": [
      "(171907, 161)\n"
     ]
    }
   ],
   "source": [
    "print(gl.shape)"
   ]
  },
  {
   "cell_type": "code",
   "execution_count": 9,
   "metadata": {},
   "outputs": [
    {
     "name": "stdout",
     "output_type": "stream",
     "text": [
      "<class 'pandas.core.frame.DataFrame'>\n",
      "RangeIndex: 171907 entries, 0 to 171906\n",
      "Columns: 161 entries, date to acquisition_info\n",
      "dtypes: float64(77), int64(6), object(78)\n",
      "memory usage: 860.5 MB\n"
     ]
    }
   ],
   "source": [
    "gl.info(memory_usage='deep')"
   ]
  },
  {
   "cell_type": "code",
   "execution_count": 16,
   "metadata": {},
   "outputs": [
    {
     "name": "stdout",
     "output_type": "stream",
     "text": [
      "平均内存占用 float64 1.2947326073279748\n",
      "平均内存占用 int64 1.1241934640066964\n",
      "平均内存占用 object 9.514454069016855\n"
     ]
    }
   ],
   "source": [
    "for dtype in ['float64','int64','object']:\n",
    "    selected_dtype = gl.select_dtypes(include = [dtype])\n",
    "    mean_usage_b = selected_dtype.memory_usage(deep=True).mean()\n",
    "    mean_usage_mb = mean_usage_b/1024**2\n",
    "    print ('平均内存占用',dtype,mean_usage_mb)"
   ]
  },
  {
   "cell_type": "code",
   "execution_count": 17,
   "metadata": {},
   "outputs": [],
   "source": [
    "import numpy as np"
   ]
  },
  {
   "cell_type": "code",
   "execution_count": 18,
   "metadata": {},
   "outputs": [
    {
     "name": "stdout",
     "output_type": "stream",
     "text": [
      "Machine parameters for uint8\n",
      "---------------------------------------------------------------\n",
      "min = 0\n",
      "max = 255\n",
      "---------------------------------------------------------------\n",
      "\n",
      "Machine parameters for int8\n",
      "---------------------------------------------------------------\n",
      "min = -128\n",
      "max = 127\n",
      "---------------------------------------------------------------\n",
      "\n",
      "Machine parameters for int16\n",
      "---------------------------------------------------------------\n",
      "min = -32768\n",
      "max = 32767\n",
      "---------------------------------------------------------------\n",
      "\n",
      "Machine parameters for int32\n",
      "---------------------------------------------------------------\n",
      "min = -2147483648\n",
      "max = 2147483647\n",
      "---------------------------------------------------------------\n",
      "\n",
      "Machine parameters for int64\n",
      "---------------------------------------------------------------\n",
      "min = -9223372036854775808\n",
      "max = 9223372036854775807\n",
      "---------------------------------------------------------------\n",
      "\n"
     ]
    }
   ],
   "source": [
    "int_types = ['uint8','int8','int16','int32','int64']\n",
    "for it in int_types:\n",
    "    print (np.iinfo(it))"
   ]
  },
  {
   "cell_type": "code",
   "execution_count": 19,
   "metadata": {},
   "outputs": [],
   "source": [
    "def mem_usage(pandas_obj):\n",
    "    if isinstance(pandas_obj,pd.DataFrame):\n",
    "        usage_b = pandas_obj.memory_usage(deep=True).sum()\n",
    "    else:\n",
    "        usage_b = pandas_obj.memory_usage(deep=True)\n",
    "    usage_mb = usage_b/1024**2\n",
    "    return '{:03.2f} MB'.format(usage_mb)"
   ]
  },
  {
   "cell_type": "code",
   "execution_count": 20,
   "metadata": {},
   "outputs": [
    {
     "name": "stdout",
     "output_type": "stream",
     "text": [
      "7.87 MB\n",
      "1.48 MB\n"
     ]
    }
   ],
   "source": [
    "gl_int = gl.select_dtypes(include = ['int64'])\n",
    "coverted_int = gl_int.apply(pd.to_numeric,downcast='unsigned')\n",
    "print (mem_usage(gl_int))\n",
    "print (mem_usage(coverted_int))"
   ]
  },
  {
   "cell_type": "code",
   "execution_count": 21,
   "metadata": {},
   "outputs": [
    {
     "name": "stdout",
     "output_type": "stream",
     "text": [
      "100.99 MB\n",
      "50.49 MB\n"
     ]
    }
   ],
   "source": [
    "gl_float = gl.select_dtypes(include=['float64'])\n",
    "converted_float = gl_float.apply(pd.to_numeric,downcast='float')\n",
    "print(mem_usage(gl_float))\n",
    "print(mem_usage(converted_float))"
   ]
  },
  {
   "cell_type": "code",
   "execution_count": 22,
   "metadata": {},
   "outputs": [
    {
     "name": "stdout",
     "output_type": "stream",
     "text": [
      "860.50 MB\n",
      "803.61 MB\n"
     ]
    }
   ],
   "source": [
    "optimized_gl = gl.copy()\n",
    "optimized_gl[coverted_int.columns] = coverted_int\n",
    "optimized_gl[converted_float.columns] = converted_float\n",
    "print(mem_usage(gl))\n",
    "print(mem_usage(optimized_gl))"
   ]
  },
  {
   "cell_type": "code",
   "execution_count": 24,
   "metadata": {},
   "outputs": [
    {
     "name": "stdout",
     "output_type": "stream",
     "text": [
      "       day_of_week  v_name v_league  h_name h_league day_night  \\\n",
      "count       171907  171907   171907  171907   171907    140150   \n",
      "unique           7     148        7     148        7         2   \n",
      "top            Sat     CHN       NL     CHN       NL         D   \n",
      "freq         28891    8870    88866    9024    88867     82724   \n",
      "\n",
      "                   completion forefeit protest park_id  ... h_player_6_id  \\\n",
      "count                     116      145     180  171907  ...        140838   \n",
      "unique                    116        3       5     245  ...          4774   \n",
      "top     19820711,CHI11,5,5,54        H       V   STL07  ...      grimc101   \n",
      "freq                        1       69      90    7022  ...           427   \n",
      "\n",
      "       h_player_6_name h_player_7_id h_player_7_name h_player_8_id  \\\n",
      "count           140838        140838          140838        140838   \n",
      "unique            4720          5253            5197          4760   \n",
      "top      Charlie Grimm      grimc101   Charlie Grimm      lopea102   \n",
      "freq               427           491             491           676   \n",
      "\n",
      "       h_player_8_name h_player_9_id h_player_9_name additional_info  \\\n",
      "count           140838        140838          140838            1456   \n",
      "unique            4710          5193            5142             332   \n",
      "top           Al Lopez      spahw101    Warren Spahn            HTBF   \n",
      "freq               676           339             339            1112   \n",
      "\n",
      "       acquisition_info  \n",
      "count            140841  \n",
      "unique                1  \n",
      "top                   Y  \n",
      "freq             140841  \n",
      "\n",
      "[4 rows x 78 columns]\n"
     ]
    }
   ],
   "source": [
    "gl_obj = gl.select_dtypes(include = ['object']).copy()\n",
    "print(gl_obj.describe())"
   ]
  },
  {
   "cell_type": "code",
   "execution_count": 25,
   "metadata": {},
   "outputs": [
    {
     "name": "stdout",
     "output_type": "stream",
     "text": [
      "0    Thu\n",
      "1    Fri\n",
      "2    Sat\n",
      "3    Mon\n",
      "4    Tue\n",
      "Name: day_of_week, dtype: object\n"
     ]
    }
   ],
   "source": [
    "dow = gl_obj.day_of_week\n",
    "print(dow.head())"
   ]
  },
  {
   "cell_type": "code",
   "execution_count": 26,
   "metadata": {},
   "outputs": [
    {
     "name": "stdout",
     "output_type": "stream",
     "text": [
      "0    Thu\n",
      "1    Fri\n",
      "2    Sat\n",
      "3    Mon\n",
      "4    Tue\n",
      "Name: day_of_week, dtype: category\n",
      "Categories (7, object): [Fri, Mon, Sat, Sun, Thu, Tue, Wed]\n"
     ]
    }
   ],
   "source": [
    "dow_cat = dow.astype('category')\n",
    "print(dow_cat.head())"
   ]
  },
  {
   "cell_type": "code",
   "execution_count": 28,
   "metadata": {},
   "outputs": [
    {
     "name": "stdout",
     "output_type": "stream",
     "text": [
      "0    4\n",
      "1    0\n",
      "2    2\n",
      "3    1\n",
      "4    5\n",
      "5    4\n",
      "6    2\n",
      "7    2\n",
      "8    1\n",
      "9    5\n",
      "dtype: int8\n"
     ]
    }
   ],
   "source": [
    "print(dow_cat.head(10).cat.codes)"
   ]
  },
  {
   "cell_type": "code",
   "execution_count": 29,
   "metadata": {},
   "outputs": [
    {
     "name": "stdout",
     "output_type": "stream",
     "text": [
      "9.84 MB\n",
      "0.16 MB\n"
     ]
    }
   ],
   "source": [
    "print(mem_usage(dow))\n",
    "print(mem_usage(dow_cat))"
   ]
  },
  {
   "cell_type": "code",
   "execution_count": 31,
   "metadata": {},
   "outputs": [],
   "source": [
    "converted_obj = pd.DataFrame()\n",
    "\n",
    "for col in gl_obj.columns:\n",
    "    num_unique_values = len(gl_obj[col].unique())\n",
    "    num_total_values = len(gl_obj[col])\n",
    "    if num_unique_values / num_total_values < 0.5:\n",
    "        converted_obj.loc[:,col] = gl_obj[col].astype('category')\n",
    "    else:\n",
    "        converted_obj.loc[:,col] = gl_obj[col]"
   ]
  },
  {
   "cell_type": "code",
   "execution_count": 32,
   "metadata": {},
   "outputs": [
    {
     "name": "stdout",
     "output_type": "stream",
     "text": [
      "751.64 MB\n",
      "51.67 MB\n"
     ]
    }
   ],
   "source": [
    "print(mem_usage(gl_obj))\n",
    "print(mem_usage(converted_obj))"
   ]
  },
  {
   "cell_type": "code",
   "execution_count": 34,
   "metadata": {},
   "outputs": [
    {
     "name": "stdout",
     "output_type": "stream",
     "text": [
      "0    18710504\n",
      "1    18710505\n",
      "2    18710506\n",
      "3    18710508\n",
      "4    18710509\n",
      "Name: date, dtype: uint32\n"
     ]
    }
   ],
   "source": [
    "date = optimized_gl.date\n",
    "print(date[:5])"
   ]
  },
  {
   "cell_type": "code",
   "execution_count": 35,
   "metadata": {},
   "outputs": [
    {
     "name": "stdout",
     "output_type": "stream",
     "text": [
      "0.66 MB\n"
     ]
    }
   ],
   "source": [
    "print(mem_usage(date))"
   ]
  },
  {
   "cell_type": "code",
   "execution_count": 36,
   "metadata": {},
   "outputs": [
    {
     "name": "stdout",
     "output_type": "stream",
     "text": [
      "1.31 MB\n"
     ]
    }
   ],
   "source": [
    "optimized_gl['date'] = pd.to_datetime(date,format='%Y%m%d')\n",
    "print (mem_usage(optimized_gl['date']))"
   ]
  },
  {
   "cell_type": "code",
   "execution_count": 37,
   "metadata": {},
   "outputs": [
    {
     "name": "stdout",
     "output_type": "stream",
     "text": [
      "0   1871-05-04\n",
      "1   1871-05-05\n",
      "2   1871-05-06\n",
      "3   1871-05-08\n",
      "4   1871-05-09\n",
      "Name: date, dtype: datetime64[ns]\n"
     ]
    }
   ],
   "source": [
    "print(optimized_gl['date'][:5])"
   ]
  }
 ],
 "metadata": {
  "kernelspec": {
   "display_name": "Python 3",
   "language": "python",
   "name": "python3"
  },
  "language_info": {
   "codemirror_mode": {
    "name": "ipython",
    "version": 3
   },
   "file_extension": ".py",
   "mimetype": "text/x-python",
   "name": "python",
   "nbconvert_exporter": "python",
   "pygments_lexer": "ipython3",
   "version": "3.6.3"
  }
 },
 "nbformat": 4,
 "nbformat_minor": 2
}
