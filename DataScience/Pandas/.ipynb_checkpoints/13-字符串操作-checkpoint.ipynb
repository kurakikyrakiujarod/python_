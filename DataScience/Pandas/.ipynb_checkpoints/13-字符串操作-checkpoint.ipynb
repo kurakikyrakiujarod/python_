{
 "cells": [
  {
   "cell_type": "markdown",
   "metadata": {},
   "source": [
    "# 字符串操作"
   ]
  },
  {
   "cell_type": "code",
   "execution_count": 1,
   "metadata": {},
   "outputs": [],
   "source": [
    "import pandas as pd\n",
    "import numpy as np"
   ]
  },
  {
   "cell_type": "code",
   "execution_count": 2,
   "metadata": {},
   "outputs": [
    {
     "name": "stdout",
     "output_type": "stream",
     "text": [
      "0       A\n",
      "1       b\n",
      "2       B\n",
      "3    gear\n",
      "4    AGER\n",
      "5     NaN\n",
      "dtype: object\n"
     ]
    }
   ],
   "source": [
    "s = pd.Series(['A','b','B','gear','AGER',np.nan])\n",
    "print(s)"
   ]
  },
  {
   "cell_type": "code",
   "execution_count": 4,
   "metadata": {},
   "outputs": [
    {
     "name": "stdout",
     "output_type": "stream",
     "text": [
      "0       a\n",
      "1       b\n",
      "2       b\n",
      "3    gear\n",
      "4    ager\n",
      "5     NaN\n",
      "dtype: object\n"
     ]
    }
   ],
   "source": [
    "# 字符串转换为小写\n",
    "print(s.str.lower())"
   ]
  },
  {
   "cell_type": "code",
   "execution_count": 3,
   "metadata": {},
   "outputs": [
    {
     "name": "stdout",
     "output_type": "stream",
     "text": [
      "0       A\n",
      "1       B\n",
      "2       B\n",
      "3    GEAR\n",
      "4    AGER\n",
      "5     NaN\n",
      "dtype: object\n"
     ]
    }
   ],
   "source": [
    "# 字符串转换为大写\n",
    "print(s.str.upper())"
   ]
  },
  {
   "cell_type": "code",
   "execution_count": 4,
   "metadata": {},
   "outputs": [
    {
     "name": "stdout",
     "output_type": "stream",
     "text": [
      "0    1.0\n",
      "1    1.0\n",
      "2    1.0\n",
      "3    4.0\n",
      "4    4.0\n",
      "5    NaN\n",
      "dtype: float64\n"
     ]
    }
   ],
   "source": [
    "# 字符串长度\n",
    "print(s.str.len())"
   ]
  },
  {
   "cell_type": "code",
   "execution_count": 5,
   "metadata": {},
   "outputs": [
    {
     "name": "stdout",
     "output_type": "stream",
     "text": [
      "Index(['  tang', ' yu  ', 'di  '], dtype='object')\n"
     ]
    }
   ],
   "source": [
    "index = pd.Index(['  tang',' yu  ','di  '])\n",
    "print(index)"
   ]
  },
  {
   "cell_type": "code",
   "execution_count": 6,
   "metadata": {},
   "outputs": [
    {
     "name": "stdout",
     "output_type": "stream",
     "text": [
      "Index(['tang', 'yu', 'di'], dtype='object')\n"
     ]
    }
   ],
   "source": [
    "# str.strip() 去除字符串空格\n",
    "print(index.str.strip())"
   ]
  },
  {
   "cell_type": "code",
   "execution_count": 7,
   "metadata": {},
   "outputs": [
    {
     "name": "stdout",
     "output_type": "stream",
     "text": [
      "Index(['tang', 'yu  ', 'di  '], dtype='object')\n"
     ]
    }
   ],
   "source": [
    "print(index.str.lstrip())"
   ]
  },
  {
   "cell_type": "code",
   "execution_count": 8,
   "metadata": {},
   "outputs": [
    {
     "name": "stdout",
     "output_type": "stream",
     "text": [
      "Index(['  tang', ' yu', 'di'], dtype='object')\n"
     ]
    }
   ],
   "source": [
    "print(index.str.rstrip())"
   ]
  },
  {
   "cell_type": "code",
   "execution_count": 9,
   "metadata": {},
   "outputs": [
    {
     "name": "stdout",
     "output_type": "stream",
     "text": [
      "        A a       B b\n",
      "0  0.692662  0.203311\n",
      "1  0.233449 -1.024976\n",
      "2 -1.127630 -0.070782\n"
     ]
    }
   ],
   "source": [
    "df = pd.DataFrame(np.random.randn(3,2),columns=['A a','B b'],index=range(3))\n",
    "print(df)"
   ]
  },
  {
   "cell_type": "code",
   "execution_count": 10,
   "metadata": {},
   "outputs": [
    {
     "name": "stdout",
     "output_type": "stream",
     "text": [
      "        A_a       B_b\n",
      "0  0.692662  0.203311\n",
      "1  0.233449 -1.024976\n",
      "2 -1.127630 -0.070782\n"
     ]
    }
   ],
   "source": [
    "df.columns = df.columns.str.replace(' ','_')\n",
    "print(df)"
   ]
  },
  {
   "cell_type": "code",
   "execution_count": 11,
   "metadata": {},
   "outputs": [
    {
     "name": "stdout",
     "output_type": "stream",
     "text": [
      "0    a_b_C\n",
      "1    c_d_e\n",
      "2    f_g_h\n",
      "dtype: object\n"
     ]
    }
   ],
   "source": [
    "s = pd.Series(['a_b_C','c_d_e','f_g_h'])\n",
    "print(s)"
   ]
  },
  {
   "cell_type": "code",
   "execution_count": 13,
   "metadata": {},
   "outputs": [
    {
     "name": "stdout",
     "output_type": "stream",
     "text": [
      "0    [a, b, C]\n",
      "1    [c, d, e]\n",
      "2    [f, g, h]\n",
      "dtype: object\n"
     ]
    }
   ],
   "source": [
    "# 字符串切分 .str.split()\n",
    "print(s.str.split('_'))"
   ]
  },
  {
   "cell_type": "code",
   "execution_count": 14,
   "metadata": {},
   "outputs": [
    {
     "name": "stdout",
     "output_type": "stream",
     "text": [
      "   0  1  2\n",
      "0  a  b  C\n",
      "1  c  d  e\n",
      "2  f  g  h\n"
     ]
    }
   ],
   "source": [
    "print(s.str.split('_',expand=True))"
   ]
  },
  {
   "cell_type": "code",
   "execution_count": 15,
   "metadata": {},
   "outputs": [
    {
     "name": "stdout",
     "output_type": "stream",
     "text": [
      "   0    1\n",
      "0  a  b_C\n",
      "1  c  d_e\n",
      "2  f  g_h\n"
     ]
    }
   ],
   "source": [
    "print(s.str.split('_',expand=True,n=1))"
   ]
  },
  {
   "cell_type": "code",
   "execution_count": 16,
   "metadata": {},
   "outputs": [
    {
     "name": "stdout",
     "output_type": "stream",
     "text": [
      "0      A\n",
      "1    Aas\n",
      "2    fff\n",
      "3    Age\n",
      "4    not\n",
      "dtype: object\n"
     ]
    }
   ],
   "source": [
    "s = pd.Series(['A','Aas','fff','Age','not'])\n",
    "print(s)"
   ]
  },
  {
   "cell_type": "code",
   "execution_count": 17,
   "metadata": {},
   "outputs": [
    {
     "name": "stdout",
     "output_type": "stream",
     "text": [
      "0    False\n",
      "1     True\n",
      "2    False\n",
      "3    False\n",
      "4    False\n",
      "dtype: bool\n"
     ]
    }
   ],
   "source": [
    "# str.contains() 判断数据中是否包含某个字符串\n",
    "print(s.str.contains('Aa'))"
   ]
  },
  {
   "cell_type": "code",
   "execution_count": 18,
   "metadata": {},
   "outputs": [
    {
     "name": "stdout",
     "output_type": "stream",
     "text": [
      "0      a\n",
      "1    a|b\n",
      "2    a|c\n",
      "dtype: object\n"
     ]
    }
   ],
   "source": [
    "s = pd.Series(['a','a|b','a|c'])\n",
    "print(s)"
   ]
  },
  {
   "cell_type": "code",
   "execution_count": 19,
   "metadata": {},
   "outputs": [
    {
     "name": "stdout",
     "output_type": "stream",
     "text": [
      "   a  b  c\n",
      "0  1  0  0\n",
      "1  1  1  0\n",
      "2  1  0  1\n"
     ]
    }
   ],
   "source": [
    "# Series.str.get_dummies(sep=’|’)分割字符串并返回各个字符的复杂矩阵\n",
    "print(s.str.get_dummies(sep='|'))"
   ]
  },
  {
   "cell_type": "code",
   "execution_count": null,
   "metadata": {},
   "outputs": [],
   "source": []
  }
 ],
 "metadata": {
  "kernelspec": {
   "display_name": "Python 3",
   "language": "python",
   "name": "python3"
  },
  "language_info": {
   "codemirror_mode": {
    "name": "ipython",
    "version": 3
   },
   "file_extension": ".py",
   "mimetype": "text/x-python",
   "name": "python",
   "nbconvert_exporter": "python",
   "pygments_lexer": "ipython3",
   "version": "3.6.3"
  }
 },
 "nbformat": 4,
 "nbformat_minor": 2
}
