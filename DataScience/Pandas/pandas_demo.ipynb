{
 "cells": [
  {
   "cell_type": "code",
   "execution_count": 2,
   "metadata": {},
   "outputs": [],
   "source": [
    "import numpy as np\n",
    "# 创建一个符合正态分布的10个股票5天的涨跌幅数据\n",
    "stock_change = np.random.normal(0, 1, (10, 5))"
   ]
  },
  {
   "cell_type": "code",
   "execution_count": 3,
   "metadata": {},
   "outputs": [
    {
     "name": "stdout",
     "output_type": "stream",
     "text": [
      "[[ 1.64186069  1.14303135  0.8113263  -1.02148904 -0.05211322]\n",
      " [-0.77463204 -0.47879505 -0.06822857 -0.89200453  0.07623141]\n",
      " [-0.95381645 -0.35299585  0.43708754  0.49599682 -1.97471824]\n",
      " [-1.49884123  0.42669702  1.08660098 -1.80848021  0.07946975]\n",
      " [-1.91729227  0.49331833  0.13535657  0.5971778   0.66608854]\n",
      " [-1.17030171  0.94271574 -0.30208072 -1.42197248  0.65586951]\n",
      " [-0.94902667 -0.50249605 -0.84525086  1.8383737  -0.28364519]\n",
      " [ 0.0595743  -0.44073658 -0.87261751  0.48786388 -0.15119225]\n",
      " [-1.42067136  1.6296108   0.4445967  -0.07315373 -2.29834386]\n",
      " [-0.28678026 -0.04112059  0.75102962 -0.01311985 -0.08027614]]\n"
     ]
    }
   ],
   "source": [
    "print(stock_change)"
   ]
  },
  {
   "cell_type": "code",
   "execution_count": 4,
   "metadata": {},
   "outputs": [],
   "source": [
    "import pandas as pd"
   ]
  },
  {
   "cell_type": "code",
   "execution_count": 6,
   "metadata": {},
   "outputs": [
    {
     "name": "stdout",
     "output_type": "stream",
     "text": [
      "          0         1         2         3         4\n",
      "0  1.641861  1.143031  0.811326 -1.021489 -0.052113\n",
      "1 -0.774632 -0.478795 -0.068229 -0.892005  0.076231\n",
      "2 -0.953816 -0.352996  0.437088  0.495997 -1.974718\n",
      "3 -1.498841  0.426697  1.086601 -1.808480  0.079470\n",
      "4 -1.917292  0.493318  0.135357  0.597178  0.666089\n",
      "5 -1.170302  0.942716 -0.302081 -1.421972  0.655870\n",
      "6 -0.949027 -0.502496 -0.845251  1.838374 -0.283645\n",
      "7  0.059574 -0.440737 -0.872618  0.487864 -0.151192\n",
      "8 -1.420671  1.629611  0.444597 -0.073154 -2.298344\n",
      "9 -0.286780 -0.041121  0.751030 -0.013120 -0.080276\n"
     ]
    }
   ],
   "source": [
    "print(pd.DataFrame(stock_change))"
   ]
  },
  {
   "cell_type": "code",
   "execution_count": 7,
   "metadata": {},
   "outputs": [],
   "source": [
    "# 添加行索引\n",
    "stock = [\"股票{}\".format(i) for i in range(10)]"
   ]
  },
  {
   "cell_type": "code",
   "execution_count": 9,
   "metadata": {},
   "outputs": [
    {
     "name": "stdout",
     "output_type": "stream",
     "text": [
      "            0         1         2         3         4\n",
      "股票0  1.641861  1.143031  0.811326 -1.021489 -0.052113\n",
      "股票1 -0.774632 -0.478795 -0.068229 -0.892005  0.076231\n",
      "股票2 -0.953816 -0.352996  0.437088  0.495997 -1.974718\n",
      "股票3 -1.498841  0.426697  1.086601 -1.808480  0.079470\n",
      "股票4 -1.917292  0.493318  0.135357  0.597178  0.666089\n",
      "股票5 -1.170302  0.942716 -0.302081 -1.421972  0.655870\n",
      "股票6 -0.949027 -0.502496 -0.845251  1.838374 -0.283645\n",
      "股票7  0.059574 -0.440737 -0.872618  0.487864 -0.151192\n",
      "股票8 -1.420671  1.629611  0.444597 -0.073154 -2.298344\n",
      "股票9 -0.286780 -0.041121  0.751030 -0.013120 -0.080276\n"
     ]
    }
   ],
   "source": [
    "print(pd.DataFrame(stock_change, index=stock))"
   ]
  },
  {
   "cell_type": "code",
   "execution_count": 11,
   "metadata": {},
   "outputs": [
    {
     "name": "stdout",
     "output_type": "stream",
     "text": [
      "DatetimeIndex(['2018-01-01', '2018-01-02', '2018-01-03', '2018-01-04',\n",
      "               '2018-01-05'],\n",
      "              dtype='datetime64[ns]', freq='B')\n"
     ]
    }
   ],
   "source": [
    "# 添加列索引\n",
    "date = pd.date_range(start=\"20180101\", periods=5, freq=\"B\")\n",
    "print(date)"
   ]
  },
  {
   "cell_type": "code",
   "execution_count": 13,
   "metadata": {},
   "outputs": [
    {
     "name": "stdout",
     "output_type": "stream",
     "text": [
      "     2018-01-01  2018-01-02  2018-01-03  2018-01-04  2018-01-05\n",
      "股票0    1.641861    1.143031    0.811326   -1.021489   -0.052113\n",
      "股票1   -0.774632   -0.478795   -0.068229   -0.892005    0.076231\n",
      "股票2   -0.953816   -0.352996    0.437088    0.495997   -1.974718\n",
      "股票3   -1.498841    0.426697    1.086601   -1.808480    0.079470\n",
      "股票4   -1.917292    0.493318    0.135357    0.597178    0.666089\n",
      "股票5   -1.170302    0.942716   -0.302081   -1.421972    0.655870\n",
      "股票6   -0.949027   -0.502496   -0.845251    1.838374   -0.283645\n",
      "股票7    0.059574   -0.440737   -0.872618    0.487864   -0.151192\n",
      "股票8   -1.420671    1.629611    0.444597   -0.073154   -2.298344\n",
      "股票9   -0.286780   -0.041121    0.751030   -0.013120   -0.080276\n"
     ]
    }
   ],
   "source": [
    "data = pd.DataFrame(stock_change, index=stock, columns=date)\n",
    "print(data)"
   ]
  },
  {
   "cell_type": "code",
   "execution_count": 15,
   "metadata": {},
   "outputs": [
    {
     "name": "stdout",
     "output_type": "stream",
     "text": [
      "(10, 5)\n"
     ]
    }
   ],
   "source": [
    "print(data.shape)"
   ]
  },
  {
   "cell_type": "code",
   "execution_count": 16,
   "metadata": {},
   "outputs": [
    {
     "name": "stdout",
     "output_type": "stream",
     "text": [
      "Index(['股票0', '股票1', '股票2', '股票3', '股票4', '股票5', '股票6', '股票7', '股票8', '股票9'], dtype='object')\n"
     ]
    }
   ],
   "source": [
    "print(data.index)"
   ]
  },
  {
   "cell_type": "code",
   "execution_count": 17,
   "metadata": {},
   "outputs": [
    {
     "name": "stdout",
     "output_type": "stream",
     "text": [
      "DatetimeIndex(['2018-01-01', '2018-01-02', '2018-01-03', '2018-01-04',\n",
      "               '2018-01-05'],\n",
      "              dtype='datetime64[ns]', freq='B')\n"
     ]
    }
   ],
   "source": [
    "print(data.columns)"
   ]
  },
  {
   "cell_type": "code",
   "execution_count": 18,
   "metadata": {},
   "outputs": [
    {
     "name": "stdout",
     "output_type": "stream",
     "text": [
      "[[ 1.64186069  1.14303135  0.8113263  -1.02148904 -0.05211322]\n",
      " [-0.77463204 -0.47879505 -0.06822857 -0.89200453  0.07623141]\n",
      " [-0.95381645 -0.35299585  0.43708754  0.49599682 -1.97471824]\n",
      " [-1.49884123  0.42669702  1.08660098 -1.80848021  0.07946975]\n",
      " [-1.91729227  0.49331833  0.13535657  0.5971778   0.66608854]\n",
      " [-1.17030171  0.94271574 -0.30208072 -1.42197248  0.65586951]\n",
      " [-0.94902667 -0.50249605 -0.84525086  1.8383737  -0.28364519]\n",
      " [ 0.0595743  -0.44073658 -0.87261751  0.48786388 -0.15119225]\n",
      " [-1.42067136  1.6296108   0.4445967  -0.07315373 -2.29834386]\n",
      " [-0.28678026 -0.04112059  0.75102962 -0.01311985 -0.08027614]]\n"
     ]
    }
   ],
   "source": [
    "print(data.values)"
   ]
  },
  {
   "cell_type": "code",
   "execution_count": 19,
   "metadata": {},
   "outputs": [
    {
     "name": "stdout",
     "output_type": "stream",
     "text": [
      "                 股票0       股票1       股票2       股票3       股票4       股票5  \\\n",
      "2018-01-01  1.641861 -0.774632 -0.953816 -1.498841 -1.917292 -1.170302   \n",
      "2018-01-02  1.143031 -0.478795 -0.352996  0.426697  0.493318  0.942716   \n",
      "2018-01-03  0.811326 -0.068229  0.437088  1.086601  0.135357 -0.302081   \n",
      "2018-01-04 -1.021489 -0.892005  0.495997 -1.808480  0.597178 -1.421972   \n",
      "2018-01-05 -0.052113  0.076231 -1.974718  0.079470  0.666089  0.655870   \n",
      "\n",
      "                 股票6       股票7       股票8       股票9  \n",
      "2018-01-01 -0.949027  0.059574 -1.420671 -0.286780  \n",
      "2018-01-02 -0.502496 -0.440737  1.629611 -0.041121  \n",
      "2018-01-03 -0.845251 -0.872618  0.444597  0.751030  \n",
      "2018-01-04  1.838374  0.487864 -0.073154 -0.013120  \n",
      "2018-01-05 -0.283645 -0.151192 -2.298344 -0.080276  \n"
     ]
    }
   ],
   "source": [
    "print(data.T)"
   ]
  },
  {
   "cell_type": "code",
   "execution_count": 20,
   "metadata": {},
   "outputs": [
    {
     "name": "stdout",
     "output_type": "stream",
     "text": [
      "     2018-01-01  2018-01-02  2018-01-03  2018-01-04  2018-01-05\n",
      "股票0    1.641861    1.143031    0.811326   -1.021489   -0.052113\n",
      "股票1   -0.774632   -0.478795   -0.068229   -0.892005    0.076231\n",
      "股票2   -0.953816   -0.352996    0.437088    0.495997   -1.974718\n"
     ]
    }
   ],
   "source": [
    "print(data.head(3))"
   ]
  },
  {
   "cell_type": "code",
   "execution_count": 21,
   "metadata": {},
   "outputs": [
    {
     "name": "stdout",
     "output_type": "stream",
     "text": [
      "     2018-01-01  2018-01-02  2018-01-03  2018-01-04  2018-01-05\n",
      "股票8   -1.420671    1.629611    0.444597   -0.073154   -2.298344\n",
      "股票9   -0.286780   -0.041121    0.751030   -0.013120   -0.080276\n"
     ]
    }
   ],
   "source": [
    "print(data.tail(2))"
   ]
  },
  {
   "cell_type": "markdown",
   "metadata": {},
   "source": [
    "### 修改行列索引值"
   ]
  },
  {
   "cell_type": "code",
   "execution_count": 24,
   "metadata": {},
   "outputs": [],
   "source": [
    "# 不能单独修改索引\n",
    "# data.index[2] = \"股票88\" "
   ]
  },
  {
   "cell_type": "code",
   "execution_count": 25,
   "metadata": {},
   "outputs": [],
   "source": [
    "stock_ = [\"股票_{}\".format(i) for i in range(10)]"
   ]
  },
  {
   "cell_type": "code",
   "execution_count": 26,
   "metadata": {},
   "outputs": [],
   "source": [
    "data.index = stock_"
   ]
  },
  {
   "cell_type": "code",
   "execution_count": 27,
   "metadata": {},
   "outputs": [
    {
     "name": "stdout",
     "output_type": "stream",
     "text": [
      "Index(['股票_0', '股票_1', '股票_2', '股票_3', '股票_4', '股票_5', '股票_6', '股票_7', '股票_8',\n",
      "       '股票_9'],\n",
      "      dtype='object')\n"
     ]
    }
   ],
   "source": [
    "print(data.index)"
   ]
  },
  {
   "cell_type": "code",
   "execution_count": 28,
   "metadata": {},
   "outputs": [
    {
     "name": "stdout",
     "output_type": "stream",
     "text": [
      "      2018-01-01  2018-01-02  2018-01-03  2018-01-04  2018-01-05\n",
      "股票_0    1.641861    1.143031    0.811326   -1.021489   -0.052113\n",
      "股票_1   -0.774632   -0.478795   -0.068229   -0.892005    0.076231\n",
      "股票_2   -0.953816   -0.352996    0.437088    0.495997   -1.974718\n",
      "股票_3   -1.498841    0.426697    1.086601   -1.808480    0.079470\n",
      "股票_4   -1.917292    0.493318    0.135357    0.597178    0.666089\n",
      "股票_5   -1.170302    0.942716   -0.302081   -1.421972    0.655870\n",
      "股票_6   -0.949027   -0.502496   -0.845251    1.838374   -0.283645\n",
      "股票_7    0.059574   -0.440737   -0.872618    0.487864   -0.151192\n",
      "股票_8   -1.420671    1.629611    0.444597   -0.073154   -2.298344\n",
      "股票_9   -0.286780   -0.041121    0.751030   -0.013120   -0.080276\n"
     ]
    }
   ],
   "source": [
    "print(data)"
   ]
  },
  {
   "cell_type": "markdown",
   "metadata": {},
   "source": [
    "### 重设索引"
   ]
  },
  {
   "cell_type": "code",
   "execution_count": 33,
   "metadata": {},
   "outputs": [
    {
     "name": "stdout",
     "output_type": "stream",
     "text": [
      "  index  2018-01-01 00:00:00  2018-01-02 00:00:00  2018-01-03 00:00:00  \\\n",
      "0  股票_0             1.641861             1.143031             0.811326   \n",
      "1  股票_1            -0.774632            -0.478795            -0.068229   \n",
      "2  股票_2            -0.953816            -0.352996             0.437088   \n",
      "3  股票_3            -1.498841             0.426697             1.086601   \n",
      "4  股票_4            -1.917292             0.493318             0.135357   \n",
      "5  股票_5            -1.170302             0.942716            -0.302081   \n",
      "6  股票_6            -0.949027            -0.502496            -0.845251   \n",
      "7  股票_7             0.059574            -0.440737            -0.872618   \n",
      "8  股票_8            -1.420671             1.629611             0.444597   \n",
      "9  股票_9            -0.286780            -0.041121             0.751030   \n",
      "\n",
      "   2018-01-04 00:00:00  2018-01-05 00:00:00  \n",
      "0            -1.021489            -0.052113  \n",
      "1            -0.892005             0.076231  \n",
      "2             0.495997            -1.974718  \n",
      "3            -1.808480             0.079470  \n",
      "4             0.597178             0.666089  \n",
      "5            -1.421972             0.655870  \n",
      "6             1.838374            -0.283645  \n",
      "7             0.487864            -0.151192  \n",
      "8            -0.073154            -2.298344  \n",
      "9            -0.013120            -0.080276  \n"
     ]
    }
   ],
   "source": [
    "print(data.reset_index(drop=False))"
   ]
  },
  {
   "cell_type": "code",
   "execution_count": 34,
   "metadata": {},
   "outputs": [
    {
     "name": "stdout",
     "output_type": "stream",
     "text": [
      "   2018-01-01  2018-01-02  2018-01-03  2018-01-04  2018-01-05\n",
      "0    1.641861    1.143031    0.811326   -1.021489   -0.052113\n",
      "1   -0.774632   -0.478795   -0.068229   -0.892005    0.076231\n",
      "2   -0.953816   -0.352996    0.437088    0.495997   -1.974718\n",
      "3   -1.498841    0.426697    1.086601   -1.808480    0.079470\n",
      "4   -1.917292    0.493318    0.135357    0.597178    0.666089\n",
      "5   -1.170302    0.942716   -0.302081   -1.421972    0.655870\n",
      "6   -0.949027   -0.502496   -0.845251    1.838374   -0.283645\n",
      "7    0.059574   -0.440737   -0.872618    0.487864   -0.151192\n",
      "8   -1.420671    1.629611    0.444597   -0.073154   -2.298344\n",
      "9   -0.286780   -0.041121    0.751030   -0.013120   -0.080276\n"
     ]
    }
   ],
   "source": [
    "print(data.reset_index(drop=True))"
   ]
  },
  {
   "cell_type": "markdown",
   "metadata": {},
   "source": [
    "### 设置新索引"
   ]
  },
  {
   "cell_type": "code",
   "execution_count": 35,
   "metadata": {},
   "outputs": [],
   "source": [
    "df = pd.DataFrame({'month': [1, 4, 7, 10],\n",
    "                    'year': [2012, 2014, 2013, 2014],\n",
    "                    'sale':[55, 40, 84, 31]})"
   ]
  },
  {
   "cell_type": "code",
   "execution_count": 36,
   "metadata": {},
   "outputs": [
    {
     "name": "stdout",
     "output_type": "stream",
     "text": [
      "   month  year  sale\n",
      "0      1  2012    55\n",
      "1      4  2014    40\n",
      "2      7  2013    84\n",
      "3     10  2014    31\n"
     ]
    }
   ],
   "source": [
    "print(df)"
   ]
  },
  {
   "cell_type": "code",
   "execution_count": 37,
   "metadata": {},
   "outputs": [
    {
     "name": "stdout",
     "output_type": "stream",
     "text": [
      "       year  sale\n",
      "month            \n",
      "1      2012    55\n",
      "4      2014    40\n",
      "7      2013    84\n",
      "10     2014    31\n"
     ]
    }
   ],
   "source": [
    "# 以月份设置新的索引\n",
    "print(df.set_index(\"month\", drop=True))"
   ]
  },
  {
   "cell_type": "code",
   "execution_count": 42,
   "metadata": {},
   "outputs": [
    {
     "name": "stdout",
     "output_type": "stream",
     "text": [
      "            sale\n",
      "year month      \n",
      "2012 1        55\n",
      "2014 4        40\n",
      "2013 7        84\n",
      "2014 10       31\n"
     ]
    }
   ],
   "source": [
    "# 设置多个索引，以年和月份\n",
    "new_df = df.set_index([\"year\", \"month\"])\n",
    "print(new_df)"
   ]
  },
  {
   "cell_type": "code",
   "execution_count": 39,
   "metadata": {},
   "outputs": [
    {
     "name": "stdout",
     "output_type": "stream",
     "text": [
      "MultiIndex(levels=[[2012, 2013, 2014], [1, 4, 7, 10]],\n",
      "           codes=[[0, 2, 1, 2], [0, 1, 2, 3]],\n",
      "           names=['year', 'month'])\n"
     ]
    }
   ],
   "source": [
    "print(new_df.index)"
   ]
  },
  {
   "cell_type": "code",
   "execution_count": 40,
   "metadata": {},
   "outputs": [
    {
     "name": "stdout",
     "output_type": "stream",
     "text": [
      "['year', 'month']\n"
     ]
    }
   ],
   "source": [
    "print(new_df.index.names)"
   ]
  },
  {
   "cell_type": "code",
   "execution_count": 41,
   "metadata": {},
   "outputs": [
    {
     "name": "stdout",
     "output_type": "stream",
     "text": [
      "[[2012, 2013, 2014], [1, 4, 7, 10]]\n"
     ]
    }
   ],
   "source": [
    "print(new_df.index.levels)"
   ]
  },
  {
   "cell_type": "markdown",
   "metadata": {},
   "source": [
    "### Panel"
   ]
  },
  {
   "cell_type": "code",
   "execution_count": 43,
   "metadata": {},
   "outputs": [
    {
     "name": "stderr",
     "output_type": "stream",
     "text": [
      "d:\\users\\lib\\site-packages\\IPython\\core\\interactiveshell.py:2963: FutureWarning: \n",
      "Panel is deprecated and will be removed in a future version.\n",
      "The recommended way to represent these types of 3-dimensional data are with a MultiIndex on a DataFrame, via the Panel.to_frame() method\n",
      "Alternatively, you can use the xarray package http://xarray.pydata.org/en/stable/.\n",
      "Pandas provides a `.to_xarray()` method to help automate this conversion.\n",
      "\n",
      "  exec(code_obj, self.user_global_ns, self.user_ns)\n"
     ]
    }
   ],
   "source": [
    "p = pd.Panel(np.arange(24).reshape(4,3,2),\n",
    "                 items=list('ABCD'),\n",
    "                 major_axis=pd.date_range('20130101', periods=3),\n",
    "                 minor_axis=['first', 'second'])"
   ]
  },
  {
   "cell_type": "code",
   "execution_count": 45,
   "metadata": {},
   "outputs": [
    {
     "name": "stdout",
     "output_type": "stream",
     "text": [
      "<class 'pandas.core.panel.Panel'>\n",
      "Dimensions: 4 (items) x 3 (major_axis) x 2 (minor_axis)\n",
      "Items axis: A to D\n",
      "Major_axis axis: 2013-01-01 00:00:00 to 2013-01-03 00:00:00\n",
      "Minor_axis axis: first to second\n"
     ]
    }
   ],
   "source": [
    "print(p)"
   ]
  },
  {
   "cell_type": "code",
   "execution_count": 46,
   "metadata": {},
   "outputs": [
    {
     "name": "stdout",
     "output_type": "stream",
     "text": [
      "            first  second\n",
      "2013-01-01      0       1\n",
      "2013-01-02      2       3\n",
      "2013-01-03      4       5\n"
     ]
    }
   ],
   "source": [
    "print(p[\"A\"])"
   ]
  },
  {
   "cell_type": "code",
   "execution_count": 47,
   "metadata": {},
   "outputs": [
    {
     "name": "stdout",
     "output_type": "stream",
     "text": [
      "            first  second\n",
      "2013-01-01     18      19\n",
      "2013-01-02     20      21\n",
      "2013-01-03     22      23\n"
     ]
    }
   ],
   "source": [
    "print(p['D'])"
   ]
  },
  {
   "cell_type": "code",
   "execution_count": 48,
   "metadata": {},
   "outputs": [
    {
     "name": "stdout",
     "output_type": "stream",
     "text": [
      "        A  B   C   D\n",
      "first   0  6  12  18\n",
      "second  1  7  13  19\n"
     ]
    }
   ],
   "source": [
    "print(p.major_xs(\"2013-01-01\"))"
   ]
  },
  {
   "cell_type": "code",
   "execution_count": 49,
   "metadata": {},
   "outputs": [
    {
     "name": "stdout",
     "output_type": "stream",
     "text": [
      "            A   B   C   D\n",
      "2013-01-01  0   6  12  18\n",
      "2013-01-02  2   8  14  20\n",
      "2013-01-03  4  10  16  22\n"
     ]
    }
   ],
   "source": [
    "print(p.minor_xs(\"first\"))"
   ]
  },
  {
   "cell_type": "markdown",
   "metadata": {},
   "source": [
    "### Series"
   ]
  },
  {
   "cell_type": "code",
   "execution_count": 50,
   "metadata": {},
   "outputs": [],
   "source": [
    "sr = data.iloc[1, :]"
   ]
  },
  {
   "cell_type": "code",
   "execution_count": 51,
   "metadata": {},
   "outputs": [
    {
     "name": "stdout",
     "output_type": "stream",
     "text": [
      "2018-01-01   -0.774632\n",
      "2018-01-02   -0.478795\n",
      "2018-01-03   -0.068229\n",
      "2018-01-04   -0.892005\n",
      "2018-01-05    0.076231\n",
      "Freq: B, Name: 股票_1, dtype: float64\n"
     ]
    }
   ],
   "source": [
    "print(sr)"
   ]
  },
  {
   "cell_type": "code",
   "execution_count": 52,
   "metadata": {},
   "outputs": [
    {
     "name": "stdout",
     "output_type": "stream",
     "text": [
      "DatetimeIndex(['2018-01-01', '2018-01-02', '2018-01-03', '2018-01-04',\n",
      "               '2018-01-05'],\n",
      "              dtype='datetime64[ns]', freq='B')\n"
     ]
    }
   ],
   "source": [
    "print(sr.index)"
   ]
  },
  {
   "cell_type": "code",
   "execution_count": 53,
   "metadata": {},
   "outputs": [
    {
     "name": "stdout",
     "output_type": "stream",
     "text": [
      "[-0.77463204 -0.47879505 -0.06822857 -0.89200453  0.07623141]\n"
     ]
    }
   ],
   "source": [
    "print(sr.values)"
   ]
  },
  {
   "cell_type": "code",
   "execution_count": 54,
   "metadata": {},
   "outputs": [
    {
     "name": "stdout",
     "output_type": "stream",
     "text": [
      "<class 'numpy.ndarray'>\n"
     ]
    }
   ],
   "source": [
    "print(type(sr.values))"
   ]
  },
  {
   "cell_type": "code",
   "execution_count": 55,
   "metadata": {},
   "outputs": [
    {
     "name": "stdout",
     "output_type": "stream",
     "text": [
      "a    3\n",
      "b    5\n",
      "c    7\n",
      "dtype: int32\n"
     ]
    }
   ],
   "source": [
    "print(pd.Series(np.arange(3, 9, 2), index=[\"a\", \"b\", \"c\"]))"
   ]
  },
  {
   "cell_type": "code",
   "execution_count": 56,
   "metadata": {},
   "outputs": [
    {
     "name": "stdout",
     "output_type": "stream",
     "text": [
      "red        100\n",
      "blue       200\n",
      "green      500\n",
      "yellow    1000\n",
      "dtype: int64\n"
     ]
    }
   ],
   "source": [
    "print(pd.Series({'red':100, 'blue':200, 'green': 500, 'yellow':1000}))"
   ]
  },
  {
   "cell_type": "markdown",
   "metadata": {},
   "source": [
    "### 4.2 基本数据操作"
   ]
  },
  {
   "cell_type": "code",
   "execution_count": 57,
   "metadata": {},
   "outputs": [],
   "source": [
    "data = pd.read_csv(\"./stock_day/stock_day.csv\")"
   ]
  },
  {
   "cell_type": "code",
   "execution_count": 59,
   "metadata": {},
   "outputs": [],
   "source": [
    "data = data.drop([\"ma5\",\"ma10\",\"ma20\",\"v_ma5\",\"v_ma10\",\"v_ma20\"], axis=1)"
   ]
  },
  {
   "cell_type": "code",
   "execution_count": 61,
   "metadata": {},
   "outputs": [
    {
     "name": "stdout",
     "output_type": "stream",
     "text": [
      "             open   high  close    low    volume  price_change  p_change  \\\n",
      "2018-02-27  23.53  25.88  24.16  23.53  95578.03          0.63      2.68   \n",
      "2018-02-26  22.80  23.78  23.53  22.80  60985.11          0.69      3.02   \n",
      "2018-02-23  22.88  23.37  22.82  22.71  52914.01          0.54      2.42   \n",
      "2018-02-22  22.25  22.76  22.28  22.02  36105.01          0.36      1.64   \n",
      "2018-02-14  21.49  21.99  21.92  21.48  23331.04          0.44      2.05   \n",
      "\n",
      "            turnover  \n",
      "2018-02-27      2.39  \n",
      "2018-02-26      1.53  \n",
      "2018-02-23      1.32  \n",
      "2018-02-22      0.90  \n",
      "2018-02-14      0.58  \n"
     ]
    }
   ],
   "source": [
    "print(data.head())"
   ]
  },
  {
   "cell_type": "code",
   "execution_count": 86,
   "metadata": {},
   "outputs": [],
   "source": [
    "# data[1, 0] 不能直接进行数字索引"
   ]
  },
  {
   "cell_type": "code",
   "execution_count": 62,
   "metadata": {},
   "outputs": [
    {
     "name": "stdout",
     "output_type": "stream",
     "text": [
      "22.8\n"
     ]
    }
   ],
   "source": [
    "print(data[\"open\"][\"2018-02-26\"])"
   ]
  },
  {
   "cell_type": "code",
   "execution_count": 90,
   "metadata": {},
   "outputs": [],
   "source": [
    "# data[\"2018-02-26\"][\"open\"] 必须先列后行"
   ]
  },
  {
   "cell_type": "code",
   "execution_count": 63,
   "metadata": {},
   "outputs": [
    {
     "name": "stdout",
     "output_type": "stream",
     "text": [
      "22.8\n"
     ]
    }
   ],
   "source": [
    "print(data.loc[\"2018-02-26\"][\"open\"])"
   ]
  },
  {
   "cell_type": "code",
   "execution_count": 64,
   "metadata": {},
   "outputs": [
    {
     "name": "stdout",
     "output_type": "stream",
     "text": [
      "22.8\n"
     ]
    }
   ],
   "source": [
    "print(data.loc[\"2018-02-26\", \"open\"])"
   ]
  },
  {
   "cell_type": "code",
   "execution_count": 65,
   "metadata": {},
   "outputs": [
    {
     "name": "stdout",
     "output_type": "stream",
     "text": [
      "22.8\n"
     ]
    }
   ],
   "source": [
    "print(data.iloc[1, 0])"
   ]
  },
  {
   "cell_type": "code",
   "execution_count": 67,
   "metadata": {},
   "outputs": [
    {
     "name": "stdout",
     "output_type": "stream",
     "text": [
      "             open  close   high    low\n",
      "2018-02-27  23.53  24.16  25.88  23.53\n",
      "2018-02-26  22.80  23.53  23.78  22.80\n",
      "2018-02-23  22.88  22.82  23.37  22.71\n",
      "2018-02-22  22.25  22.28  22.76  22.02\n"
     ]
    },
    {
     "name": "stderr",
     "output_type": "stream",
     "text": [
      "d:\\users\\lib\\site-packages\\ipykernel_launcher.py:2: DeprecationWarning: \n",
      ".ix is deprecated. Please use\n",
      ".loc for label based indexing or\n",
      ".iloc for positional indexing\n",
      "\n",
      "See the documentation here:\n",
      "http://pandas.pydata.org/pandas-docs/stable/indexing.html#ix-indexer-is-deprecated\n",
      "  \n"
     ]
    }
   ],
   "source": [
    "# 获取行第1天到第4天，['open', 'close', 'high', 'low']这个四个指标的结果\n",
    "print(data.ix[:4, ['open', 'close', 'high', 'low']])"
   ]
  },
  {
   "cell_type": "markdown",
   "metadata": {},
   "source": [
    "### 4.2.2 赋值操作"
   ]
  },
  {
   "cell_type": "code",
   "execution_count": 70,
   "metadata": {},
   "outputs": [
    {
     "name": "stdout",
     "output_type": "stream",
     "text": [
      "            open   high  close    low    volume  price_change  p_change  \\\n",
      "2018-02-27   100  25.88  24.16  23.53  95578.03          0.63      2.68   \n",
      "2018-02-26   100  23.78  23.53  22.80  60985.11          0.69      3.02   \n",
      "2018-02-23   100  23.37  22.82  22.71  52914.01          0.54      2.42   \n",
      "2018-02-22   100  22.76  22.28  22.02  36105.01          0.36      1.64   \n",
      "2018-02-14   100  21.99  21.92  21.48  23331.04          0.44      2.05   \n",
      "\n",
      "            turnover  \n",
      "2018-02-27      2.39  \n",
      "2018-02-26      1.53  \n",
      "2018-02-23      1.32  \n",
      "2018-02-22      0.90  \n",
      "2018-02-14      0.58  \n"
     ]
    }
   ],
   "source": [
    "data.open = 100\n",
    "print(data.head())"
   ]
  },
  {
   "cell_type": "code",
   "execution_count": 71,
   "metadata": {},
   "outputs": [
    {
     "name": "stdout",
     "output_type": "stream",
     "text": [
      "            open   high  close    low    volume  price_change  p_change  \\\n",
      "2018-02-27   100  25.88  24.16  23.53  95578.03          0.63      2.68   \n",
      "2018-02-26   222  23.78  23.53  22.80  60985.11          0.69      3.02   \n",
      "2018-02-23   100  23.37  22.82  22.71  52914.01          0.54      2.42   \n",
      "2018-02-22   100  22.76  22.28  22.02  36105.01          0.36      1.64   \n",
      "2018-02-14   100  21.99  21.92  21.48  23331.04          0.44      2.05   \n",
      "\n",
      "            turnover  \n",
      "2018-02-27      2.39  \n",
      "2018-02-26      1.53  \n",
      "2018-02-23      1.32  \n",
      "2018-02-22      0.90  \n",
      "2018-02-14      0.58  \n"
     ]
    }
   ],
   "source": [
    "data.iloc[1, 0] = 222\n",
    "print(data.head())"
   ]
  },
  {
   "cell_type": "markdown",
   "metadata": {},
   "source": [
    "### 4.2.3 排序\n"
   ]
  },
  {
   "cell_type": "code",
   "execution_count": 75,
   "metadata": {},
   "outputs": [
    {
     "name": "stdout",
     "output_type": "stream",
     "text": [
      "            open   high  close    low     volume  price_change  p_change  \\\n",
      "2015-06-10   100  36.35  33.85  32.23  269033.12          0.51      1.53   \n",
      "2015-06-12   100  35.98  35.21  34.01  159825.88          0.82      2.38   \n",
      "2017-10-31   100  35.22  34.44  32.20  361660.88          2.38      7.42   \n",
      "2015-06-15   100  34.99  31.69  31.69  199369.53         -3.52    -10.00   \n",
      "2015-06-11   100  34.98  34.39  32.51  173075.73          0.54      1.59   \n",
      "\n",
      "            turnover  \n",
      "2015-06-10      9.21  \n",
      "2015-06-12      5.47  \n",
      "2017-10-31      9.05  \n",
      "2015-06-15      6.82  \n",
      "2015-06-11      5.92  \n"
     ]
    }
   ],
   "source": [
    "print(data.sort_values(by=[\"high\", \"p_change\"], ascending=False).head())"
   ]
  },
  {
   "cell_type": "code",
   "execution_count": 76,
   "metadata": {},
   "outputs": [
    {
     "name": "stdout",
     "output_type": "stream",
     "text": [
      "            open   high  close    low     volume  price_change  p_change  \\\n",
      "2015-03-02   100  12.67  12.52  12.20   96291.73          0.32      2.62   \n",
      "2015-03-03   100  13.06  12.70  12.52  139071.61          0.18      1.44   \n",
      "2015-03-04   100  12.92  12.90  12.61   67075.44          0.20      1.57   \n",
      "2015-03-05   100  13.45  13.16  12.87   93180.39          0.26      2.02   \n",
      "2015-03-06   100  14.48  14.28  13.13  179831.72          1.12      8.51   \n",
      "\n",
      "            turnover  \n",
      "2015-03-02      3.30  \n",
      "2015-03-03      4.76  \n",
      "2015-03-04      2.30  \n",
      "2015-03-05      3.19  \n",
      "2015-03-06      6.16  \n"
     ]
    }
   ],
   "source": [
    "print(data.sort_index().head())"
   ]
  },
  {
   "cell_type": "code",
   "execution_count": 77,
   "metadata": {},
   "outputs": [],
   "source": [
    "sr = data[\"price_change\"]"
   ]
  },
  {
   "cell_type": "code",
   "execution_count": 79,
   "metadata": {},
   "outputs": [
    {
     "name": "stdout",
     "output_type": "stream",
     "text": [
      "2015-06-09    3.03\n",
      "2017-10-26    2.68\n",
      "2015-05-21    2.57\n",
      "2017-10-31    2.38\n",
      "2017-06-22    2.36\n",
      "Name: price_change, dtype: float64\n"
     ]
    }
   ],
   "source": [
    "print(sr.sort_values(ascending=False).head())"
   ]
  },
  {
   "cell_type": "code",
   "execution_count": 80,
   "metadata": {},
   "outputs": [
    {
     "name": "stdout",
     "output_type": "stream",
     "text": [
      "2015-03-02    0.32\n",
      "2015-03-03    0.18\n",
      "2015-03-04    0.20\n",
      "2015-03-05    0.26\n",
      "2015-03-06    1.12\n",
      "Name: price_change, dtype: float64\n"
     ]
    }
   ],
   "source": [
    "print(sr.sort_index().head())"
   ]
  },
  {
   "cell_type": "markdown",
   "metadata": {},
   "source": [
    "### 4.3.1 算术运算"
   ]
  },
  {
   "cell_type": "code",
   "execution_count": 81,
   "metadata": {},
   "outputs": [
    {
     "name": "stdout",
     "output_type": "stream",
     "text": [
      "2018-02-27    103\n",
      "2018-02-26    225\n",
      "2018-02-23    103\n",
      "2018-02-22    103\n",
      "2018-02-14    103\n",
      "Name: open, dtype: int64\n"
     ]
    }
   ],
   "source": [
    "print(data[\"open\"].add(3).head())"
   ]
  },
  {
   "cell_type": "code",
   "execution_count": 82,
   "metadata": {},
   "outputs": [
    {
     "name": "stdout",
     "output_type": "stream",
     "text": [
      "            open   high  close    low    volume  price_change  p_change  \\\n",
      "2018-02-27     0 -74.12 -75.84 -76.47  95478.03        -99.37    -97.32   \n",
      "2018-02-26   122 -76.22 -76.47 -77.20  60885.11        -99.31    -96.98   \n",
      "2018-02-23     0 -76.63 -77.18 -77.29  52814.01        -99.46    -97.58   \n",
      "2018-02-22     0 -77.24 -77.72 -77.98  36005.01        -99.64    -98.36   \n",
      "2018-02-14     0 -78.01 -78.08 -78.52  23231.04        -99.56    -97.95   \n",
      "\n",
      "            turnover  \n",
      "2018-02-27    -97.61  \n",
      "2018-02-26    -98.47  \n",
      "2018-02-23    -98.68  \n",
      "2018-02-22    -99.10  \n",
      "2018-02-14    -99.42  \n"
     ]
    }
   ],
   "source": [
    "print(data.sub(100).head())"
   ]
  },
  {
   "cell_type": "code",
   "execution_count": 83,
   "metadata": {},
   "outputs": [
    {
     "name": "stdout",
     "output_type": "stream",
     "text": [
      "2018-02-27    -75.84\n",
      "2018-02-26   -198.47\n",
      "2018-02-23    -77.18\n",
      "2018-02-22    -77.72\n",
      "2018-02-14    -78.08\n",
      "dtype: float64\n"
     ]
    }
   ],
   "source": [
    "print(data[\"close\"].sub(data[\"open\"]).head())"
   ]
  },
  {
   "cell_type": "markdown",
   "metadata": {},
   "source": [
    "### 1 逻辑运算符号<、 >、|、 &"
   ]
  },
  {
   "cell_type": "code",
   "execution_count": 84,
   "metadata": {},
   "outputs": [
    {
     "name": "stdout",
     "output_type": "stream",
     "text": [
      "            open   high  close    low    volume  price_change  p_change  \\\n",
      "2018-02-27   100  25.88  24.16  23.53  95578.03          0.63      2.68   \n",
      "2018-02-26   222  23.78  23.53  22.80  60985.11          0.69      3.02   \n",
      "2018-02-23   100  23.37  22.82  22.71  52914.01          0.54      2.42   \n",
      "2018-02-14   100  21.99  21.92  21.48  23331.04          0.44      2.05   \n",
      "2018-02-12   100  21.40  21.19  20.63  32445.39          0.82      4.03   \n",
      "\n",
      "            turnover  \n",
      "2018-02-27      2.39  \n",
      "2018-02-26      1.53  \n",
      "2018-02-23      1.32  \n",
      "2018-02-14      0.58  \n",
      "2018-02-12      0.81  \n"
     ]
    }
   ],
   "source": [
    "# 例如筛选p_change > 2的日期数据\n",
    "print(data[data[\"p_change\"] > 2].head())"
   ]
  },
  {
   "cell_type": "code",
   "execution_count": 85,
   "metadata": {},
   "outputs": [
    {
     "name": "stdout",
     "output_type": "stream",
     "text": [
      "            open   high  close    low    volume  price_change  p_change  \\\n",
      "2018-02-27   100  25.88  24.16  23.53  95578.03          0.63      2.68   \n",
      "2018-02-26   222  23.78  23.53  22.80  60985.11          0.69      3.02   \n",
      "2018-02-23   100  23.37  22.82  22.71  52914.01          0.54      2.42   \n",
      "2018-02-14   100  21.99  21.92  21.48  23331.04          0.44      2.05   \n",
      "2018-02-12   100  21.40  21.19  20.63  32445.39          0.82      4.03   \n",
      "\n",
      "            turnover  \n",
      "2018-02-27      2.39  \n",
      "2018-02-26      1.53  \n",
      "2018-02-23      1.32  \n",
      "2018-02-14      0.58  \n",
      "2018-02-12      0.81  \n"
     ]
    }
   ],
   "source": [
    "# 完成一个多个逻辑判断， 筛选p_change > 2并且low > 15\n",
    "print(data[(data[\"p_change\"] > 2) & (data[\"low\"] > 15)].head())"
   ]
  },
  {
   "cell_type": "code",
   "execution_count": 86,
   "metadata": {},
   "outputs": [
    {
     "name": "stdout",
     "output_type": "stream",
     "text": [
      "            open   high  close    low    volume  price_change  p_change  \\\n",
      "2018-02-27   100  25.88  24.16  23.53  95578.03          0.63      2.68   \n",
      "2018-02-26   222  23.78  23.53  22.80  60985.11          0.69      3.02   \n",
      "2018-02-23   100  23.37  22.82  22.71  52914.01          0.54      2.42   \n",
      "2018-02-14   100  21.99  21.92  21.48  23331.04          0.44      2.05   \n",
      "2018-02-12   100  21.40  21.19  20.63  32445.39          0.82      4.03   \n",
      "\n",
      "            turnover  \n",
      "2018-02-27      2.39  \n",
      "2018-02-26      1.53  \n",
      "2018-02-23      1.32  \n",
      "2018-02-14      0.58  \n",
      "2018-02-12      0.81  \n"
     ]
    }
   ],
   "source": [
    "print(data.query(\"p_change > 2 & low > 15\").head())"
   ]
  },
  {
   "cell_type": "code",
   "execution_count": 87,
   "metadata": {},
   "outputs": [
    {
     "name": "stdout",
     "output_type": "stream",
     "text": [
      "            open   high  close    low     volume  price_change  p_change  \\\n",
      "2018-02-27   100  25.88  24.16  23.53   95578.03          0.63      2.68   \n",
      "2017-07-25   100  24.20  23.70  22.64  167489.48          0.67      2.91   \n",
      "2016-09-28   100  20.98  20.86  19.71   95580.75          0.98      4.93   \n",
      "2015-04-07   100  17.98  17.54  16.50  122471.85          0.88      5.28   \n",
      "\n",
      "            turnover  \n",
      "2018-02-27      2.39  \n",
      "2017-07-25      4.19  \n",
      "2016-09-28      2.39  \n",
      "2015-04-07      4.19  \n"
     ]
    }
   ],
   "source": [
    "# 判断'turnover'是否为4.19, 2.39\n",
    "print(data[data[\"turnover\"].isin([4.19, 2.39])])"
   ]
  },
  {
   "cell_type": "markdown",
   "metadata": {},
   "source": [
    "### 4.3.3 统计运算"
   ]
  },
  {
   "cell_type": "code",
   "execution_count": 88,
   "metadata": {},
   "outputs": [
    {
     "name": "stdout",
     "output_type": "stream",
     "text": [
      "             open        high       close         low         volume  \\\n",
      "count  643.000000  643.000000  643.000000  643.000000     643.000000   \n",
      "mean   100.189736   21.900513   21.336267   20.771835   99905.519114   \n",
      "std      4.811210    4.077578    3.942806    3.791968   73879.119354   \n",
      "min    100.000000   12.670000   12.360000   12.200000    1158.120000   \n",
      "25%    100.000000   19.500000   19.045000   18.525000   48533.210000   \n",
      "50%    100.000000   21.970000   21.450000   20.980000   83175.930000   \n",
      "75%    100.000000   24.065000   23.415000   22.850000  127580.055000   \n",
      "max    222.000000   36.350000   35.210000   34.010000  501915.410000   \n",
      "\n",
      "       price_change    p_change    turnover  \n",
      "count    643.000000  643.000000  643.000000  \n",
      "mean       0.018802    0.190280    2.936190  \n",
      "std        0.898476    4.079698    2.079375  \n",
      "min       -3.520000  -10.030000    0.040000  \n",
      "25%       -0.390000   -1.850000    1.360000  \n",
      "50%        0.050000    0.260000    2.500000  \n",
      "75%        0.455000    2.305000    3.915000  \n",
      "max        3.030000   10.030000   12.560000  \n"
     ]
    }
   ],
   "source": [
    "print(data.describe())"
   ]
  },
  {
   "cell_type": "code",
   "execution_count": 89,
   "metadata": {},
   "outputs": [
    {
     "name": "stdout",
     "output_type": "stream",
     "text": [
      "            open   high  close    low    volume  price_change  p_change  \\\n",
      "2018-02-27   100  25.88  24.16  23.53  95578.03          0.63      2.68   \n",
      "2018-02-26   222  23.78  23.53  22.80  60985.11          0.69      3.02   \n",
      "2018-02-23   100  23.37  22.82  22.71  52914.01          0.54      2.42   \n",
      "2018-02-22   100  22.76  22.28  22.02  36105.01          0.36      1.64   \n",
      "2018-02-14   100  21.99  21.92  21.48  23331.04          0.44      2.05   \n",
      "\n",
      "            turnover  \n",
      "2018-02-27      2.39  \n",
      "2018-02-26      1.53  \n",
      "2018-02-23      1.32  \n",
      "2018-02-22      0.90  \n",
      "2018-02-14      0.58  \n"
     ]
    }
   ],
   "source": [
    "print(data.head())"
   ]
  },
  {
   "cell_type": "code",
   "execution_count": 92,
   "metadata": {},
   "outputs": [
    {
     "name": "stdout",
     "output_type": "stream",
     "text": [
      "open               222.00\n",
      "high                36.35\n",
      "close               35.21\n",
      "low                 34.01\n",
      "volume          501915.41\n",
      "price_change         3.03\n",
      "p_change            10.03\n",
      "turnover            12.56\n",
      "dtype: float64\n"
     ]
    }
   ],
   "source": [
    "print(data.max(axis=0))"
   ]
  },
  {
   "cell_type": "code",
   "execution_count": 93,
   "metadata": {},
   "outputs": [
    {
     "name": "stdout",
     "output_type": "stream",
     "text": [
      "open            2018-02-26\n",
      "high            2015-06-10\n",
      "close           2015-06-12\n",
      "low             2015-06-12\n",
      "volume          2017-10-26\n",
      "price_change    2015-06-09\n",
      "p_change        2015-08-28\n",
      "turnover        2017-10-26\n",
      "dtype: object\n"
     ]
    }
   ],
   "source": [
    "print(data.idxmax(axis=0))"
   ]
  },
  {
   "cell_type": "markdown",
   "metadata": {},
   "source": [
    "### 4.3.4 累计统计函数"
   ]
  },
  {
   "cell_type": "code",
   "execution_count": 95,
   "metadata": {},
   "outputs": [
    {
     "name": "stdout",
     "output_type": "stream",
     "text": [
      "AxesSubplot(0.125,0.125;0.775x0.755)\n"
     ]
    },
    {
     "data": {
      "image/png": "[encoded data removed]",
      "text/plain": [
       "<Figure size 432x288 with 1 Axes>"
      ]
     },
     "metadata": {},
     "output_type": "display_data"
    }
   ],
   "source": [
    "print(data[\"p_change\"].sort_index().cumsum().plot())"
   ]
  },
  {
   "cell_type": "markdown",
   "metadata": {},
   "source": [
    "### 4.3.5 自定义运算"
   ]
  },
  {
   "cell_type": "code",
   "execution_count": 96,
   "metadata": {},
   "outputs": [
    {
     "name": "stdout",
     "output_type": "stream",
     "text": [
      "open               122.00\n",
      "high                23.68\n",
      "close               22.85\n",
      "low                 21.81\n",
      "volume          500757.29\n",
      "price_change         6.55\n",
      "p_change            20.06\n",
      "turnover            12.52\n",
      "dtype: float64\n"
     ]
    }
   ],
   "source": [
    "print(data.apply(lambda x: x.max() - x.min()))"
   ]
  },
  {
   "cell_type": "code",
   "execution_count": 97,
   "metadata": {},
   "outputs": [
    {
     "name": "stdout",
     "output_type": "stream",
     "text": [
      "500757.29\n"
     ]
    }
   ],
   "source": [
    "print(data[\"volume\"].max() - data[\"volume\"].min())"
   ]
  },
  {
   "cell_type": "markdown",
   "metadata": {},
   "source": [
    "### 4.3.6 Pandas画图"
   ]
  },
  {
   "cell_type": "code",
   "execution_count": 98,
   "metadata": {},
   "outputs": [
    {
     "name": "stdout",
     "output_type": "stream",
     "text": [
      "AxesSubplot(0.125,0.125;0.775x0.755)\n"
     ]
    },
    {
     "data": {
      "image/png": "[encoded data removed]",
      "text/plain": [
       "<Figure size 432x288 with 1 Axes>"
      ]
     },
     "metadata": {},
     "output_type": "display_data"
    }
   ],
   "source": [
    "print(data.plot(x=\"volume\", y=\"turnover\", kind=\"scatter\"))"
   ]
  },
  {
   "cell_type": "code",
   "execution_count": 99,
   "metadata": {},
   "outputs": [
    {
     "name": "stdout",
     "output_type": "stream",
     "text": [
      "AxesSubplot(0.125,0.125;0.775x0.755)\n"
     ]
    },
    {
     "data": {
      "image/png": "[encoded data removed]",
      "text/plain": [
       "<Figure size 432x288 with 1 Axes>"
      ]
     },
     "metadata": {},
     "output_type": "display_data"
    }
   ],
   "source": [
    "print(data.plot(x=\"high\", y=\"low\", kind=\"scatter\"))"
   ]
  },
  {
   "cell_type": "markdown",
   "metadata": {},
   "source": [
    "### 1 读取csv文件-read_csv()"
   ]
  },
  {
   "cell_type": "code",
   "execution_count": 100,
   "metadata": {
    "scrolled": false
   },
   "outputs": [
    {
     "name": "stdout",
     "output_type": "stream",
     "text": [
      "             open   high  close    low\n",
      "2018-02-27  23.53  25.88  24.16  23.53\n",
      "2018-02-26  22.80  23.78  23.53  22.80\n",
      "2018-02-23  22.88  23.37  22.82  22.71\n",
      "2018-02-22  22.25  22.76  22.28  22.02\n",
      "2018-02-14  21.49  21.99  21.92  21.48\n"
     ]
    }
   ],
   "source": [
    "print(pd.read_csv(\"./stock_day/stock_day.csv\", usecols=[\"high\", \"low\", \"open\", \"close\"]).head())"
   ]
  },
  {
   "cell_type": "code",
   "execution_count": 104,
   "metadata": {},
   "outputs": [
    {
     "name": "stdout",
     "output_type": "stream",
     "text": [
      "             open   high  close    low    volume  price_change  p_change  \\\n",
      "2018-02-27  23.53  25.88  24.16  23.53  95578.03          0.63      2.68   \n",
      "2018-02-26  22.80  23.78  23.53  22.80  60985.11          0.69      3.02   \n",
      "2018-02-23  22.88  23.37  22.82  22.71  52914.01          0.54      2.42   \n",
      "2018-02-22  22.25  22.76  22.28  22.02  36105.01          0.36      1.64   \n",
      "2018-02-14  21.49  21.99  21.92  21.48  23331.04          0.44      2.05   \n",
      "\n",
      "               ma5    ma10    ma20     v_ma5    v_ma10    v_ma20  turnover  \n",
      "2018-02-27  22.942  22.142  22.875  53782.64  46738.65  55576.11      2.39  \n",
      "2018-02-26  22.406  21.955  22.942  40827.52  42736.34  56007.50      1.53  \n",
      "2018-02-23  21.938  21.929  23.022  35119.58  41871.97  56372.85      1.32  \n",
      "2018-02-22  21.446  21.909  23.137  35397.58  39904.78  60149.60      0.90  \n",
      "2018-02-14  21.366  21.923  23.253  33590.21  42935.74  61716.11      0.58  \n"
     ]
    }
   ],
   "source": [
    "data = pd.read_csv(\"stock_day2.csv\", names=[\"open\", \"high\", \"close\", \"low\", \"volume\", \"price_change\", \n",
    "                                            \"p_change\", \"ma5\", \"ma10\", \"ma20\", \"v_ma5\", \"v_ma10\", \"v_ma20\",\n",
    "                                            \"turnover\"])\n",
    "print(data.head())"
   ]
  },
  {
   "cell_type": "code",
   "execution_count": 107,
   "metadata": {},
   "outputs": [],
   "source": [
    "# 保存'open'列的数据\n",
    "data[:10].to_csv(\"test.csv\", columns=[\"open\"])"
   ]
  },
  {
   "cell_type": "code",
   "execution_count": 109,
   "metadata": {},
   "outputs": [],
   "source": [
    "# pd.read_csv(\"test.csv\")"
   ]
  },
  {
   "cell_type": "code",
   "execution_count": 114,
   "metadata": {},
   "outputs": [],
   "source": [
    "data[:10].to_csv(\"test.csv\", columns=[\"open\"], index=False, mode=\"a\", header=False)"
   ]
  },
  {
   "cell_type": "markdown",
   "metadata": {},
   "source": [
    "### 4.5.2 HDF5"
   ]
  },
  {
   "cell_type": "code",
   "execution_count": 10,
   "metadata": {},
   "outputs": [],
   "source": [
    "day_close = pd.read_hdf(\"./stock_data/day/day_close.h5\")"
   ]
  },
  {
   "cell_type": "code",
   "execution_count": 11,
   "metadata": {},
   "outputs": [],
   "source": [
    "day_close.to_hdf(\"test.h5\", key=\"close\")"
   ]
  },
  {
   "cell_type": "code",
   "execution_count": 13,
   "metadata": {},
   "outputs": [
    {
     "name": "stdout",
     "output_type": "stream",
     "text": [
      "   000001.SZ  000002.SZ  000004.SZ  000005.SZ  000006.SZ  000007.SZ  \\\n",
      "0      16.30      17.71       4.58       2.88      14.60       2.62   \n",
      "1      17.02      19.20       4.65       3.02      15.97       2.65   \n",
      "2      17.02      17.28       4.56       3.06      14.37       2.63   \n",
      "3      16.18      16.97       4.49       2.95      13.10       2.73   \n",
      "4      16.95      17.19       4.55       2.99      13.18       2.77   \n",
      "\n",
      "   000008.SZ  000009.SZ  000010.SZ  000011.SZ  ...  001965.SZ  603283.SH  \\\n",
      "0       4.96       4.66       5.37       6.02  ...        NaN        NaN   \n",
      "1       4.95       4.70       5.37       6.27  ...        NaN        NaN   \n",
      "2       4.82       4.47       5.37       5.96  ...        NaN        NaN   \n",
      "3       4.89       4.33       5.37       5.77  ...        NaN        NaN   \n",
      "4       4.97       4.42       5.37       5.92  ...        NaN        NaN   \n",
      "\n",
      "   002920.SZ  002921.SZ  300684.SZ  002922.SZ  300735.SZ  603329.SH  \\\n",
      "0        NaN        NaN        NaN        NaN        NaN        NaN   \n",
      "1        NaN        NaN        NaN        NaN        NaN        NaN   \n",
      "2        NaN        NaN        NaN        NaN        NaN        NaN   \n",
      "3        NaN        NaN        NaN        NaN        NaN        NaN   \n",
      "4        NaN        NaN        NaN        NaN        NaN        NaN   \n",
      "\n",
      "   603655.SH  603080.SH  \n",
      "0        NaN        NaN  \n",
      "1        NaN        NaN  \n",
      "2        NaN        NaN  \n",
      "3        NaN        NaN  \n",
      "4        NaN        NaN  \n",
      "\n",
      "[5 rows x 3562 columns]\n"
     ]
    }
   ],
   "source": [
    "# print(pd.read_hdf(\"test.h5\").head())\n",
    "print(pd.read_hdf(\"test.h5\", key=\"close\").head())"
   ]
  },
  {
   "cell_type": "code",
   "execution_count": 14,
   "metadata": {},
   "outputs": [],
   "source": [
    "day_open = pd.read_hdf(\"./stock_data/day/day_open.h5\")"
   ]
  },
  {
   "cell_type": "code",
   "execution_count": 15,
   "metadata": {},
   "outputs": [],
   "source": [
    "day_open.to_hdf(\"test.h5\", key=\"open\")"
   ]
  },
  {
   "cell_type": "code",
   "execution_count": 16,
   "metadata": {},
   "outputs": [
    {
     "name": "stdout",
     "output_type": "stream",
     "text": [
      "   000001.SZ  000002.SZ  000004.SZ  000005.SZ  000006.SZ  000007.SZ  \\\n",
      "0      16.30      17.71       4.58       2.88      14.60       2.62   \n",
      "1      17.02      19.20       4.65       3.02      15.97       2.65   \n",
      "2      17.02      17.28       4.56       3.06      14.37       2.63   \n",
      "3      16.18      16.97       4.49       2.95      13.10       2.73   \n",
      "4      16.95      17.19       4.55       2.99      13.18       2.77   \n",
      "\n",
      "   000008.SZ  000009.SZ  000010.SZ  000011.SZ  ...  001965.SZ  603283.SH  \\\n",
      "0       4.96       4.66       5.37       6.02  ...        NaN        NaN   \n",
      "1       4.95       4.70       5.37       6.27  ...        NaN        NaN   \n",
      "2       4.82       4.47       5.37       5.96  ...        NaN        NaN   \n",
      "3       4.89       4.33       5.37       5.77  ...        NaN        NaN   \n",
      "4       4.97       4.42       5.37       5.92  ...        NaN        NaN   \n",
      "\n",
      "   002920.SZ  002921.SZ  300684.SZ  002922.SZ  300735.SZ  603329.SH  \\\n",
      "0        NaN        NaN        NaN        NaN        NaN        NaN   \n",
      "1        NaN        NaN        NaN        NaN        NaN        NaN   \n",
      "2        NaN        NaN        NaN        NaN        NaN        NaN   \n",
      "3        NaN        NaN        NaN        NaN        NaN        NaN   \n",
      "4        NaN        NaN        NaN        NaN        NaN        NaN   \n",
      "\n",
      "   603655.SH  603080.SH  \n",
      "0        NaN        NaN  \n",
      "1        NaN        NaN  \n",
      "2        NaN        NaN  \n",
      "3        NaN        NaN  \n",
      "4        NaN        NaN  \n",
      "\n",
      "[5 rows x 3562 columns]\n"
     ]
    }
   ],
   "source": [
    "print(pd.read_hdf(\"test.h5\", key=\"close\").head())"
   ]
  },
  {
   "cell_type": "markdown",
   "metadata": {},
   "source": [
    "### 4.5.3 JSON"
   ]
  },
  {
   "cell_type": "code",
   "execution_count": 20,
   "metadata": {},
   "outputs": [
    {
     "name": "stdout",
     "output_type": "stream",
     "text": [
      "                                        article_link  \\\n",
      "0  https://www.huffingtonpost.com/entry/versace-b...   \n",
      "1  https://www.huffingtonpost.com/entry/roseanne-...   \n",
      "2  https://local.theonion.com/mom-starting-to-fea...   \n",
      "3  https://politics.theonion.com/boehner-just-wan...   \n",
      "4  https://www.huffingtonpost.com/entry/jk-rowlin...   \n",
      "\n",
      "                                            headline  is_sarcastic  \n",
      "0  former versace store clerk sues over secret 'b...             0  \n",
      "1  the 'roseanne' revival catches up to our thorn...             0  \n",
      "2  mom starting to fear son's web series closest ...             1  \n",
      "3  boehner just wants wife to listen, not come up...             1  \n",
      "4  j.k. rowling wishes snape happy birthday in th...             0  \n"
     ]
    }
   ],
   "source": [
    "sa = pd.read_json(\"Sarcasm_Headlines_Dataset.json\", orient=\"records\", lines=True)\n",
    "print(sa.head())"
   ]
  },
  {
   "cell_type": "code",
   "execution_count": 21,
   "metadata": {},
   "outputs": [],
   "source": [
    "sa.to_json(\"test.json\", orient=\"records\", lines=True)"
   ]
  }
 ],
 "metadata": {
  "kernelspec": {
   "display_name": "Python 3",
   "language": "python",
   "name": "python3"
  },
  "language_info": {
   "codemirror_mode": {
    "name": "ipython",
    "version": 3
   },
   "file_extension": ".py",
   "mimetype": "text/x-python",
   "name": "python",
   "nbconvert_exporter": "python",
   "pygments_lexer": "ipython3",
   "version": "3.6.3"
  }
 },
 "nbformat": 4,
 "nbformat_minor": 2
}
