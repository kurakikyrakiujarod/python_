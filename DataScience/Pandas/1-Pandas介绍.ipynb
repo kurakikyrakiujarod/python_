{
 "cells": [
  {
   "cell_type": "markdown",
   "metadata": {},
   "source": [
    "### Pandas 数据分析处理库"
   ]
  },
  {
   "cell_type": "code",
   "execution_count": 30,
   "metadata": {},
   "outputs": [],
   "source": [
    "import pandas as pd"
   ]
  },
  {
   "cell_type": "code",
   "execution_count": 31,
   "metadata": {},
   "outputs": [],
   "source": [
    "df = pd.read_csv('./data/MSFT.csv')"
   ]
  },
  {
   "cell_type": "code",
   "execution_count": 32,
   "metadata": {},
   "outputs": [],
   "source": [
    "# print(df)"
   ]
  },
  {
   "cell_type": "markdown",
   "metadata": {},
   "source": [
    ".head()可以读取前几条数据，指定前几条都可以"
   ]
  },
  {
   "cell_type": "code",
   "execution_count": 33,
   "metadata": {},
   "outputs": [
    {
     "name": "stdout",
     "output_type": "stream",
     "text": [
      "         Date   Open   High    Low  Close      Volume  Ex-Dividend  \\\n",
      "0  2017-12-29  85.63  86.05  85.50  85.54  18162779.0          0.0   \n",
      "1  2017-12-28  85.90  85.93  85.55  85.72   9872795.0          0.0   \n",
      "\n",
      "   Split Ratio  Adj. Open  Adj. High  Adj. Low  Adj. Close  Adj. Volume  \n",
      "0          1.0      85.63      86.05     85.50       85.54   18162779.0  \n",
      "1          1.0      85.90      85.93     85.55       85.72    9872795.0  \n"
     ]
    }
   ],
   "source": [
    "# head()方法默认显示5条数据，可以通过输入数字来控制显示条数\n",
    "print(df.head(2))"
   ]
  },
  {
   "cell_type": "markdown",
   "metadata": {},
   "source": [
    ".info返回当前的信息"
   ]
  },
  {
   "cell_type": "code",
   "execution_count": 34,
   "metadata": {},
   "outputs": [
    {
     "name": "stdout",
     "output_type": "stream",
     "text": [
      "<class 'pandas.core.frame.DataFrame'>\n",
      "RangeIndex: 147 entries, 0 to 146\n",
      "Data columns (total 13 columns):\n",
      "Date           147 non-null object\n",
      "Open           147 non-null float64\n",
      "High           147 non-null float64\n",
      "Low            147 non-null float64\n",
      "Close          147 non-null float64\n",
      "Volume         147 non-null float64\n",
      "Ex-Dividend    147 non-null float64\n",
      "Split Ratio    147 non-null float64\n",
      "Adj. Open      147 non-null float64\n",
      "Adj. High      147 non-null float64\n",
      "Adj. Low       147 non-null float64\n",
      "Adj. Close     147 non-null float64\n",
      "Adj. Volume    147 non-null float64\n",
      "dtypes: float64(12), object(1)\n",
      "memory usage: 15.0+ KB\n"
     ]
    }
   ],
   "source": [
    "df.info() # 返回数据当前的信息"
   ]
  },
  {
   "cell_type": "code",
   "execution_count": 35,
   "metadata": {},
   "outputs": [
    {
     "name": "stdout",
     "output_type": "stream",
     "text": [
      "RangeIndex(start=0, stop=147, step=1)\n"
     ]
    }
   ],
   "source": [
    "print(df.index)"
   ]
  },
  {
   "cell_type": "code",
   "execution_count": 36,
   "metadata": {},
   "outputs": [
    {
     "name": "stdout",
     "output_type": "stream",
     "text": [
      "Index(['Date', 'Open', 'High', 'Low', 'Close', 'Volume', 'Ex-Dividend',\n",
      "       'Split Ratio', 'Adj. Open', 'Adj. High', 'Adj. Low', 'Adj. Close',\n",
      "       'Adj. Volume'],\n",
      "      dtype='object')\n"
     ]
    }
   ],
   "source": [
    "print(df.columns)"
   ]
  },
  {
   "cell_type": "code",
   "execution_count": 37,
   "metadata": {},
   "outputs": [
    {
     "name": "stdout",
     "output_type": "stream",
     "text": [
      "Date            object\n",
      "Open           float64\n",
      "High           float64\n",
      "Low            float64\n",
      "Close          float64\n",
      "Volume         float64\n",
      "Ex-Dividend    float64\n",
      "Split Ratio    float64\n",
      "Adj. Open      float64\n",
      "Adj. High      float64\n",
      "Adj. Low       float64\n",
      "Adj. Close     float64\n",
      "Adj. Volume    float64\n",
      "dtype: object\n"
     ]
    }
   ],
   "source": [
    "# 查看数据类型\n",
    "print(df.dtypes)"
   ]
  },
  {
   "cell_type": "code",
   "execution_count": 38,
   "metadata": {},
   "outputs": [
    {
     "name": "stdout",
     "output_type": "stream",
     "text": [
      "[['2017-12-29' 85.63 86.05 ... 85.5 85.54 18162779.0]\n",
      " ['2017-12-28' 85.9 85.93 ... 85.55 85.72 9872795.0]\n",
      " ['2017-12-27' 85.65 85.98 ... 85.215 85.71 13000828.0]\n",
      " ...\n",
      " ['2017-06-05' 71.97 72.89 ... 71.069819656189 71.534975139247 29507429.0]\n",
      " ['2017-06-02' 70.44 71.86 ... 69.516002404271 71.020335030332 34586054.0]\n",
      " ['2017-06-01' 70.24 70.61 ... 68.735135008244 69.377445451871 21066468.0]]\n"
     ]
    }
   ],
   "source": [
    "# 查看数值\n",
    "print(df.values)"
   ]
  },
  {
   "cell_type": "markdown",
   "metadata": {},
   "source": [
    "\n",
    "### 创建Dataframe类型数据"
   ]
  },
  {
   "cell_type": "code",
   "execution_count": 39,
   "metadata": {},
   "outputs": [],
   "source": [
    "data = {'country':['USSR','USA','UK'],\n",
    "       'population':[12,14,16]}"
   ]
  },
  {
   "cell_type": "code",
   "execution_count": 40,
   "metadata": {},
   "outputs": [
    {
     "name": "stdout",
     "output_type": "stream",
     "text": [
      "  country  population\n",
      "0    USSR          12\n",
      "1     USA          14\n",
      "2      UK          16\n"
     ]
    }
   ],
   "source": [
    "df_data = pd.DataFrame(data)\n",
    "print(df_data)"
   ]
  },
  {
   "cell_type": "code",
   "execution_count": 41,
   "metadata": {},
   "outputs": [
    {
     "name": "stdout",
     "output_type": "stream",
     "text": [
      "<class 'pandas.core.frame.DataFrame'>\n",
      "RangeIndex: 3 entries, 0 to 2\n",
      "Data columns (total 2 columns):\n",
      "country       3 non-null object\n",
      "population    3 non-null int64\n",
      "dtypes: int64(1), object(1)\n",
      "memory usage: 128.0+ bytes\n"
     ]
    }
   ],
   "source": [
    "df_data.info()"
   ]
  },
  {
   "cell_type": "code",
   "execution_count": 43,
   "metadata": {},
   "outputs": [
    {
     "name": "stdout",
     "output_type": "stream",
     "text": [
      "0    2017-12-29\n",
      "1    2017-12-28\n",
      "2    2017-12-27\n",
      "3    2017-12-26\n",
      "4    2017-12-22\n",
      "5    2017-12-21\n",
      "6    2017-12-20\n",
      "7    2017-12-19\n",
      "8    2017-12-18\n",
      "9    2017-12-15\n",
      "Name: Date, dtype: object\n"
     ]
    }
   ],
   "source": [
    "# 指定查看数据中某一列数据\n",
    "# Series数据结构:dataFrame中的一行/一列数据拿出来就是一个Series数据\n",
    "print(df['Date'].head(10))"
   ]
  },
  {
   "cell_type": "code",
   "execution_count": 44,
   "metadata": {},
   "outputs": [
    {
     "name": "stdout",
     "output_type": "stream",
     "text": [
      "0    2017-12-29\n",
      "1    2017-12-28\n",
      "2    2017-12-27\n",
      "3    2017-12-26\n",
      "4    2017-12-22\n",
      "5    2017-12-21\n",
      "Name: Date, dtype: object\n"
     ]
    }
   ],
   "source": [
    "print(df['Date'][:6])"
   ]
  },
  {
   "cell_type": "code",
   "execution_count": 45,
   "metadata": {},
   "outputs": [
    {
     "name": "stdout",
     "output_type": "stream",
     "text": [
      "         Date   Open     High     Low  Close      Volume  Ex-Dividend  \\\n",
      "0  2017-12-29  85.63  86.0500  85.500  85.54  18162779.0          0.0   \n",
      "1  2017-12-28  85.90  85.9300  85.550  85.72   9872795.0          0.0   \n",
      "2  2017-12-27  85.65  85.9800  85.215  85.71  13000828.0          0.0   \n",
      "3  2017-12-26  85.31  85.5346  85.030  85.40   9737412.0          0.0   \n",
      "4  2017-12-22  85.40  85.6300  84.920  85.51  14033977.0          0.0   \n",
      "\n",
      "   Split Ratio  Adj. Open  Adj. High  Adj. Low  Adj. Close  Adj. Volume  \n",
      "0          1.0      85.63    86.0500    85.500       85.54   18162779.0  \n",
      "1          1.0      85.90    85.9300    85.550       85.72    9872795.0  \n",
      "2          1.0      85.65    85.9800    85.215       85.71   13000828.0  \n",
      "3          1.0      85.31    85.5346    85.030       85.40    9737412.0  \n",
      "4          1.0      85.40    85.6300    84.920       85.51   14033977.0  \n"
     ]
    }
   ],
   "source": [
    "print(df.head())"
   ]
  },
  {
   "cell_type": "code",
   "execution_count": 47,
   "metadata": {},
   "outputs": [],
   "source": [
    "# 更改索引名称：将数据中Date列名称设置为行索引名称\n",
    "df = df.set_index('Date')"
   ]
  },
  {
   "cell_type": "code",
   "execution_count": 48,
   "metadata": {},
   "outputs": [
    {
     "name": "stdout",
     "output_type": "stream",
     "text": [
      "             Open     High     Low  Close      Volume  Ex-Dividend  \\\n",
      "Date                                                                 \n",
      "2017-12-29  85.63  86.0500  85.500  85.54  18162779.0          0.0   \n",
      "2017-12-28  85.90  85.9300  85.550  85.72   9872795.0          0.0   \n",
      "2017-12-27  85.65  85.9800  85.215  85.71  13000828.0          0.0   \n",
      "2017-12-26  85.31  85.5346  85.030  85.40   9737412.0          0.0   \n",
      "2017-12-22  85.40  85.6300  84.920  85.51  14033977.0          0.0   \n",
      "\n",
      "            Split Ratio  Adj. Open  Adj. High  Adj. Low  Adj. Close  \\\n",
      "Date                                                                  \n",
      "2017-12-29          1.0      85.63    86.0500    85.500       85.54   \n",
      "2017-12-28          1.0      85.90    85.9300    85.550       85.72   \n",
      "2017-12-27          1.0      85.65    85.9800    85.215       85.71   \n",
      "2017-12-26          1.0      85.31    85.5346    85.030       85.40   \n",
      "2017-12-22          1.0      85.40    85.6300    84.920       85.51   \n",
      "\n",
      "            Adj. Volume  \n",
      "Date                     \n",
      "2017-12-29   18162779.0  \n",
      "2017-12-28    9872795.0  \n",
      "2017-12-27   13000828.0  \n",
      "2017-12-26    9737412.0  \n",
      "2017-12-22   14033977.0  \n"
     ]
    }
   ],
   "source": [
    "print(df.head())"
   ]
  },
  {
   "cell_type": "code",
   "execution_count": 49,
   "metadata": {},
   "outputs": [],
   "source": [
    "Volume = df['Volume']"
   ]
  },
  {
   "cell_type": "code",
   "execution_count": 50,
   "metadata": {},
   "outputs": [
    {
     "name": "stdout",
     "output_type": "stream",
     "text": [
      "18162779.0\n"
     ]
    }
   ],
   "source": [
    "# 根据索引名称获取对应的值\n",
    "print(Volume['2017-12-29'])"
   ]
  },
  {
   "cell_type": "code",
   "execution_count": 51,
   "metadata": {},
   "outputs": [
    {
     "name": "stdout",
     "output_type": "stream",
     "text": [
      "Date\n",
      "2017-12-29    18172779.0\n",
      "2017-12-28     9882795.0\n",
      "2017-12-27    13010828.0\n",
      "2017-12-26     9747412.0\n",
      "2017-12-22    14043977.0\n",
      "Name: Volume, dtype: float64\n"
     ]
    }
   ],
   "source": [
    "# 数据进行运算\n",
    "Volume = Volume+10000\n",
    "print(Volume.head())"
   ]
  },
  {
   "cell_type": "code",
   "execution_count": 62,
   "metadata": {},
   "outputs": [
    {
     "name": "stdout",
     "output_type": "stream",
     "text": [
      "21380538.897959184\n",
      "70887350.0\n",
      "7435503.0\n"
     ]
    }
   ],
   "source": [
    "print(Volume.mean())\n",
    "print(Volume.max())\n",
    "print(Volume.min())"
   ]
  },
  {
   "cell_type": "code",
   "execution_count": 63,
   "metadata": {},
   "outputs": [
    {
     "name": "stdout",
     "output_type": "stream",
     "text": [
      "             Open        High         Low       Close        Volume  \\\n",
      "count  147.000000  147.000000  147.000000  147.000000  1.470000e+02   \n",
      "mean    76.405952   76.890656   75.897979   76.439966  2.137054e+07   \n",
      "std      5.513928    5.515937    5.487758    5.469510  8.570116e+06   \n",
      "min     68.255000   68.780000   68.020000   68.170000  7.425503e+06   \n",
      "25%     72.375000   72.875000   72.005000   72.495000  1.638913e+07   \n",
      "50%     74.180000   74.600000   73.810000   74.260000  2.021370e+07   \n",
      "75%     83.055000   83.425000   82.470000   82.880000  2.333349e+07   \n",
      "max     87.120000   87.499900   86.230000   86.850000  7.087735e+07   \n",
      "\n",
      "       Ex-Dividend  Split Ratio   Adj. Open   Adj. High    Adj. Low  \\\n",
      "count   147.000000        147.0  147.000000  147.000000  147.000000   \n",
      "mean      0.005510          1.0   75.977569   76.459470   75.472544   \n",
      "std       0.047111          0.0    5.738728    5.742828    5.711511   \n",
      "min       0.000000          1.0   67.551463   68.071051   67.318885   \n",
      "25%       0.000000          1.0   71.844172   72.217863   71.417154   \n",
      "50%       0.000000          1.0   73.657187   74.224317   73.428345   \n",
      "75%       0.000000          1.0   82.970126   83.379094   82.356309   \n",
      "max       0.420000          1.0   87.120000   87.499900   86.230000   \n",
      "\n",
      "       Adj. Close   Adj. Volume  \n",
      "count  147.000000  1.470000e+02  \n",
      "mean    76.011246  2.137054e+07  \n",
      "std      5.694605  8.570116e+06  \n",
      "min     67.467339  7.425503e+06  \n",
      "25%     71.809269  1.638913e+07  \n",
      "50%     73.886029  2.021370e+07  \n",
      "75%     82.761108  2.333349e+07  \n",
      "max     86.850000  7.087735e+07  \n"
     ]
    }
   ],
   "source": [
    "# 显示数据统计指标\n",
    "print(df.describe())"
   ]
  }
 ],
 "metadata": {
  "kernelspec": {
   "display_name": "Python 3",
   "language": "python",
   "name": "python3"
  },
  "language_info": {
   "codemirror_mode": {
    "name": "ipython",
    "version": 3
   },
   "file_extension": ".py",
   "mimetype": "text/x-python",
   "name": "python",
   "nbconvert_exporter": "python",
   "pygments_lexer": "ipython3",
   "version": "3.6.3"
  }
 },
 "nbformat": 4,
 "nbformat_minor": 2
}
