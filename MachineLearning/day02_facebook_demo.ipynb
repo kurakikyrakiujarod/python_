{
 "cells": [
  {
   "cell_type": "code",
   "execution_count": 1,
   "metadata": {},
   "outputs": [],
   "source": [
    "import pandas as pd"
   ]
  },
  {
   "cell_type": "code",
   "execution_count": 2,
   "metadata": {},
   "outputs": [],
   "source": [
    "# 1、获取数据\n",
    "data = pd.read_csv(\"./FBlocation/train.csv\")"
   ]
  },
  {
   "cell_type": "code",
   "execution_count": 4,
   "metadata": {},
   "outputs": [
    {
     "name": "stdout",
     "output_type": "stream",
     "text": [
      "   row_id       x       y  accuracy    time    place_id\n",
      "0       0  0.7941  9.0809        54  470702  8523065625\n",
      "1       1  5.9567  4.7968        13  186555  1757726713\n",
      "2       2  8.3078  7.0407        74  322648  1137537235\n",
      "3       3  7.3665  2.5165        65  704587  6567393236\n",
      "4       4  4.0961  1.1307        31  472130  7440663949\n"
     ]
    }
   ],
   "source": [
    "print(data.head())"
   ]
  },
  {
   "cell_type": "code",
   "execution_count": 5,
   "metadata": {},
   "outputs": [],
   "source": [
    "# 2、基本的数据处理\n",
    "# 1）缩小数据范围\n",
    "data = data.query(\"x < 2.5 & x > 2 & y < 1.5 & y > 1.0\")"
   ]
  },
  {
   "cell_type": "code",
   "execution_count": 6,
   "metadata": {},
   "outputs": [
    {
     "name": "stdout",
     "output_type": "stream",
     "text": [
      "      row_id       x       y  accuracy    time    place_id\n",
      "112      112  2.2360  1.3655        66  623174  7663031065\n",
      "180      180  2.2003  1.2541        65  610195  2358558474\n",
      "367      367  2.4108  1.3213        74  579667  6644108708\n",
      "874      874  2.0822  1.1973       320  143566  3229876087\n",
      "1022    1022  2.0160  1.1659        65  207993  3244363975\n"
     ]
    }
   ],
   "source": [
    "print(data.head())"
   ]
  },
  {
   "cell_type": "code",
   "execution_count": 11,
   "metadata": {},
   "outputs": [
    {
     "name": "stdout",
     "output_type": "stream",
     "text": [
      "112    1970-01-08 05:06:14\n",
      "180    1970-01-08 01:29:55\n",
      "367    1970-01-07 17:01:07\n",
      "874    1970-01-02 15:52:46\n",
      "1022   1970-01-03 09:46:33\n",
      "Name: time, dtype: datetime64[ns]\n"
     ]
    }
   ],
   "source": [
    "# 2）处理时间特征\n",
    "time_value = pd.to_datetime(data[\"time\"], unit=\"s\")\n",
    "print(time_value.head())"
   ]
  },
  {
   "cell_type": "code",
   "execution_count": 14,
   "metadata": {},
   "outputs": [
    {
     "name": "stdout",
     "output_type": "stream",
     "text": [
      "Int64Index([8, 8, 7, 2, 3, 6, 6, 2, 4, 7,\n",
      "            ...\n",
      "            2, 1, 9, 2, 4, 9, 7, 9, 2, 1],\n",
      "           dtype='int64', name='time', length=83197)\n"
     ]
    }
   ],
   "source": [
    "date = pd.DatetimeIndex(time_value)\n",
    "print(date.day)"
   ]
  },
  {
   "cell_type": "code",
   "execution_count": 13,
   "metadata": {},
   "outputs": [],
   "source": [
    "data[\"day\"] = date.day"
   ]
  },
  {
   "cell_type": "code",
   "execution_count": 15,
   "metadata": {},
   "outputs": [],
   "source": [
    "data[\"weekday\"] = date.weekday"
   ]
  },
  {
   "cell_type": "code",
   "execution_count": 16,
   "metadata": {},
   "outputs": [],
   "source": [
    "data[\"hour\"] = date.hour"
   ]
  },
  {
   "cell_type": "code",
   "execution_count": 17,
   "metadata": {},
   "outputs": [
    {
     "name": "stdout",
     "output_type": "stream",
     "text": [
      "      row_id       x       y  accuracy    time    place_id  day  weekday  hour\n",
      "112      112  2.2360  1.3655        66  623174  7663031065    8        3     5\n",
      "180      180  2.2003  1.2541        65  610195  2358558474    8        3     1\n",
      "367      367  2.4108  1.3213        74  579667  6644108708    7        2    17\n",
      "874      874  2.0822  1.1973       320  143566  3229876087    2        4    15\n",
      "1022    1022  2.0160  1.1659        65  207993  3244363975    3        5     9\n"
     ]
    }
   ],
   "source": [
    "print(data.head())"
   ]
  },
  {
   "cell_type": "code",
   "execution_count": 22,
   "metadata": {},
   "outputs": [
    {
     "name": "stdout",
     "output_type": "stream",
     "text": [
      "place_id\n",
      "1012165853     1\n",
      "1013991737     3\n",
      "1014605271    28\n",
      "1015645743     4\n",
      "1017236154    31\n",
      "Name: row_id, dtype: int64\n"
     ]
    }
   ],
   "source": [
    "# 3）过滤签到次数少的地点\n",
    "place_count = data.groupby(\"place_id\").count()[\"row_id\"]\n",
    "print(place_count.head())"
   ]
  },
  {
   "cell_type": "code",
   "execution_count": 24,
   "metadata": {},
   "outputs": [
    {
     "name": "stdout",
     "output_type": "stream",
     "text": [
      "place_id\n",
      "1014605271    28\n",
      "1015645743     4\n",
      "1017236154    31\n",
      "1024951487     5\n",
      "1028119817     4\n",
      "Name: row_id, dtype: int64\n"
     ]
    }
   ],
   "source": [
    "print(place_count[place_count > 3].head())"
   ]
  },
  {
   "cell_type": "code",
   "execution_count": 28,
   "metadata": {},
   "outputs": [],
   "source": [
    "# data[\"place_id\"].isin(place_count[place_count > 3].index.values)\n",
    "data_final = data[data[\"place_id\"].isin(place_count[place_count > 3].index.values)]"
   ]
  },
  {
   "cell_type": "code",
   "execution_count": 29,
   "metadata": {},
   "outputs": [
    {
     "name": "stdout",
     "output_type": "stream",
     "text": [
      "      row_id       x       y  accuracy    time    place_id  day  weekday  hour\n",
      "112      112  2.2360  1.3655        66  623174  7663031065    8        3     5\n",
      "367      367  2.4108  1.3213        74  579667  6644108708    7        2    17\n",
      "874      874  2.0822  1.1973       320  143566  3229876087    2        4    15\n",
      "1022    1022  2.0160  1.1659        65  207993  3244363975    3        5     9\n",
      "1045    1045  2.3859  1.1660       498  503378  6438240873    6        1    19\n"
     ]
    }
   ],
   "source": [
    "print(data_final.head())"
   ]
  },
  {
   "cell_type": "code",
   "execution_count": 30,
   "metadata": {},
   "outputs": [],
   "source": [
    "# 筛选特征值和目标值\n",
    "x = data_final[[\"x\", \"y\", \"accuracy\", \"day\", \"weekday\", \"hour\"]]\n",
    "y = data_final[\"place_id\"]"
   ]
  },
  {
   "cell_type": "code",
   "execution_count": 32,
   "metadata": {},
   "outputs": [
    {
     "name": "stdout",
     "output_type": "stream",
     "text": [
      "           x       y  accuracy  day  weekday  hour\n",
      "112   2.2360  1.3655        66    8        3     5\n",
      "367   2.4108  1.3213        74    7        2    17\n",
      "874   2.0822  1.1973       320    2        4    15\n",
      "1022  2.0160  1.1659        65    3        5     9\n",
      "1045  2.3859  1.1660       498    6        1    19\n"
     ]
    }
   ],
   "source": [
    "print(x.head())"
   ]
  },
  {
   "cell_type": "code",
   "execution_count": 34,
   "metadata": {},
   "outputs": [
    {
     "name": "stdout",
     "output_type": "stream",
     "text": [
      "112     7663031065\n",
      "367     6644108708\n",
      "874     3229876087\n",
      "1022    3244363975\n",
      "1045    6438240873\n",
      "Name: place_id, dtype: int64\n"
     ]
    }
   ],
   "source": [
    "print(y.head())"
   ]
  },
  {
   "cell_type": "code",
   "execution_count": 35,
   "metadata": {},
   "outputs": [],
   "source": [
    "# 数据集划分\n",
    "from sklearn.model_selection import train_test_split"
   ]
  },
  {
   "cell_type": "code",
   "execution_count": 36,
   "metadata": {},
   "outputs": [],
   "source": [
    "x_train, x_test, y_train, y_test = train_test_split(x, y)"
   ]
  },
  {
   "cell_type": "code",
   "execution_count": 37,
   "metadata": {},
   "outputs": [],
   "source": [
    "from sklearn.preprocessing import StandardScaler\n",
    "from sklearn.neighbors import KNeighborsClassifier\n",
    "from sklearn.model_selection import GridSearchCV"
   ]
  },
  {
   "cell_type": "code",
   "execution_count": 38,
   "metadata": {
    "scrolled": false
   },
   "outputs": [
    {
     "name": "stderr",
     "output_type": "stream",
     "text": [
      "d:\\users\\lib\\site-packages\\sklearn\\model_selection\\_split.py:657: Warning: The least populated class in y has only 1 members, which is too few. The minimum number of members in any class cannot be less than n_splits=3.\n",
      "  % (min_groups, self.n_splits)), Warning)\n"
     ]
    },
    {
     "name": "stdout",
     "output_type": "stream",
     "text": [
      "y_predict:\n",
      " [1540382716 1533408099 1533408099 ... 2367979052 6644108708 1430541006]\n",
      "直接比对真实值和预测值:\n",
      " 24167233     True\n",
      "13720787     True\n",
      "11237195     True\n",
      "13031721     True\n",
      "5671499      True\n",
      "14884363     True\n",
      "10682396     True\n",
      "24127214    False\n",
      "17709468     True\n",
      "27958906    False\n",
      "17916554    False\n",
      "29007542     True\n",
      "24992416     True\n",
      "10458362    False\n",
      "25138793     True\n",
      "10150121    False\n",
      "12150630    False\n",
      "27161435    False\n",
      "19473046    False\n",
      "8478596     False\n",
      "20517337    False\n",
      "27151477    False\n",
      "19926232     True\n",
      "9184790     False\n",
      "25623816    False\n",
      "21910497    False\n",
      "21820410    False\n",
      "5674027      True\n",
      "5697133     False\n",
      "6927799      True\n",
      "            ...  \n",
      "2736363     False\n",
      "9980674      True\n",
      "12734797     True\n",
      "3131471     False\n",
      "22231951     True\n",
      "4036397     False\n",
      "4262669     False\n",
      "18336177     True\n",
      "26331661     True\n",
      "2061546      True\n",
      "9668776     False\n",
      "4782477     False\n",
      "5035875      True\n",
      "19804862     True\n",
      "26278729    False\n",
      "20453516    False\n",
      "29029618    False\n",
      "8859393      True\n",
      "22959337    False\n",
      "4454408     False\n",
      "21327673     True\n",
      "26279868    False\n",
      "15944798    False\n",
      "15838897    False\n",
      "17566335    False\n",
      "22753815     True\n",
      "2719284      True\n",
      "357434       True\n",
      "4654444      True\n",
      "16808464    False\n",
      "Name: place_id, Length: 20228, dtype: bool\n",
      "准确率为：\n",
      " 0.3633577219695472\n",
      "最佳参数：\n",
      " {'n_neighbors': 7}\n",
      "最佳结果：\n",
      " 0.3357008668138822\n",
      "最佳估计器:\n",
      " KNeighborsClassifier(algorithm='auto', leaf_size=30, metric='minkowski',\n",
      "                     metric_params=None, n_jobs=None, n_neighbors=7, p=2,\n",
      "                     weights='uniform')\n",
      "交叉验证结果:\n",
      " {'mean_fit_time': array([0.04662752, 0.04029369, 0.03917567, 0.03947457]), 'std_fit_time': array([0.00415485, 0.0016825 , 0.00145602, 0.00124546]), 'mean_score_time': array([0.98085888, 0.98642667, 0.94063632, 1.01609707]), 'std_score_time': array([0.00745473, 0.12585385, 0.0143784 , 0.00660335]), 'param_n_neighbors': masked_array(data=[3, 5, 7, 9],\n",
      "             mask=[False, False, False, False],\n",
      "       fill_value='?',\n",
      "            dtype=object), 'params': [{'n_neighbors': 3}, {'n_neighbors': 5}, {'n_neighbors': 7}, {'n_neighbors': 9}], 'split0_test_score': array([0.3172679 , 0.3322623 , 0.3322623 , 0.32870844]), 'split1_test_score': array([0.32439917, 0.33448719, 0.33493225, 0.33152013]), 'split2_test_score': array([0.33073949, 0.33997691, 0.34002711, 0.335308  ]), 'mean_test_score': array([0.32406644, 0.33553607, 0.33570087, 0.33181174]), 'std_test_score': array([0.0055045 , 0.00323543, 0.00321604, 0.00270199]), 'rank_test_score': array([4, 2, 1, 3])}\n"
     ]
    }
   ],
   "source": [
    "# 3）特征工程：标准化\n",
    "transfer = StandardScaler()\n",
    "x_train = transfer.fit_transform(x_train)\n",
    "x_test = transfer.transform(x_test)\n",
    "\n",
    "# 4）KNN算法预估器\n",
    "estimator = KNeighborsClassifier()\n",
    "\n",
    "# 加入网格搜索与交叉验证\n",
    "# 参数准备\n",
    "param_dict = {\"n_neighbors\": [3, 5, 7, 9]}\n",
    "estimator = GridSearchCV(estimator, param_grid=param_dict, cv=3)\n",
    "estimator.fit(x_train, y_train)\n",
    "\n",
    "# 5）模型评估\n",
    "# 方法1：直接比对真实值和预测值\n",
    "y_predict = estimator.predict(x_test)\n",
    "print(\"y_predict:\\n\", y_predict)\n",
    "print(\"直接比对真实值和预测值:\\n\", y_test == y_predict)\n",
    "\n",
    "# 方法2：计算准确率\n",
    "score = estimator.score(x_test, y_test)\n",
    "print(\"准确率为：\\n\", score)\n",
    "\n",
    "# 最佳参数：best_params_\n",
    "print(\"最佳参数：\\n\", estimator.best_params_)\n",
    "# 最佳结果：best_score_\n",
    "print(\"最佳结果：\\n\", estimator.best_score_)\n",
    "# 最佳估计器：best_estimator_\n",
    "print(\"最佳估计器:\\n\", estimator.best_estimator_)\n",
    "# 交叉验证结果：cv_results_\n",
    "print(\"交叉验证结果:\\n\", estimator.cv_results_)"
   ]
  }
 ],
 "metadata": {
  "kernelspec": {
   "display_name": "Python 3",
   "language": "python",
   "name": "python3"
  },
  "language_info": {
   "codemirror_mode": {
    "name": "ipython",
    "version": 3
   },
   "file_extension": ".py",
   "mimetype": "text/x-python",
   "name": "python",
   "nbconvert_exporter": "python",
   "pygments_lexer": "ipython3",
   "version": "3.6.3"
  }
 },
 "nbformat": 4,
 "nbformat_minor": 2
}
